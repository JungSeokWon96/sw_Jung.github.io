{
 "cells": [
  {
   "cell_type": "markdown",
   "metadata": {},
   "source": [
    "# 1. 입출력문 및 연산자 "
   ]
  },
  {
   "cell_type": "markdown",
   "metadata": {},
   "source": [
    "1120번"
   ]
  },
  {
   "cell_type": "code",
   "execution_count": 31,
   "metadata": {},
   "outputs": [
    {
     "name": "stdout",
     "output_type": "stream",
     "text": [
      "2.00\n"
     ]
    }
   ],
   "source": [
    "a,b,c = map(int,input().split())\n",
    "\n",
    "print(format((a+b+c)/3,'.2f'))"
   ]
  },
  {
   "cell_type": "markdown",
   "metadata": {},
   "source": [
    "1123번"
   ]
  },
  {
   "cell_type": "code",
   "execution_count": 41,
   "metadata": {},
   "outputs": [
    {
     "name": "stdout",
     "output_type": "stream",
     "text": [
      "86.000\n"
     ]
    }
   ],
   "source": [
    "a = int(input())\n",
    "\n",
    "c = 9/5 * a + 32\n",
    "\n",
    "print(format((c),'.3f'))"
   ]
  },
  {
   "cell_type": "markdown",
   "metadata": {},
   "source": [
    "1125번"
   ]
  },
  {
   "cell_type": "code",
   "execution_count": 42,
   "metadata": {},
   "outputs": [
    {
     "name": "stdout",
     "output_type": "stream",
     "text": [
      "12 A\n"
     ]
    }
   ],
   "source": [
    "a = int(input())\n",
    "\n",
    "print( '%o'%a, '%X'%a)"
   ]
  },
  {
   "cell_type": "markdown",
   "metadata": {},
   "source": [
    "1132번"
   ]
  },
  {
   "cell_type": "code",
   "execution_count": 47,
   "metadata": {},
   "outputs": [
    {
     "name": "stdout",
     "output_type": "stream",
     "text": [
      "cat\n"
     ]
    }
   ],
   "source": [
    "a = input()\n",
    "\n",
    "print('%s'%a)"
   ]
  },
  {
   "cell_type": "markdown",
   "metadata": {},
   "source": [
    "# 2. if ~else"
   ]
  },
  {
   "cell_type": "code",
   "execution_count": 105,
   "metadata": {},
   "outputs": [
    {
     "name": "stdout",
     "output_type": "stream",
     "text": [
      "대박\n"
     ]
    }
   ],
   "source": [
    "a,b,c = map(int,input().split())\n",
    "\n",
    "d = (a-b+c)\n",
    "\n",
    "print('대박') if d % 10 == 0 else print(\"그럭저럭\")"
   ]
  },
  {
   "cell_type": "markdown",
   "metadata": {},
   "source": [
    "1163번"
   ]
  },
  {
   "cell_type": "code",
   "execution_count": 9,
   "metadata": {},
   "outputs": [
    {
     "name": "stdout",
     "output_type": "stream",
     "text": [
      "그럭저럭\n"
     ]
    }
   ],
   "source": [
    "a,b,c = map(int,input().split())\n",
    "d = a + b + c\n",
    "f = int(d / 100)\n",
    "\n",
    "print('대박') if f % 2 == 0 else print('그럭저럭')\n"
   ]
  },
  {
   "cell_type": "markdown",
   "metadata": {},
   "source": [
    "1165번"
   ]
  },
  {
   "cell_type": "code",
   "execution_count": 14,
   "metadata": {},
   "outputs": [
    {
     "name": "stdout",
     "output_type": "stream",
     "text": [
      "6\n"
     ]
    }
   ],
   "source": [
    "a, b =  map(int,input().split())\n",
    "\n",
    "c = 0\n",
    "\n",
    "while a < 90 :\n",
    "    a += 5\n",
    "    c += 1\n",
    "\n",
    "print(c+b)"
   ]
  },
  {
   "cell_type": "markdown",
   "metadata": {},
   "source": [
    "1167번"
   ]
  },
  {
   "cell_type": "code",
   "execution_count": 35,
   "metadata": {},
   "outputs": [
    {
     "name": "stdout",
     "output_type": "stream",
     "text": [
      "20\n"
     ]
    }
   ],
   "source": [
    "a = list(map(int,input().split()))\n",
    "\n",
    "a.sort()\n",
    "\n",
    "print(a[1])"
   ]
  },
  {
   "cell_type": "markdown",
   "metadata": {},
   "source": [
    "1168번"
   ]
  },
  {
   "cell_type": "code",
   "execution_count": 44,
   "metadata": {},
   "outputs": [
    {
     "name": "stdout",
     "output_type": "stream",
     "text": [
      "34\n"
     ]
    }
   ],
   "source": [
    "a, b = map(int,input().split())\n",
    "\n",
    "c = int(a / 10000)\n",
    "\n",
    "if b == 1 or b == 2:\n",
    "    print(2013 - (c+1900))\n",
    "else:\n",
    "    print(2013 - (c+2000))"
   ]
  },
  {
   "cell_type": "markdown",
   "metadata": {},
   "source": [
    "1169번"
   ]
  },
  {
   "cell_type": "code",
   "execution_count": 50,
   "metadata": {},
   "outputs": [
    {
     "name": "stdout",
     "output_type": "stream",
     "text": [
      "95 1\n"
     ]
    }
   ],
   "source": [
    "a = int(input())\n",
    "\n",
    "b = 2013 -a\n",
    "c = b % 100\n",
    "\n",
    "print(c,1) if b < 2000 else print(c,3)"
   ]
  },
  {
   "cell_type": "markdown",
   "metadata": {},
   "source": [
    "1170번"
   ]
  },
  {
   "cell_type": "code",
   "execution_count": 60,
   "metadata": {},
   "outputs": [
    {
     "name": "stdout",
     "output_type": "stream",
     "text": [
      "3102\n"
     ]
    }
   ],
   "source": [
    "a,b,c = map(int,input().split())\n",
    "\n",
    "print(f\"{a}{b}\"+format(c,'02'))"
   ]
  },
  {
   "cell_type": "markdown",
   "metadata": {},
   "source": [
    "1172번\n"
   ]
  },
  {
   "cell_type": "code",
   "execution_count": 75,
   "metadata": {},
   "outputs": [
    {
     "name": "stdout",
     "output_type": "stream",
     "text": [
      "6 7 8 "
     ]
    }
   ],
   "source": [
    "a  = list(map(int,input().split()))\n",
    "\n",
    "a.sort()\n",
    "\n",
    "for i in range(3):\n",
    "    print(a[i], end=' ')"
   ]
  },
  {
   "cell_type": "markdown",
   "metadata": {},
   "source": [
    "1173번"
   ]
  },
  {
   "cell_type": "code",
   "execution_count": 86,
   "metadata": {},
   "outputs": [
    {
     "name": "stdout",
     "output_type": "stream",
     "text": [
      "10 35\n"
     ]
    }
   ],
   "source": [
    "h,m = map(int,input().split())\n",
    "\n",
    "if m - 30 < 0:\n",
    "    if h <= 0 :\n",
    "        h += 23\n",
    "    else:\n",
    "        h -= 1\n",
    "    m += 30\n",
    "    print(h,m)\n",
    "else:\n",
    "    print(h,m-30)"
   ]
  },
  {
   "cell_type": "markdown",
   "metadata": {},
   "source": [
    "1180번"
   ]
  },
  {
   "cell_type": "code",
   "execution_count": 124,
   "metadata": {},
   "outputs": [
    {
     "name": "stdout",
     "output_type": "stream",
     "text": [
      "42\n",
      "GOOD\n"
     ]
    }
   ],
   "source": [
    "a = input()\n",
    "\n",
    "b = a[1]+a[0]\n",
    "b = int(b) * 2\n",
    "\n",
    "if b >= 100 :\n",
    "    b = b % 100\n",
    "    \n",
    "if b <= 50 :\n",
    "    print(b)\n",
    "    print('GOOD')\n",
    "else:\n",
    "    print(b)\n",
    "    print('OH MY GOD')"
   ]
  },
  {
   "cell_type": "markdown",
   "metadata": {},
   "source": [
    "1204번"
   ]
  },
  {
   "cell_type": "code",
   "execution_count": 13,
   "metadata": {},
   "outputs": [
    {
     "name": "stdout",
     "output_type": "stream",
     "text": [
      "2nd\n"
     ]
    }
   ],
   "source": [
    "a = int(input())\n",
    "\n",
    "if a % 10 == 1 :\n",
    "    print(f'{a}th') if a == 11 else print(f'{a}st')\n",
    "elif a % 10 == 2:\n",
    "    print(f'{a}th') if a == 12 else print(f'{a}nd')\n",
    "elif a % 10 == 3:\n",
    "    print(f'{a}th') if a == 13 else print(f'{a}rd')\n",
    "else:\n",
    "    print(f'{a}th')\n",
    "\n"
   ]
  },
  {
   "cell_type": "markdown",
   "metadata": {},
   "source": [
    "1205번"
   ]
  },
  {
   "cell_type": "code",
   "execution_count": 18,
   "metadata": {},
   "outputs": [
    {
     "name": "stdout",
     "output_type": "stream",
     "text": [
      "3.000000\n"
     ]
    }
   ],
   "source": [
    "a,b = map(float,input().split())\n",
    "\n",
    "c = [(a+b), (b+a),(a-b),(b-a),(a*b),(b*a),(a/b),(b/a),(a ** b),(b ** a)]\n",
    "\n",
    "print(format(max(c),'.6f'))\n"
   ]
  },
  {
   "cell_type": "markdown",
   "metadata": {},
   "source": [
    "1027번"
   ]
  },
  {
   "cell_type": "code",
   "execution_count": 32,
   "metadata": {},
   "outputs": [
    {
     "name": "stdout",
     "output_type": "stream",
     "text": [
      "도\n"
     ]
    }
   ],
   "source": [
    "a= list(map(int,input().split()))\n",
    "\n",
    "b = a.count(1)\n",
    "\n",
    "if b == 0 :\n",
    "    print('모')\n",
    "elif b == 1:\n",
    "    print('도')\n",
    "elif b == 2:\n",
    "    print('개')\n",
    "elif b == 3:\n",
    "    print('걸')\n",
    "else:\n",
    "    print('윷')"
   ]
  },
  {
   "cell_type": "markdown",
   "metadata": {},
   "source": [
    "1210번"
   ]
  },
  {
   "cell_type": "code",
   "execution_count": 28,
   "metadata": {},
   "outputs": [
    {
     "name": "stdout",
     "output_type": "stream",
     "text": [
      "angry\n"
     ]
    }
   ],
   "source": [
    "menu = [0,400,340,170,100,70]\n",
    "\n",
    "a,b = map(int,input().split())\n",
    "sum = menu[a] + menu[b]\n",
    "\n",
    "print(\"angry\") if sum > 500 else print(\"no angry\")"
   ]
  },
  {
   "cell_type": "markdown",
   "metadata": {},
   "source": [
    "1212번"
   ]
  },
  {
   "cell_type": "code",
   "execution_count": 48,
   "metadata": {},
   "outputs": [
    {
     "name": "stdout",
     "output_type": "stream",
     "text": [
      "no\n"
     ]
    }
   ],
   "source": [
    "a = list(map(int,input().split()))\n",
    "a.sort()\n",
    "\n",
    "if a[2] < a[1] + a[0]:\n",
    "    print('yes')\n",
    "else:\n",
    "    print('no')"
   ]
  },
  {
   "cell_type": "markdown",
   "metadata": {},
   "source": [
    "1214번"
   ]
  },
  {
   "cell_type": "code",
   "execution_count": 61,
   "metadata": {},
   "outputs": [
    {
     "name": "stdout",
     "output_type": "stream",
     "text": [
      "29\n"
     ]
    }
   ],
   "source": [
    "a,b = map(int,input().split())\n",
    "\n",
    "c = 28\n",
    "\n",
    "if a % 400 == 0 or (a % 4 == 0 and a % 100 != 0) :\n",
    "    c =29\n",
    "else:\n",
    "    c \n",
    "        \n",
    "if b < 8 :\n",
    "    if b % 2 == 0 :\n",
    "        if b == 2:\n",
    "            print(c)\n",
    "        else:\n",
    "            print(30)\n",
    "    else:\n",
    "        print(31)\n",
    "else:\n",
    "    if b % 2 == 0:\n",
    "        print(31)\n",
    "    else:\n",
    "        print(30)\n",
    "    \n",
    "    "
   ]
  },
  {
   "cell_type": "markdown",
   "metadata": {},
   "source": [
    "1218번"
   ]
  },
  {
   "cell_type": "code",
   "execution_count": 87,
   "metadata": {},
   "outputs": [
    {
     "name": "stdout",
     "output_type": "stream",
     "text": [
      "정삼각형\n"
     ]
    }
   ],
   "source": [
    "a = list(map(int,input().split()))\n",
    "a.sort()\n",
    "\n",
    "if a[0] + a[1] > a[2]:\n",
    "    if a[0] == a[1] and a[1] == a[2]:\n",
    "        print('정삼각형')\n",
    "    elif a[0] == a[1] or a[1] == a[2] or a[2] == a[0]:\n",
    "        print('이등변삼각형')\n",
    "    elif a[0]**2 + a[1]**2 == a[2]**2:\n",
    "        print('직각삼각형')\n",
    "    else:\n",
    "        print('삼각형')\n",
    "else: print('삼각형아님')"
   ]
  },
  {
   "cell_type": "markdown",
   "metadata": {},
   "source": [
    "1222번"
   ]
  },
  {
   "cell_type": "code",
   "execution_count": 88,
   "metadata": {},
   "outputs": [
    {
     "name": "stdout",
     "output_type": "stream",
     "text": [
      "same\n"
     ]
    }
   ],
   "source": [
    "a, b,d =  map(int,input().split())\n",
    "\n",
    "c = 0\n",
    "\n",
    "while a < 90 :\n",
    "    a += 5\n",
    "    c += 1\n",
    "\n",
    "f = c + b\n",
    "\n",
    "if d > f :\n",
    "    print(\"lose\")\n",
    "elif d == f:\n",
    "    print(\"same\")\n",
    "else:\n",
    "    print(\"win\") "
   ]
  },
  {
   "cell_type": "markdown",
   "metadata": {},
   "source": [
    "1224번"
   ]
  },
  {
   "cell_type": "code",
   "execution_count": 136,
   "metadata": {},
   "outputs": [
    {
     "name": "stdout",
     "output_type": "stream",
     "text": [
      "4\n"
     ]
    }
   ],
   "source": [
    "a = list(map(int,input().split()))\n",
    "b = list(map(int,input().split()))\n",
    "c = a[:6]\n",
    "d = 0\n",
    "e = a[-1]\n",
    "\n",
    "for i in range(6):\n",
    "    if b[i] == c[i]:\n",
    "        d +=1\n",
    "\n",
    "bonus = False\n",
    "if e in b:\n",
    "    bonus = True\n",
    "\n",
    "if d == 6:\n",
    "    print(1)\n",
    "elif d == 5 and bonus:\n",
    "    print(2)\n",
    "elif d == 4 :\n",
    "    print(4)"
   ]
  },
  {
   "cell_type": "markdown",
   "metadata": {},
   "source": [
    "1128번"
   ]
  },
  {
   "cell_type": "code",
   "execution_count": 139,
   "metadata": {},
   "outputs": [
    {
     "name": "stdout",
     "output_type": "stream",
     "text": [
      "비만\n"
     ]
    }
   ],
   "source": [
    "a,b = map(float,input().split())\n",
    "\n",
    "c = (a - 100) * 0.9\n",
    "d = round(((b - c) * 100)/c, 2)\n",
    "\n",
    "if d <= 10:\n",
    "    print('정상')\n",
    "elif 10 < d <= 20:\n",
    "    print('과체중')\n",
    "else:\n",
    "    print('비만')\n"
   ]
  },
  {
   "cell_type": "markdown",
   "metadata": {},
   "source": [
    "1229번"
   ]
  },
  {
   "cell_type": "code",
   "execution_count": 140,
   "metadata": {},
   "outputs": [
    {
     "name": "stdout",
     "output_type": "stream",
     "text": [
      "과체중\n"
     ]
    }
   ],
   "source": [
    "a,b = map(float,input().split())\n",
    "\n",
    "if a < 150 :\n",
    "    c = (a - 100)\n",
    "elif 150 <= a < 160:\n",
    "    c = (a - 150)/2 + 50\n",
    "else:\n",
    "    c = (a - 100)*0.9\n",
    "    \n",
    "d = round(((b - c) * 100)/c, 2)\n",
    "\n",
    "if d <= 10:\n",
    "    print('정상')\n",
    "elif 10 < d <= 20:\n",
    "    print('과체중')\n",
    "else:\n",
    "    print('비만')"
   ]
  },
  {
   "cell_type": "markdown",
   "metadata": {},
   "source": [
    "1230번"
   ]
  },
  {
   "cell_type": "code",
   "execution_count": 148,
   "metadata": {},
   "outputs": [
    {
     "name": "stdout",
     "output_type": "stream",
     "text": [
      "CRASH 168\n"
     ]
    }
   ],
   "source": [
    "a, b, c =map(int,input().split())\n",
    "\n",
    "if(a <= 170):\n",
    "    print('CRASH ' + str(a))\n",
    "elif(b <= 170):\n",
    "    print('CRASH ' + str(b))\n",
    "elif(c <= 170):\n",
    "    print('CRASH ' + str(c))\n",
    "else:\n",
    "    print('PASS')"
   ]
  },
  {
   "cell_type": "markdown",
   "metadata": {},
   "source": [
    "1231번"
   ]
  },
  {
   "cell_type": "code",
   "execution_count": 188,
   "metadata": {},
   "outputs": [
    {
     "name": "stdout",
     "output_type": "stream",
     "text": [
      "20\n"
     ]
    }
   ],
   "source": [
    "a = input() # 10+10\n",
    "\n",
    "for i in range(len(a)):\n",
    "    if a[i] == '+': # '+'가 기준이 되기 때문에 여기서 0 은 '+'이다\n",
    "        b = int(a[:i]) # '+'까지의 값 \n",
    "        c = int(a[i+1:]) #'+'부터 끝까지 /i+1를 해 '+'를 건너뛰게 하기 위해\n",
    "        result = b + c\n",
    "        print(result)\n",
    "    elif a[i] == '-':\n",
    "        b = int(a[:i])\n",
    "        c = int(a[i+1:])\n",
    "        result = b - c\n",
    "        print(result)\n",
    "    elif a[i] == '*':\n",
    "        b = int(a[:i])\n",
    "        c = int(a[i+1:])\n",
    "        result = b * c\n",
    "        print(result)\n",
    "    elif a[i] == '/':\n",
    "        b = int(a[:i])\n",
    "        c = int(a[i+1:])\n",
    "        result = float(b)/ float(c)\n",
    "        print(round(result,2))"
   ]
  },
  {
   "cell_type": "markdown",
   "metadata": {},
   "source": [
    "# 3. 단순 반복문"
   ]
  },
  {
   "cell_type": "markdown",
   "metadata": {},
   "source": [
    "1255번"
   ]
  },
  {
   "cell_type": "code",
   "execution_count": 37,
   "metadata": {},
   "outputs": [
    {
     "name": "stdout",
     "output_type": "stream",
     "text": [
      "2.00 2.01 2.02 2.03 "
     ]
    }
   ],
   "source": [
    "a,b = map(float,input().split())\n",
    "\n",
    "while a <=b :\n",
    "    print(format(a,'.2f'),end=' ')\n",
    "    a += 0.01"
   ]
  },
  {
   "cell_type": "markdown",
   "metadata": {},
   "source": [
    "1258번"
   ]
  },
  {
   "cell_type": "code",
   "execution_count": 48,
   "metadata": {},
   "outputs": [
    {
     "name": "stdout",
     "output_type": "stream",
     "text": [
      "5050\n"
     ]
    }
   ],
   "source": [
    "a = int(input())\n",
    "sum = 0\n",
    "for i in range(1,a+1):\n",
    "    sum += i\n",
    "print(sum)\n",
    "    "
   ]
  },
  {
   "cell_type": "markdown",
   "metadata": {},
   "source": [
    "1261번"
   ]
  },
  {
   "cell_type": "code",
   "execution_count": 81,
   "metadata": {},
   "outputs": [
    {
     "name": "stdout",
     "output_type": "stream",
     "text": [
      "5\n"
     ]
    }
   ],
   "source": [
    "a = list(map(int,input().split()))\n",
    "\n",
    "for i in range(len(a)):\n",
    "    if a[i] % 5 == 0 :\n",
    "        print(a[i])\n",
    "        break\n",
    "else:\n",
    "    print(0)"
   ]
  },
  {
   "cell_type": "markdown",
   "metadata": {},
   "source": [
    "1268번"
   ]
  },
  {
   "cell_type": "code",
   "execution_count": 98,
   "metadata": {},
   "outputs": [
    {
     "name": "stdout",
     "output_type": "stream",
     "text": [
      "4\n"
     ]
    }
   ],
   "source": [
    "a = int(input())\n",
    "b = list(map(int,input().split()))\n",
    "sum = 0\n",
    "for i in b:\n",
    "    if i % 2 == 1:\n",
    "        sum += 1\n",
    "        \n",
    "print(sum)\n"
   ]
  },
  {
   "cell_type": "markdown",
   "metadata": {},
   "source": [
    "1272번"
   ]
  },
  {
   "cell_type": "code",
   "execution_count": 118,
   "metadata": {},
   "outputs": [
    {
     "name": "stdout",
     "output_type": "stream",
     "text": [
      "11\n"
     ]
    }
   ],
   "source": [
    "a,b = map(int,input().split())\n",
    "money  = 0\n",
    "if a % 2 == 1:\n",
    "    money += a // 2 +1 \n",
    "else:\n",
    "   money += a / 2 * 10\n",
    "\n",
    "if b % 2 == 1:\n",
    "    money += b // 2 + 1\n",
    "else:\n",
    "    money += b // 2 * 10\n",
    "print(int(money))"
   ]
  },
  {
   "cell_type": "markdown",
   "metadata": {},
   "source": [
    "1273번"
   ]
  },
  {
   "cell_type": "code",
   "execution_count": 205,
   "metadata": {},
   "outputs": [
    {
     "name": "stdout",
     "output_type": "stream",
     "text": [
      "1 3 7 21 "
     ]
    }
   ],
   "source": [
    "a =int(input())\n",
    "\n",
    "for i in range(1,a+1):\n",
    "    if a % i == 0:\n",
    "        print(i,end=' ')\n",
    "    "
   ]
  },
  {
   "cell_type": "markdown",
   "metadata": {},
   "source": [
    "1274번"
   ]
  },
  {
   "cell_type": "code",
   "execution_count": 131,
   "metadata": {},
   "outputs": [
    {
     "name": "stdout",
     "output_type": "stream",
     "text": [
      "not prime\n"
     ]
    }
   ],
   "source": [
    "a = int(input())\n",
    "count = 0\n",
    "\n",
    "for i in range(1,a+1):\n",
    "    if a % i == 0:\n",
    "        count += 1\n",
    "\n",
    "\n",
    "if count == 2 :\n",
    "    print(\"prime\")\n",
    "else:\n",
    "    print(\"not prime\")"
   ]
  },
  {
   "cell_type": "markdown",
   "metadata": {},
   "source": [
    "1280번"
   ]
  },
  {
   "cell_type": "code",
   "execution_count": 175,
   "metadata": {},
   "outputs": [
    {
     "name": "stdout",
     "output_type": "stream",
     "text": [
      "+5-6+7=6\n"
     ]
    }
   ],
   "source": [
    "a,b = map(int,input().split())\n",
    "sub = 0\n",
    "add = 0\n",
    "for i in range(a,b+1):\n",
    "    if i % 2 == 0 :\n",
    "        sub -= i\n",
    "        print(-i,end ='')\n",
    "    else:\n",
    "        add += i\n",
    "        print(f'+{i}',end='')\n",
    "print(f'={sub+add}')\n"
   ]
  },
  {
   "cell_type": "markdown",
   "metadata": {},
   "source": [
    "1281번"
   ]
  },
  {
   "cell_type": "code",
   "execution_count": 181,
   "metadata": {},
   "outputs": [
    {
     "name": "stdout",
     "output_type": "stream",
     "text": [
      "5-6+7=6\n"
     ]
    }
   ],
   "source": [
    "a,b = map(int,input().split())\n",
    "sub = 0\n",
    "add = 0\n",
    "for i in range(a,b+1):\n",
    "    if i % 2 == 0 :\n",
    "        sub -= i\n",
    "        print(-i,end ='')\n",
    "    else:\n",
    "        if a == i:\n",
    "            add += i\n",
    "            print(f'{i}',end='')\n",
    "        else:\n",
    "            add += i\n",
    "            print(f'+{i}',end='')\n",
    "print(f'={sub+add}')\n"
   ]
  },
  {
   "cell_type": "markdown",
   "metadata": {},
   "source": [
    "1281번"
   ]
  },
  {
   "cell_type": "code",
   "execution_count": 182,
   "metadata": {},
   "outputs": [
    {
     "name": "stdout",
     "output_type": "stream",
     "text": [
      "9 5\n"
     ]
    }
   ],
   "source": [
    "import math\n",
    "\n",
    "n = int(input())\n",
    "k = 0\n",
    "\n",
    "for i in range(1, n):\n",
    "    if math.sqrt(n - i) % 1 == 0:\n",
    "        k = i\n",
    "        n = int(math.sqrt(n - 1))\n",
    "        break\n",
    "\n",
    "print(k, n)"
   ]
  },
  {
   "cell_type": "markdown",
   "metadata": {},
   "source": [
    "1283번"
   ]
  },
  {
   "cell_type": "code",
   "execution_count": 197,
   "metadata": {},
   "outputs": [
    {
     "name": "stdout",
     "output_type": "stream",
     "text": [
      "-125\n",
      "bad\n"
     ]
    }
   ],
   "source": [
    "a = int(input())\n",
    "b = int(input())\n",
    "c = list(map(int,input().split()))\n",
    "d = a\n",
    "\n",
    "for i in range(b):\n",
    "    a += a * (c[i]/100)\n",
    "    \n",
    "f = round(a)-d\n",
    "print(f)\n",
    "if f < 0 :\n",
    "    print('bad')\n",
    "elif f == 0:\n",
    "    print('same')\n",
    "else:\n",
    "    print('good')"
   ]
  },
  {
   "cell_type": "markdown",
   "metadata": {},
   "source": [
    "1284번\n",
    "\n",
    "소수  = 1과 자기 자신만을 약수로 가지는 수\n",
    "\n",
    "print(*b)  = 원래대로 print(b)를 하면 [3,7]로 나오지만  앞과 같이 *를 붙이면 대괄호 없이 한번에 출력 가능하다"
   ]
  },
  {
   "cell_type": "code",
   "execution_count": 208,
   "metadata": {},
   "outputs": [
    {
     "name": "stdout",
     "output_type": "stream",
     "text": [
      "3 7\n"
     ]
    }
   ],
   "source": [
    "a = int(input()) \n",
    "b = []\n",
    "\n",
    "# 1과 자기자신을 제외한 a의 약수 b배열에 넣기\n",
    "for i in range(2, a):\n",
    "    if a % i == 0:\n",
    "        b.append(i)\n",
    "\n",
    "if len(b) == 2:\n",
    "    if 4 in b:  # 4가 포함되있으면\n",
    "        print(\"wrong number\")\n",
    "    else:\n",
    "        print(*b) \n",
    "\n",
    "else:\n",
    "    print(\"wrong number\")"
   ]
  },
  {
   "cell_type": "markdown",
   "metadata": {},
   "source": [
    "1285번 (다시 보자)"
   ]
  },
  {
   "cell_type": "code",
   "execution_count": 213,
   "metadata": {},
   "outputs": [
    {
     "name": "stdout",
     "output_type": "stream",
     "text": [
      "3\n"
     ]
    }
   ],
   "source": [
    "a = input() #문자열\n",
    "b = '' #계산할 정수 저장하는 변수\n",
    "\n",
    "ops = ['+', '-', '*', '/', '='] #연산기호들\n",
    "op = '' #현재 연산기호 저장할 변수\n",
    "\n",
    "result = 0 #계산결과\n",
    "\n",
    "#계산식을 한글자씩 돌린다.\n",
    "for i in a:\n",
    "\n",
    "    #현재글자가 연산기호에 해당한다면 \n",
    "    if i in ops:\n",
    "\n",
    "        #연산기호에 따른 계산이 가능하게끔 n을 정수로 바꿔준다.\n",
    "        b = int(b) \n",
    "\n",
    "        #s[0]을 result에 할당한다.\n",
    "        if op == '': #현재 저장된 연산기호가 없다면\n",
    "            result = b #n을 result에 저장\n",
    "\n",
    "        #부호에 따른 계산     \n",
    "        elif op == '+':\n",
    "            result += b\n",
    "        elif op == '-':\n",
    "            result -= b\n",
    "        elif op == '*':\n",
    "            result *= b\n",
    "        elif op == '/':\n",
    "        \t#정수형 결과가 나오도록 '//'를 써야한다.\n",
    "            result //= b \n",
    "\n",
    "        #n과 연산기호 초기화\n",
    "        b = ''  \n",
    "        op = i\n",
    "\n",
    "    #현재글자가 숫자라면 n에 i값 추가\n",
    "    else:\n",
    "        b += i\n",
    "\n",
    "print(result)    "
   ]
  },
  {
   "cell_type": "markdown",
   "metadata": {},
   "source": [
    "1294번"
   ]
  },
  {
   "cell_type": "code",
   "execution_count": 223,
   "metadata": {},
   "outputs": [
    {
     "name": "stdout",
     "output_type": "stream",
     "text": [
      "qhyhu wuxvw euxwxv\n"
     ]
    }
   ],
   "source": [
    "a = input()\n",
    "b = ''\n",
    "\n",
    "for i in range(0, len(a)):\n",
    "    if a[i] == ' ':\n",
    "        b += a[i]\n",
    "    elif ord(a[i]) > 119:\n",
    "        if a[i] == 'x':\n",
    "            b += 'a'\n",
    "        elif a[i] == 'y':\n",
    "            b += 'b'\n",
    "        elif a[i] == 'z':\n",
    "            b += 'c'\n",
    "    else:\n",
    "        code = ord(a[i]) + 3\n",
    "        b += chr(code)\n",
    "\n",
    "print(b)"
   ]
  },
  {
   "cell_type": "markdown",
   "metadata": {},
   "source": [
    "1675번"
   ]
  },
  {
   "cell_type": "code",
   "execution_count": 226,
   "metadata": {},
   "outputs": [
    {
     "name": "stdout",
     "output_type": "stream",
     "text": [
      "never trust brutus\n"
     ]
    }
   ],
   "source": [
    "a = input()\n",
    "b = ''\n",
    "\n",
    "for i in range(0, len(a)):\n",
    "    if a[i] == ' ':\n",
    "        b += a[i]\n",
    "    elif a[i] == 'a':\n",
    "        b += 'x'\n",
    "    elif a[i] == 'b':\n",
    "        b += 'y'\n",
    "    elif a[i] == 'c':\n",
    "        b += 'z'\n",
    "    else:\n",
    "        c = ord(a[i]) - 3\n",
    "        b += chr(c)\n",
    "\n",
    "print(b)"
   ]
  },
  {
   "cell_type": "markdown",
   "metadata": {},
   "source": [
    "1295번"
   ]
  },
  {
   "cell_type": "code",
   "execution_count": 227,
   "metadata": {},
   "outputs": [
    {
     "name": "stdout",
     "output_type": "stream",
     "text": [
      "cODEcHALLENGE2014WITHmsp\n"
     ]
    }
   ],
   "source": [
    "a = input()\n",
    "\n",
    "print(a.swapcase())"
   ]
  },
  {
   "cell_type": "markdown",
   "metadata": {},
   "source": [
    "# 4. 중첩 반복문"
   ]
  },
  {
   "cell_type": "markdown",
   "metadata": {},
   "source": [
    "1354번"
   ]
  },
  {
   "cell_type": "code",
   "execution_count": 26,
   "metadata": {},
   "outputs": [
    {
     "name": "stdout",
     "output_type": "stream",
     "text": [
      "***\n",
      "**\n",
      "*\n",
      "\n"
     ]
    }
   ],
   "source": [
    "a = int(input())\n",
    "for i in range(a,-1,-1):\n",
    "    print('*'*(i))"
   ]
  },
  {
   "cell_type": "code",
   "execution_count": 158,
   "metadata": {},
   "outputs": [
    {
     "name": "stdout",
     "output_type": "stream",
     "text": [
      "****\n",
      "***\n",
      "**\n",
      "*\n"
     ]
    }
   ],
   "source": [
    "a = int(input())\n",
    "\n",
    "for i in range(0,a):\n",
    "    for j in range(0,a-i):\n",
    "        print('*',end='')\n",
    "    print('')"
   ]
  },
  {
   "cell_type": "markdown",
   "metadata": {},
   "source": [
    "1355번"
   ]
  },
  {
   "cell_type": "code",
   "execution_count": 28,
   "metadata": {},
   "outputs": [
    {
     "name": "stdout",
     "output_type": "stream",
     "text": [
      "***\n",
      " **\n",
      "  *\n"
     ]
    }
   ],
   "source": [
    "a = int(input())\n",
    "for i in range(a,0,-1):\n",
    "    print(' '*(a-i)+'*'*(i))"
   ]
  },
  {
   "cell_type": "code",
   "execution_count": 156,
   "metadata": {},
   "outputs": [
    {
     "name": "stdout",
     "output_type": "stream",
     "text": [
      "*****\n",
      " ****\n",
      "  ***\n",
      "   **\n",
      "    *\n"
     ]
    }
   ],
   "source": [
    "a = int(input())\n",
    "\n",
    "for i in range(0,a):\n",
    "    for j in range(0,i):\n",
    "        print(' ',end='')\n",
    "    for k in range(0,a-i):\n",
    "        print('*',end='')\n",
    "    print('')"
   ]
  },
  {
   "cell_type": "markdown",
   "metadata": {},
   "source": [
    "피라미드 찍기\n",
    "```py\n",
    "\n",
    "     *       # 공백 5칸 + 별 1개\n",
    "    ***      # 공백 4칸 + 별 3개\n",
    "   *****     # 공백 3칸 + 별 5개\n",
    "  *******    # 공백 2칸 + 별 7개\n",
    " *********   # 공백 1칸 + 별 9개\n",
    "***********  # 공백 0칸 + 별 11개\n",
    "\n",
    "```\n"
   ]
  },
  {
   "cell_type": "code",
   "execution_count": 151,
   "metadata": {},
   "outputs": [
    {
     "name": "stdout",
     "output_type": "stream",
     "text": [
      "     *\n",
      "    ***\n",
      "   *****\n",
      "  *******\n",
      " *********\n"
     ]
    }
   ],
   "source": [
    "a = int(input())\n",
    "\n",
    "for i in range(0,a):\n",
    "    b = ' '*(a-i) # 공백 개수\n",
    "    c = '*'*(1+i*2) # 별 개수\n",
    "    print(c+b)"
   ]
  },
  {
   "cell_type": "markdown",
   "metadata": {},
   "source": [
    "```py\n",
    "***********  # 공백 0칸 + 별 11개\n",
    " *********   # 공백 1칸 + 별 9개\n",
    "  *******    # 공백 2칸 + 별 7개\n",
    "   *****     # 공백 3칸 + 별 5개\n",
    "    ***      # 공백 4칸 + 별 3개\n",
    "     *       # 공백 5칸 + 별 1개\n",
    "```"
   ]
  },
  {
   "cell_type": "code",
   "execution_count": 39,
   "metadata": {},
   "outputs": [
    {
     "name": "stdout",
     "output_type": "stream",
     "text": [
      "***********\n",
      " *********\n",
      "  *******\n",
      "   *****\n",
      "    ***\n",
      "     *\n"
     ]
    }
   ],
   "source": [
    "for i in range(6):\n",
    "    print(' '*(i)+'*'*(11-(i*2))) # 공백 개수 + 별 개수"
   ]
  },
  {
   "cell_type": "code",
   "execution_count": 164,
   "metadata": {},
   "outputs": [
    {
     "name": "stdout",
     "output_type": "stream",
     "text": [
      "\n",
      "* \n",
      "***  \n",
      "*****   \n",
      "*******    \n"
     ]
    }
   ],
   "source": [
    "a = int(input())\n",
    "\n",
    "for i in range(0,a):\n",
    "    b = ' '*(i) # 공백 개수\n",
    "    c = '*'*(i*2-1) # 별 개수\n",
    "    print(c+b)"
   ]
  },
  {
   "cell_type": "markdown",
   "metadata": {},
   "source": [
    "다이아 몬드"
   ]
  },
  {
   "cell_type": "code",
   "execution_count": 74,
   "metadata": {},
   "outputs": [
    {
     "name": "stdout",
     "output_type": "stream",
     "text": [
      "     *\n",
      "    ***\n",
      "   *****\n",
      "  *******\n",
      " *********\n",
      "***********\n",
      " *********\n",
      "  *******\n",
      "   *****\n",
      "    ***\n",
      "     *\n"
     ]
    }
   ],
   "source": [
    "for i in range(6):\n",
    "    print(' '*(5-i)+'*'*(1+(i*2)))\n",
    "for i in range(5,0,-1):\n",
    "    print(' '*(6-i)+'*'*((i*2)-1))"
   ]
  },
  {
   "cell_type": "markdown",
   "metadata": {},
   "source": [
    "1356번"
   ]
  },
  {
   "cell_type": "code",
   "execution_count": 175,
   "metadata": {},
   "outputs": [
    {
     "name": "stdout",
     "output_type": "stream",
     "text": [
      "*****\n",
      "*   *\n",
      "*   *\n",
      "*   *\n",
      "*****\n"
     ]
    }
   ],
   "source": [
    "a = int(input())\n",
    "\n",
    "for i in range(1,a+1):\n",
    "    if (i == 1) or (i == a): # 맨 마지막 줄과 첫본째 줄에 별\n",
    "        for j in range(1,a+1):\n",
    "            print('*', end='')\n",
    "        print(\"\")\n",
    "    \n",
    "    else:\n",
    "        print('*',end='') # 왼쪽 별  개\n",
    "        for i in range(1,a-1): # 별과 별 사이의 공백 (공백은 1~4 까지)\n",
    "            print(' ',end='')\n",
    "        print('*',end='')\n",
    "        print('')"
   ]
  },
  {
   "cell_type": "markdown",
   "metadata": {},
   "source": [
    "1357번"
   ]
  },
  {
   "cell_type": "code",
   "execution_count": 128,
   "metadata": {},
   "outputs": [
    {
     "name": "stdout",
     "output_type": "stream",
     "text": [
      "\n",
      "*\n",
      "**\n",
      "*\n"
     ]
    }
   ],
   "source": [
    "a = int(input())\n",
    "\n",
    "for i in range(a):\n",
    "    print('*'*i)\n",
    "for i in range(a,0,-1):\n",
    "    print('*'*i)"
   ]
  },
  {
   "cell_type": "code",
   "execution_count": 132,
   "metadata": {},
   "outputs": [
    {
     "name": "stdout",
     "output_type": "stream",
     "text": [
      "*\n",
      "**\n",
      "***\n",
      "****\n",
      "***\n",
      "**\n",
      "*\n"
     ]
    }
   ],
   "source": [
    "a= int(input())\n",
    "for i in range(1,a+1):\n",
    "    for j in range(0,i):\n",
    "        print('*',end='')\n",
    "    print('')\n",
    "    \n",
    "for i in range(a-1,0,-1):\n",
    "    for j in range(0,i):\n",
    "        print('*',end='')\n",
    "    print('')"
   ]
  },
  {
   "cell_type": "markdown",
   "metadata": {},
   "source": [
    "1358번"
   ]
  },
  {
   "cell_type": "code",
   "execution_count": 141,
   "metadata": {},
   "outputs": [
    {
     "name": "stdout",
     "output_type": "stream",
     "text": [
      "  *  \n",
      " *** \n",
      "*****\n"
     ]
    }
   ],
   "source": [
    "a = int(input())\n",
    "\n",
    "for i in range(1,a+1):\n",
    "    if i % 2 == 1:\n",
    "        b = '*'*(i)\n",
    "        print(b.center(a))"
   ]
  },
  {
   "cell_type": "markdown",
   "metadata": {},
   "source": [
    "1361번"
   ]
  },
  {
   "cell_type": "code",
   "execution_count": 169,
   "metadata": {},
   "outputs": [
    {
     "name": "stdout",
     "output_type": "stream",
     "text": [
      "**\n",
      " **\n",
      "  **\n"
     ]
    }
   ],
   "source": [
    "a = int(input())\n",
    "\n",
    "for i in range(0,a):\n",
    "    for j in range(0,i):\n",
    "        print(' ',end='')\n",
    "    print('**')"
   ]
  },
  {
   "cell_type": "markdown",
   "metadata": {},
   "source": [
    "1365번"
   ]
  },
  {
   "cell_type": "code",
   "execution_count": 194,
   "metadata": {},
   "outputs": [
    {
     "name": "stdout",
     "output_type": "stream",
     "text": [
      "*********\n",
      "**     **\n",
      "* *   * *\n",
      "*  * *  *\n",
      "*   *   *\n",
      "*  * *  *\n",
      "* *   * *\n",
      "**     **\n",
      "*********\n"
     ]
    }
   ],
   "source": [
    "a = int(input())\n",
    "\n",
    "for i in range(0, a): # 맨 위에 줄 별 \n",
    "    print('*', end='')\n",
    "print()\n",
    "\n",
    "for i in range(1, a-1):\n",
    "    for j in range(0, a):\n",
    "        if (j == 0) or (j == i) or (j == a-1) or (j == a-i-1):\n",
    "            print('*', end='')\n",
    "        else:\n",
    "            print(' ', end='')\n",
    "    print()\n",
    "    \n",
    "for i in range(0, a): # 맨 아래줄 별\n",
    "    print('*', end='')\n",
    "print()"
   ]
  },
  {
   "cell_type": "markdown",
   "metadata": {},
   "source": [
    "# 5. 1차원 배열"
   ]
  },
  {
   "cell_type": "markdown",
   "metadata": {},
   "source": [
    "# 6. 문자열"
   ]
  },
  {
   "cell_type": "markdown",
   "metadata": {},
   "source": [
    "# 7. 2차원 배열"
   ]
  },
  {
   "cell_type": "markdown",
   "metadata": {},
   "source": [
    "# 8. 데이터 정렬"
   ]
  },
  {
   "cell_type": "markdown",
   "metadata": {},
   "source": [
    "# 9. 함수"
   ]
  }
 ],
 "metadata": {
  "kernelspec": {
   "display_name": "base",
   "language": "python",
   "name": "python3"
  },
  "language_info": {
   "codemirror_mode": {
    "name": "ipython",
    "version": 3
   },
   "file_extension": ".py",
   "mimetype": "text/x-python",
   "name": "python",
   "nbconvert_exporter": "python",
   "pygments_lexer": "ipython3",
   "version": "3.9.12"
  },
  "orig_nbformat": 4
 },
 "nbformat": 4,
 "nbformat_minor": 2
}
