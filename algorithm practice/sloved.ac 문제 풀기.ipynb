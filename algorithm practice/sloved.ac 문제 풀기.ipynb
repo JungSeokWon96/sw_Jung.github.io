{
 "cells": [
  {
   "cell_type": "markdown",
   "metadata": {},
   "source": [
    "# 브론즈 5"
   ]
  },
  {
   "cell_type": "markdown",
   "metadata": {},
   "source": [
    "팩토리얼"
   ]
  },
  {
   "cell_type": "code",
   "execution_count": 10,
   "metadata": {},
   "outputs": [
    {
     "name": "stdout",
     "output_type": "stream",
     "text": [
      "1\n"
     ]
    }
   ],
   "source": [
    "n = int(input())\n",
    "\n",
    "result = 1\n",
    "if n > 0:\n",
    "    for i in range(1, n+1):\n",
    "        result *= i\n",
    "print(result)\n"
   ]
  },
  {
   "cell_type": "code",
   "execution_count": 2,
   "metadata": {},
   "outputs": [
    {
     "name": "stdout",
     "output_type": "stream",
     "text": [
      "6\n"
     ]
    }
   ],
   "source": []
  },
  {
   "cell_type": "markdown",
   "metadata": {},
   "source": [
    "### 대소문자 바꾸기"
   ]
  },
  {
   "cell_type": "markdown",
   "metadata": {},
   "source": [
    "isupper()은 문자열이 대문자인지 True or False로 반환하고, lower()은 소문자로 변환, upper()은 대문자로 변환한다.\n",
    "\n",
    "- islower() : 문자열이 전부 소문자인가?\n",
    "- isupper() : 문자열이 전부 대문자인가?"
   ]
  },
  {
   "cell_type": "code",
   "execution_count": 17,
   "metadata": {},
   "outputs": [
    {
     "name": "stdout",
     "output_type": "stream",
     "text": [
      "wRONGaNSWER"
     ]
    }
   ],
   "source": [
    "for i in input():\n",
    "    if i.isupper():\n",
    "        print(i.lower(),end='')\n",
    "    else:\n",
    "        print(i.upper(),end='')"
   ]
  },
  {
   "cell_type": "code",
   "execution_count": 5,
   "metadata": {},
   "outputs": [
    {
     "name": "stdout",
     "output_type": "stream",
     "text": [
      "WrongAnswer"
     ]
    }
   ],
   "source": []
  },
  {
   "cell_type": "markdown",
   "metadata": {},
   "source": [
    "### 브론즈 2"
   ]
  },
  {
   "cell_type": "markdown",
   "metadata": {},
   "source": [
    "숫자의 개수"
   ]
  },
  {
   "cell_type": "code",
   "execution_count": 4,
   "metadata": {},
   "outputs": [
    {
     "name": "stdout",
     "output_type": "stream",
     "text": [
      "3\n",
      "1\n",
      "0\n",
      "2\n",
      "0\n",
      "0\n",
      "0\n",
      "2\n",
      "0\n",
      "0\n"
     ]
    }
   ],
   "source": [
    "ary = [ 0 for _ in range(10)]\n",
    "\n",
    "a,b,c =[int(input())for _ in range(3)]\n",
    "\n",
    "d = a* b* c\n",
    "e = list(map(int,str(d)))\n",
    "\n",
    "for i in e:\n",
    "    ary[i] += 1\n",
    "    \n",
    "for i in range(len(ary)):\n",
    "    print(ary[i])"
   ]
  },
  {
   "cell_type": "code",
   "execution_count": 6,
   "metadata": {},
   "outputs": [
    {
     "name": "stdout",
     "output_type": "stream",
     "text": [
      "1\n",
      "0\n",
      "0\n",
      "0\n",
      "0\n",
      "0\n",
      "1\n",
      "0\n",
      "0\n",
      "0\n"
     ]
    }
   ],
   "source": [
    "ary = [ 0 for _ in range(10)]"
   ]
  },
  {
   "cell_type": "markdown",
   "metadata": {},
   "source": [
    "# 브론즈 4"
   ]
  },
  {
   "cell_type": "markdown",
   "metadata": {},
   "source": [
    "알파벳 개수"
   ]
  },
  {
   "cell_type": "code",
   "execution_count": 27,
   "metadata": {},
   "outputs": [
    {
     "name": "stdout",
     "output_type": "stream",
     "text": [
      "1 1 0 0 1 0 0 0 0 1 1 0 0 1 2 0 0 0 0 0 0 0 0 0 0 0 "
     ]
    }
   ],
   "source": [
    "a = input()\n",
    "b = list(range(97,123))  # 아스키코드 숫자 범위\n",
    "\n",
    "for i in b :\n",
    "    print(a.count(chr(i)),end=' ')"
   ]
  },
  {
   "cell_type": "code",
   "execution_count": 7,
   "metadata": {},
   "outputs": [
    {
     "name": "stdout",
     "output_type": "stream",
     "text": [
      "1 0 0 0 1 0 0 0 0 0 0 1 0 0 0 2 0 0 0 0 0 0 0 0 0 0 "
     ]
    }
   ],
   "source": [
    "a = input()\n",
    "b = list(range(97,123))  # 아스키코드 숫자 범위\n"
   ]
  },
  {
   "cell_type": "markdown",
   "metadata": {},
   "source": [
    "인공지능 시계"
   ]
  },
  {
   "cell_type": "code",
   "execution_count": 61,
   "metadata": {},
   "outputs": [
    {
     "name": "stdout",
     "output_type": "stream",
     "text": [
      "14 33 40\n"
     ]
    }
   ],
   "source": [
    "h,m,s = map(int,input().split())\n",
    "d = int(input())\n",
    "\n",
    "s += d\n",
    "m += s//60\n",
    "h += m//60\n",
    "print(h%24,m%60,s%60)"
   ]
  },
  {
   "cell_type": "code",
   "execution_count": 8,
   "metadata": {},
   "outputs": [
    {
     "name": "stdout",
     "output_type": "stream",
     "text": [
      "14 51 30\n"
     ]
    }
   ],
   "source": []
  },
  {
   "cell_type": "markdown",
   "metadata": {},
   "source": [
    "모음의 개수"
   ]
  },
  {
   "cell_type": "code",
   "execution_count": 4,
   "metadata": {},
   "outputs": [
    {
     "name": "stdout",
     "output_type": "stream",
     "text": [
      "7\n",
      "14\n",
      "9\n"
     ]
    }
   ],
   "source": [
    "alp = 'a','e','i','o','u'\n",
    "\n",
    "while True:\n",
    "    w = input().lower()\n",
    "    cnt = 0\n",
    "    \n",
    "    if w == '#':\n",
    "        break\n",
    "    \n",
    "    for i in w:\n",
    "        if i in alp:\n",
    "            cnt += 1\n",
    "    print(cnt)"
   ]
  },
  {
   "cell_type": "code",
   "execution_count": 10,
   "metadata": {},
   "outputs": [
    {
     "name": "stdout",
     "output_type": "stream",
     "text": [
      "2\n",
      "2\n",
      "1\n"
     ]
    }
   ],
   "source": [
    "alp = 'a','e','i','o','u'\n",
    "\n"
   ]
  },
  {
   "cell_type": "markdown",
   "metadata": {},
   "source": [
    "방학숙제"
   ]
  },
  {
   "cell_type": "code",
   "execution_count": 38,
   "metadata": {},
   "outputs": [
    {
     "name": "stdout",
     "output_type": "stream",
     "text": [
      "15\n"
     ]
    }
   ],
   "source": [
    "import math\n",
    "\n",
    "l = int(input())\n",
    "\n",
    "a,b,c,d = [int(input()) for _ in range(4)]\n",
    "\n",
    "print(l - max(math.ceil(a/c), math.ceil(b/d)))"
   ]
  },
  {
   "cell_type": "markdown",
   "metadata": {},
   "source": [
    "### 뜨거운 붕어빵"
   ]
  },
  {
   "cell_type": "markdown",
   "metadata": {},
   "source": [
    "나는 이 문제를 어렵게 생각했다. 0으로 만든 메트릭스에 7 * 5 를 만들고 대입하며 뒤집어 주려고 했는데 그렇게 어렵게 할 필요 없이 그낭 입력받은 값을 뒤집어 준다."
   ]
  },
  {
   "cell_type": "code",
   "execution_count": 58,
   "metadata": {},
   "outputs": [
    {
     "name": "stdout",
     "output_type": "stream",
     "text": [
      "0000100\n",
      "0101110\n",
      "1111111\n",
      "0101110\n",
      "0000100\n"
     ]
    }
   ],
   "source": [
    "n,m = map(int,input().split())\n",
    "\n",
    "for _ in range(n):\n",
    "    print(input()[::-1]) "
   ]
  },
  {
   "cell_type": "markdown",
   "metadata": {},
   "source": [
    "### 과목선택"
   ]
  },
  {
   "cell_type": "markdown",
   "metadata": {},
   "source": [
    "슬라이싱 사용"
   ]
  },
  {
   "cell_type": "code",
   "execution_count": 31,
   "metadata": {},
   "outputs": [
    {
     "name": "stdout",
     "output_type": "stream",
     "text": [
      "228\n"
     ]
    }
   ],
   "source": [
    "n_list = []\n",
    "\n",
    "for i in range(6):\n",
    "    n_list.append(int(input()))\n",
    "    \n",
    "n_list1 = sorted(n_list[:4])\n",
    "n_list2 = n_list[4:]\n",
    "\n",
    "print(sum(n_list1[1:])+ max(n_list2))"
   ]
  },
  {
   "cell_type": "code",
   "execution_count": null,
   "metadata": {},
   "outputs": [],
   "source": []
  },
  {
   "cell_type": "markdown",
   "metadata": {},
   "source": [
    "### 타임카드"
   ]
  },
  {
   "cell_type": "code",
   "execution_count": 38,
   "metadata": {},
   "outputs": [
    {
     "name": "stdout",
     "output_type": "stream",
     "text": [
      "9 0 0\n",
      "8 59 59\n",
      "0 0 38\n"
     ]
    }
   ],
   "source": [
    "for _ in range(3):\n",
    "    h1, m1, s1, h2, m2, s2 = map(int, input().split())\n",
    "    t1 = h1*60*60 + m1*60 + s1\n",
    "    t2 = h2*60*60 + m2*60 + s2\n",
    "    t = t2 - t1\n",
    "    h = t//60//60 % 24\n",
    "    m = t//60 % 60\n",
    "    s = t%60\n",
    "    print(h, m, s)"
   ]
  },
  {
   "cell_type": "markdown",
   "metadata": {},
   "source": [
    "abs = 절대 값"
   ]
  },
  {
   "cell_type": "code",
   "execution_count": 91,
   "metadata": {},
   "outputs": [
    {
     "name": "stdout",
     "output_type": "stream",
     "text": [
      "0\n"
     ]
    }
   ],
   "source": [
    "a,b,c,d = map(int,input().split())\n",
    "\n",
    "print(abs((a+d)-(b+c)))"
   ]
  },
  {
   "cell_type": "markdown",
   "metadata": {},
   "source": [
    "# 브론즈 3"
   ]
  },
  {
   "cell_type": "markdown",
   "metadata": {},
   "source": [
    "ACM 호텔"
   ]
  },
  {
   "cell_type": "markdown",
   "metadata": {},
   "source": [
    "w = 각 층의 w개의 방\n",
    "h = 층\n",
    "\n",
    "yy 나 y는 층 수를 나타낸다. xx는 엘리베이터에서 부터 세었을 떄 \n",
    "즉 305호는 y = 3층 xx = 05번\n",
    "\n",
    "N 번째로 도착한 손님에게 배정되 방 번호를 계산해라"
   ]
  },
  {
   "cell_type": "markdown",
   "metadata": {},
   "source": [
    "손님은 엘리베이터를 타고 이동하는 거리는 신경 쓰지 않는다. 다만 걷는 거리가 같을 때에는 아래층의 방을 더 선호한다. 예를 들면 102 호 방보다는 301 호 방을 더 선호하는데, 102 호는 거리 2 만큼 걸어야 하지만 301 호는 거리 1 만큼만 걸으면 되기 때문이다. 같은 이유로 102 호보다 2101 호를 더 선호한다."
   ]
  },
  {
   "cell_type": "code",
   "execution_count": 179,
   "metadata": {},
   "outputs": [
    {
     "name": "stdout",
     "output_type": "stream",
     "text": [
      "402\n",
      "1203\n"
     ]
    }
   ],
   "source": [
    "for _ in range(int(input())):\n",
    "    h,w,n = map(int,input().split())\n",
    "    \n",
    "    f = n % h # 층수\n",
    "    ho = (n//h) +1 # 호수 / 이부분은   (n//h) +1 로 풀자\n",
    "    \n",
    "    if f == 0 :\n",
    "        f = h\n",
    "        ho -= 1 # f가 0 일 때 딱 떨어지게 되는데 그렇게 되면 1이 초과 하게 된다, 그렇기 때문에 뺴줘야 한다.\n",
    "        \n",
    "    print(f * 100 + ho)\n",
    "    # 이 부분은 f * 100 + ho로 대체 할 수 있다.\n",
    "    # if ho < 10 :\n",
    "    #     print(f'{f}0{ho}')\n",
    "    # else:\n",
    "    #     print(f,ho)\n",
    "    "
   ]
  },
  {
   "cell_type": "markdown",
   "metadata": {},
   "source": [
    "### 열 개씩 끊어 출력하기"
   ]
  },
  {
   "cell_type": "markdown",
   "metadata": {},
   "source": [
    "w[0:10]으로 끊어져서 0부터 9까지 10개의 문자열이 출력된 후 다시 for 문을 돌려 n[10:20]으로 10부터 19까지 10개의 문자열이 출력된다."
   ]
  },
  {
   "cell_type": "code",
   "execution_count": 199,
   "metadata": {},
   "outputs": [
    {
     "name": "stdout",
     "output_type": "stream",
     "text": [
      "BaekjoonOn\n",
      "lineJudge\n"
     ]
    }
   ],
   "source": [
    "w = input()\n",
    "\n",
    "for i in range(0,len(w),10):\n",
    "    print(w[i:i+10])"
   ]
  },
  {
   "cell_type": "code",
   "execution_count": 1,
   "metadata": {},
   "outputs": [
    {
     "name": "stdout",
     "output_type": "stream",
     "text": [
      "BaekjoonOn\n",
      "lineJudge\n"
     ]
    }
   ],
   "source": []
  },
  {
   "cell_type": "markdown",
   "metadata": {},
   "source": [
    "### 전자레인지"
   ]
  },
  {
   "cell_type": "code",
   "execution_count": 5,
   "metadata": {},
   "outputs": [
    {
     "name": "stdout",
     "output_type": "stream",
     "text": [
      "0 1 4 "
     ]
    }
   ],
   "source": [
    "a = int(input())\n",
    "\n",
    "if a % 10 !=0:\n",
    "    print(-1)\n",
    "else:\n",
    "    for i in [300,60,10]:\n",
    "        print(a//i,end=' ')\n",
    "        a = a%i"
   ]
  },
  {
   "cell_type": "code",
   "execution_count": 7,
   "metadata": {},
   "outputs": [
    {
     "name": "stdout",
     "output_type": "stream",
     "text": [
      "0 1 4 "
     ]
    }
   ],
   "source": []
  },
  {
   "cell_type": "markdown",
   "metadata": {},
   "source": [
    "별찍기 -16"
   ]
  },
  {
   "cell_type": "code",
   "execution_count": 291,
   "metadata": {},
   "outputs": [
    {
     "name": "stdout",
     "output_type": "stream",
     "text": [
      "   *\n",
      "  * *\n",
      " * * *\n",
      "* * * *\n"
     ]
    }
   ],
   "source": [
    "a = int(input())\n",
    "\n",
    "for i in range(1,a+1):\n",
    "    print(' '*(a-i)+'* '*(i-1)+'*') # 생각보다 간단한 문제 '* '에서 띄어쓰기 한번만 하면됨"
   ]
  },
  {
   "cell_type": "markdown",
   "metadata": {},
   "source": [
    "별찍기 - 17"
   ]
  },
  {
   "cell_type": "code",
   "execution_count": 317,
   "metadata": {},
   "outputs": [
    {
     "name": "stdout",
     "output_type": "stream",
     "text": [
      "  *\n",
      " * *\n",
      "*****\n"
     ]
    }
   ],
   "source": [
    "a= int(input())\n",
    "\n",
    "for i in range(1,a+1):\n",
    "    if i == 1 or i == a:\n",
    "        print(' '*(a-i)+'*'*(2*i-1))\n",
    "    else:\n",
    "        print(' '*(a-i)+'*'+' '*(2*(i-1)-1) + \"*\")"
   ]
  },
  {
   "cell_type": "markdown",
   "metadata": {},
   "source": [
    "대회 or 인턴"
   ]
  },
  {
   "cell_type": "code",
   "execution_count": 37,
   "metadata": {},
   "outputs": [
    {
     "name": "stdout",
     "output_type": "stream",
     "text": [
      "2\n"
     ]
    }
   ],
   "source": [
    "n, m, k = map(int, input().split())\n",
    "team = 0\n",
    "\n",
    "while True:\n",
    "    n -= 2\n",
    "    m -= 1\n",
    "    if n < 0 or m < 0 or n+m <k:\n",
    "         break\n",
    "    team += 1\n",
    "print(team)\n",
    "     "
   ]
  },
  {
   "cell_type": "markdown",
   "metadata": {},
   "source": [
    "먼저 k 인턴에 대한 조건이 없다고 가정하고 문제를 풀었다.\n",
    "\n",
    "n 이 2, m 이 1 일 때 한 팀이 구성되므로\n",
    "\n",
    "while (n >= 2 and m >= 1) 이 성립할 때마다 한 팀이 추가 되는 것이다.\n",
    "\n",
    "다음으로 k 인턴에 대한 조건을 추가했다.\n",
    "\n",
    "저 조건 뒤에 n + m - 3 >= k 을 더해주면 된다\n",
    "\n",
    "왜냐면 n + m 즉, 남은 학생 수에다가 3명 (n-2명, m-1명으로 구성된 한 팀) 을 제외한 숫자가 k 이상일 때 인턴을 나갈 수 있기 때문이다.\n",
    "\n",
    "즉 k인원을 빼고도 팀이 생길 수 있어야 하기에 n+m-k >=3 이어야 한다."
   ]
  },
  {
   "cell_type": "code",
   "execution_count": 38,
   "metadata": {},
   "outputs": [
    {
     "name": "stdout",
     "output_type": "stream",
     "text": [
      "2\n"
     ]
    }
   ],
   "source": [
    "n, m, k = map(int, input().split())\n",
    "team = 0\n",
    "while(n >= 2 and m >= 1 and n+m-k >= 3): # n+m-k >= 3은 k인원을 빼고도 팀이 생길 수 있어야 하기에 n+m-k >=3 이어야 한다.\n",
    "    n -= 2\n",
    "    m -= 1\n",
    "    team += 1\n",
    "print(team)"
   ]
  },
  {
   "cell_type": "code",
   "execution_count": 11,
   "metadata": {},
   "outputs": [
    {
     "name": "stdout",
     "output_type": "stream",
     "text": [
      "2\n"
     ]
    }
   ],
   "source": []
  },
  {
   "cell_type": "markdown",
   "metadata": {},
   "source": [
    "# 브론즈 2"
   ]
  },
  {
   "cell_type": "markdown",
   "metadata": {},
   "source": [
    "ox 퀴즈 \n",
    "### (내가 해결함)\n",
    "\n",
    "풀이 법 - O를 만났을 떄 cnt +=1 씩 해주다가 t[j]가 x를 만났을 때 cnt값을 초기화 해준다. 그렇게 한 뒤 list에 넣어준 후 그 값을 모두 더하면 된다."
   ]
  },
  {
   "cell_type": "code",
   "execution_count": 69,
   "metadata": {},
   "outputs": [
    {
     "name": "stdout",
     "output_type": "stream",
     "text": [
      "10\n",
      "9\n",
      "7\n",
      "55\n",
      "30\n"
     ]
    }
   ],
   "source": [
    "for i in range(int(input())):\n",
    "    t = list(input())\n",
    "    li = []\n",
    "    cnt =0 # 반복문이 돌때 마다 초기화를 반복해 주는 방식으로 진행한다.\n",
    "    for j in range(len(t)):\n",
    "        if t[j] == 'O':\n",
    "            cnt += 1\n",
    "            li.append(cnt)\n",
    "        if t[j] == 'X': \n",
    "            cnt = 0\n",
    "    print(sum(li))"
   ]
  },
  {
   "cell_type": "markdown",
   "metadata": {},
   "source": [
    "손익 분기점"
   ]
  },
  {
   "cell_type": "code",
   "execution_count": 85,
   "metadata": {},
   "outputs": [
    {
     "name": "stdout",
     "output_type": "stream",
     "text": [
      "11\n"
     ]
    }
   ],
   "source": [
    "a,b,c = map(int,input().split())\n",
    "\n",
    "if  b>=c:  # 가변비용이 노트북 가격보다 같거나 크면 적자 발생 \n",
    "    print(-1)\n",
    "else:\n",
    "    print(int(a/(c-b)+1))"
   ]
  },
  {
   "cell_type": "markdown",
   "metadata": {},
   "source": [
    "피보나치 수 - 5"
   ]
  },
  {
   "cell_type": "code",
   "execution_count": null,
   "metadata": {},
   "outputs": [],
   "source": [
    "def fibo(n):\n",
    "    if n <=1:\n",
    "        return n\n",
    "    return fibo(n-1) + fibo(n-2) # 앞 두수의 합\n",
    "\n",
    "n = int(input())\n",
    "\n",
    "print(fibo(n))"
   ]
  },
  {
   "cell_type": "code",
   "execution_count": 13,
   "metadata": {},
   "outputs": [
    {
     "name": "stdout",
     "output_type": "stream",
     "text": [
      "55\n"
     ]
    }
   ],
   "source": []
  },
  {
   "cell_type": "markdown",
   "metadata": {},
   "source": [
    "피보나치 수 - 1"
   ]
  },
  {
   "cell_type": "code",
   "execution_count": null,
   "metadata": {},
   "outputs": [],
   "source": [
    "n = int(input())\n",
    "a, b = 0, 1\n",
    "for i in range(n):\n",
    "    a, b = b, a+b\n",
    "print(a)"
   ]
  },
  {
   "cell_type": "markdown",
   "metadata": {},
   "source": [
    "시험 감독"
   ]
  },
  {
   "cell_type": "code",
   "execution_count": null,
   "metadata": {},
   "outputs": [],
   "source": [
    "n = int(input())\n",
    "a = list(map(int,input().split()))\n",
    "b,c = map(int,input().split())\n",
    "cnt =0\n",
    "\n",
    "for i in range(n):\n",
    "    a[i] -= b\n",
    "    cnt += 1\n",
    "    \n",
    "    if a[i] > 0: # 내가 여기서 부터 못풀었음\n",
    "        if a[i] % c == 0:\n",
    "            cnt += a[i] // c\n",
    "        else:\n",
    "            cnt += a[i] // c +1\n",
    "            \n",
    "print(cnt)"
   ]
  },
  {
   "attachments": {
    "image-2.png": {
     "image/png": "[encoded data removed]"
    },
    "image-3.png": {
     "image/png": "[encoded data removed]"
    },
    "image.png": {
     "image/png": "[encoded data removed]"
    }
   },
   "cell_type": "markdown",
   "metadata": {},
   "source": [
    "![image.png](attachment:image.png)\n",
    "\n",
    "![image-2.png](attachment:image-2.png)  ![image-3.png](attachment:image-3.png)"
   ]
  },
  {
   "cell_type": "code",
   "execution_count": 18,
   "metadata": {},
   "outputs": [
    {
     "name": "stdout",
     "output_type": "stream",
     "text": [
      "1\n"
     ]
    }
   ],
   "source": [
    "n = int(input()) # 시험장\n",
    "a = list(map(int,input().split())) # 응시자 수 \n",
    "b,c =map(int,input().split()) # 총 감독관 이 감독 할 수 있는 수 b / 부감독관이 감독 할 수 있는 응시자 수 c\n"
   ]
  },
  {
   "attachments": {
    "image-2.png": {
     "image/png": "[encoded data removed]"
    },
    "image.png": {
     "image/png": "[encoded data removed]"
    }
   },
   "cell_type": "markdown",
   "metadata": {},
   "source": [
    "분산 처리 - 시간초과\n",
    "\n",
    "```py\n",
    "N = int(input())\n",
    "\n",
    "for _ in range(N):\n",
    "    a, b = map(int, input().split())\n",
    "    print((a ** b) % 10)\n",
    "\n",
    "```\n",
    "![image.png](attachment:image.png) \n",
    "\n",
    "일정한 규칙이 발견된다.\n",
    "\n",
    "\n",
    "![image-2.png](attachment:image-2.png)\n",
    "\n"
   ]
  },
  {
   "cell_type": "markdown",
   "metadata": {},
   "source": [
    "```py\n",
    "for _ in range(int(input())):\n",
    "    a,b = map(int,input().split())\n",
    "    av = a % 10\n",
    "    \n",
    "    if av == 0:\n",
    "        print(10)\n",
    "    elif av in [1,5,6]:\n",
    "        print(av)\n",
    "    elif av in [4,9]: # 4,9는 패턴이 홀수 or 짝수로 나뉨\n",
    "        bv = b % 2\n",
    "        if bv == 0 :\n",
    "            print((av**av)%10)\n",
    "        else:\n",
    "            print(av) \n",
    "    else: # a의 값으로 2,3,7,8이 주어질 경우 반환값이 4개씩으로 주어져 있다.\n",
    "        # 2 => 2^1 =2, 2^2 = 4, 2^3 = 8, 2^4 = 16 -> 2,4,8,6 반복\n",
    "        # 3 => 3^1 =3, 3^2 = 9, 3^3 = 27, 3^4 = 81 -> 3,9,7,1 반복\n",
    "        # 7 => 7^1 =7, 7^2 = 9, 7^3 = 343, 7^4 = 2401 -> 7,9,3,1 반복\n",
    "        # 8 => 8^1 =8, 8^2 = 4, 8^3 = 512, 8^4 = 4096 -> 8,4,2,6 반복\n",
    "        bv = b % 4 # 빠른 조건 검색을 위해 두번째 값을 4로 나눈값을 구함\n",
    "        if bv ==0 : # 지수가 4의 배수일 때 4변 쨰 값이 반복될 것이다.\n",
    "            print((av**4)% 10)\n",
    "        else: # 지수가 4의 배수가 아니라면 \n",
    "            print((av**bv)% 10) # a ** b를 10으로 나눈다.\n",
    "```"
   ]
  },
  {
   "cell_type": "code",
   "execution_count": 93,
   "metadata": {},
   "outputs": [
    {
     "name": "stdout",
     "output_type": "stream",
     "text": [
      "1\n",
      "7\n",
      "6\n",
      "1\n",
      "9\n"
     ]
    }
   ],
   "source": [
    "T = int(input())\n",
    "\n",
    "for _ in range(T):\n",
    "    a, b = map(int, input().split())\n",
    "    a = a % 10\n",
    "    \n",
    "    if a == 0:\n",
    "        print(10)\n",
    "    elif a == 1 or a == 5 or a == 6:\n",
    "        print(a)\n",
    "    elif a == 4 or a == 9:\n",
    "        b = b % 2\n",
    "        if b == 1:\n",
    "            print(a)\n",
    "        else:\n",
    "            print((a * a) % 10)\n",
    "    else:\n",
    "        b = b % 4\n",
    "        if b == 0:\n",
    "            print((a**4) % 10 % 10 % 10)\n",
    "        else:\n",
    "            print((a**b) % 10 % 10 % 10)"
   ]
  },
  {
   "cell_type": "markdown",
   "metadata": {},
   "source": [
    "### 완전제곱수"
   ]
  },
  {
   "cell_type": "markdown",
   "metadata": {},
   "source": [
    "틀렸지만 풀어본 문제\n",
    "```py \n",
    "n,m= [int(input())for _ in range(2)]\n",
    "li = []\n",
    "\n",
    "for i in range(n,m+1):\n",
    "    for j in range(1,11):\n",
    "        k = i / (j**2)\n",
    "        if k == 1:\n",
    "            li.append(i)\n",
    "\n",
    "if len(li) > 0 :\n",
    "    print(sum(li))\n",
    "    print(min(li))\n",
    "else:\n",
    "    print(-1)\n",
    "```"
   ]
  },
  {
   "cell_type": "code",
   "execution_count": 193,
   "metadata": {},
   "outputs": [
    {
     "name": "stdout",
     "output_type": "stream",
     "text": [
      "245\n",
      "64\n"
     ]
    }
   ],
   "source": [
    "M,N = [int(input())for _ in range(2)]\n",
    "li = []\n",
    "\n",
    "for i in range(M, N+1):\n",
    "    T = int(i ** 0.5) ** 2 # 64일 때  64^0.5 = 8 -> 8^2 = 64\n",
    "    if i == T:\n",
    "        li.append(i)\n",
    "\n",
    "if li:\n",
    "    print(sum(li))\n",
    "    print(min(li))\n",
    "else:\n",
    "    print(-1)"
   ]
  },
  {
   "cell_type": "code",
   "execution_count": 20,
   "metadata": {},
   "outputs": [
    {
     "name": "stdout",
     "output_type": "stream",
     "text": [
      "330\n",
      "36\n"
     ]
    }
   ],
   "source": [
    "m,n = [int(input())for _ in range(2)]\n",
    "li = []\n",
    "\n"
   ]
  },
  {
   "cell_type": "markdown",
   "metadata": {},
   "source": [
    "### Hashing"
   ]
  },
  {
   "cell_type": "markdown",
   "metadata": {},
   "source": [
    "내가 풀긴 풀었지만 전에 풀었던 것에서 힌트를 얻었다. 그러므로 다시 한 번 풀어보자 \n",
    "\n",
    "## 50점 짜리 정답"
   ]
  },
  {
   "cell_type": "code",
   "execution_count": 228,
   "metadata": {},
   "outputs": [
    {
     "name": "stdout",
     "output_type": "stream",
     "text": [
      "4739715\n"
     ]
    }
   ],
   "source": [
    "a = int(input())\n",
    "b = 'abcdefghijklmnopqrstuvwxyz'\n",
    "l = list(input())\n",
    "\n",
    "result = 0\n",
    "for i in range(a):\n",
    "    result += (b.index(l[i])+1) * 31 ** i\n",
    "    \n",
    "print(result)"
   ]
  },
  {
   "cell_type": "markdown",
   "metadata": {},
   "source": [
    "100점 짜리 정답\n",
    "\n",
    "```py\n",
    "L = int(input())\n",
    "M = 1234567891\n",
    "r = 31\n",
    "user_input = input()\n",
    " \n",
    "answer = 0\n",
    " \n",
    "for i in range(len(user_input)):\n",
    "    num = ord(user_input[i]) - 96\n",
    "    answer += num * (r ** i)\n",
    " \n",
    "print(answer % M)\n",
    "```"
   ]
  },
  {
   "cell_type": "markdown",
   "metadata": {},
   "source": [
    "KMP는 왜 KMP일까? "
   ]
  },
  {
   "cell_type": "code",
   "execution_count": 251,
   "metadata": {},
   "outputs": [
    {
     "name": "stdout",
     "output_type": "stream",
     "text": [
      "KMP"
     ]
    }
   ],
   "source": [
    "w = input().split('-')\n",
    "\n",
    "for i in w:\n",
    "    print(i[0],end='')\n",
    "    "
   ]
  },
  {
   "cell_type": "markdown",
   "metadata": {},
   "source": [
    "햐얀칸"
   ]
  },
  {
   "cell_type": "markdown",
   "metadata": {},
   "source": [
    "```py\n",
    "w b w b w b w b # 여기서 확인 할 수 있듯이 (1,1) , (1,3) , (1,5), (1,7) 홀수 줄에서는 홀수 낄리에서 white\n",
    "b w b w b w b w # 짝수 줄에서는 (2,2), (2,4), (2,6),(2,8) 짝수 줄에서는 짝수 끼리 white\n",
    "\n",
    "```"
   ]
  },
  {
   "cell_type": "code",
   "execution_count": null,
   "metadata": {},
   "outputs": [],
   "source": [
    "ch = []\n",
    "cnt = 0\n",
    "\n",
    "for _ in range(8):\n",
    "    ch.append(input())\n",
    "for y in range(8):\n",
    "    for x in range(8):\n",
    "        if y % 2 == 1 and x % 2 == 1 and ch[y][x] == \"F\":\n",
    "            cnt += 1\n",
    "        if y % 2 == 0 and x % 2 == 0 and ch[y][x] == \"F\":\n",
    "            cnt += 1\n",
    "print(cnt)"
   ]
  },
  {
   "attachments": {
    "image-2.png": {
     "image/png": "[encoded data removed]"
    },
    "image.png": {
     "image/png": "[encoded data removed]"
    }
   },
   "cell_type": "markdown",
   "metadata": {},
   "source": [
    "![image.png](attachment:image.png) ![image-2.png](attachment:image-2.png)"
   ]
  },
  {
   "cell_type": "code",
   "execution_count": 21,
   "metadata": {},
   "outputs": [
    {
     "ename": "IndentationError",
     "evalue": "expected an indented block (1135440918.py, line 4)",
     "output_type": "error",
     "traceback": [
      "\u001b[1;36m  Input \u001b[1;32mIn [21]\u001b[1;36m\u001b[0m\n\u001b[1;33m    for _ in range(8):\u001b[0m\n\u001b[1;37m                      ^\u001b[0m\n\u001b[1;31mIndentationError\u001b[0m\u001b[1;31m:\u001b[0m expected an indented block\n"
     ]
    }
   ],
   "source": []
  },
  {
   "cell_type": "markdown",
   "metadata": {},
   "source": [
    "저항"
   ]
  },
  {
   "cell_type": "code",
   "execution_count": 282,
   "metadata": {},
   "outputs": [
    {
     "name": "stdout",
     "output_type": "stream",
     "text": [
      "4\n",
      "4700\n"
     ]
    }
   ],
   "source": [
    "color = ['black', 'brown', 'red', 'orange', 'yellow', 'green', 'blue', 'violet', 'grey', 'white']\n",
    "\n",
    "a = str(color.index(input()))\n",
    "b = str(color.index(input()))\n",
    "c = str(10**color.index(input()))\n",
    "\n",
    "print(int(a+b+c[1:]))"
   ]
  },
  {
   "attachments": {
    "image-2.png": {
     "image/png": "[encoded data removed]"
    },
    "image.png": {
     "image/png": "[encoded data removed]"
    }
   },
   "cell_type": "markdown",
   "metadata": {},
   "source": [
    "![image.png](attachment:image.png) \n",
    "\n",
    "![image-2.png](attachment:image-2.png)"
   ]
  },
  {
   "cell_type": "code",
   "execution_count": 3,
   "metadata": {},
   "outputs": [
    {
     "name": "stdout",
     "output_type": "stream",
     "text": [
      "4700\n"
     ]
    }
   ],
   "source": [
    "color = ['black', 'brown', 'red', 'orange', 'yellow', 'green', 'blue', 'violet', 'grey', 'white']\n",
    "\n"
   ]
  },
  {
   "cell_type": "markdown",
   "metadata": {},
   "source": [
    "별 찍기 - 21"
   ]
  },
  {
   "cell_type": "markdown",
   "metadata": {},
   "source": [
    "이런문제는 예제출력을 드래그하여 공백이 몇개 있는지 확인하자"
   ]
  },
  {
   "cell_type": "code",
   "execution_count": 298,
   "metadata": {},
   "outputs": [
    {
     "name": "stdout",
     "output_type": "stream",
     "text": [
      "* \n",
      " *\n",
      "* \n",
      " *\n"
     ]
    }
   ],
   "source": [
    "n=int(input())\n",
    "\n",
    "for _ in range (n):\n",
    "\n",
    "    print('* '*(n-n//2))# 홀수번쨰\n",
    "\n",
    "    print(' *'*(n//2)) # 짝수번쨰"
   ]
  },
  {
   "cell_type": "markdown",
   "metadata": {},
   "source": [
    "나누기"
   ]
  },
  {
   "cell_type": "code",
   "execution_count": 315,
   "metadata": {},
   "outputs": [
    {
     "name": "stdout",
     "output_type": "stream",
     "text": [
      "02\n"
     ]
    }
   ],
   "source": [
    "N = int(input())\n",
    "F = int(input())\n",
    "front = N // 100\n",
    "answer = front * 100\n",
    "\n",
    "while answer % F != 0:\n",
    "    answer += 1\n",
    "print(str(answer)[-2:])"
   ]
  },
  {
   "cell_type": "markdown",
   "metadata": {},
   "source": [
    "문자열 분석\n"
   ]
  },
  {
   "cell_type": "markdown",
   "metadata": {},
   "source": [
    "- isupper(): # 대문자 인지 판별\n",
    "- islower(): # 소문자 인지 판별\n",
    "- isdigit(): # 숫자 인지 판별\n",
    "- isspace(): # 빈공간 판별"
   ]
  },
  {
   "cell_type": "code",
   "execution_count": 3,
   "metadata": {},
   "outputs": [
    {
     "name": "stdout",
     "output_type": "stream",
     "text": [
      "10 2 0 2\n",
      "0 9 1 8\n",
      "5 6 0 11\n",
      "0 8 9 0\n"
     ]
    }
   ],
   "source": [
    "import sys\n",
    "\n",
    "while True:\n",
    "    line = input() #line = sys.stdin.readline().rstrip('\\n')\n",
    "\n",
    "    if not line:\n",
    "        break\n",
    "\n",
    "    # 소문자, 대문자, 숫자, 공백\n",
    "    l, u, d, s = 0, 0, 0, 0\n",
    "    for i in line:\n",
    "        if i.islower():\n",
    "            l += 1\n",
    "        elif i.isupper():\n",
    "            u += 1\n",
    "        elif i.isdigit():\n",
    "            d += 1\n",
    "        elif i.isspace():\n",
    "            s += 1\n",
    "\n",
    "    print(l, u, d, s)"
   ]
  },
  {
   "attachments": {
    "image.png": {
     "image/png": "[encoded data removed]"
    }
   },
   "cell_type": "markdown",
   "metadata": {},
   "source": [
    "![image.png](attachment:image.png)"
   ]
  },
  {
   "cell_type": "code",
   "execution_count": 23,
   "metadata": {},
   "outputs": [
    {
     "name": "stdout",
     "output_type": "stream",
     "text": [
      "10 2 0 2\n",
      "0 10 1 10\n"
     ]
    }
   ],
   "source": [
    "\n",
    "    "
   ]
  }
 ],
 "metadata": {
  "kernelspec": {
   "display_name": "base",
   "language": "python",
   "name": "python3"
  },
  "language_info": {
   "codemirror_mode": {
    "name": "ipython",
    "version": 3
   },
   "file_extension": ".py",
   "mimetype": "text/x-python",
   "name": "python",
   "nbconvert_exporter": "python",
   "pygments_lexer": "ipython3",
   "version": "3.9.12"
  }
 },
 "nbformat": 4,
 "nbformat_minor": 2
}
