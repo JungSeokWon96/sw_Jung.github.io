{
 "cells": [
  {
   "cell_type": "markdown",
   "metadata": {},
   "source": [
    "## 시간 복잡도 계산해 보기 1)"
   ]
  },
  {
   "cell_type": "markdown",
   "metadata": {},
   "source": [
    "모든 수 더하기"
   ]
  },
  {
   "cell_type": "code",
   "execution_count": 1,
   "metadata": {},
   "outputs": [
    {
     "name": "stdout",
     "output_type": "stream",
     "text": [
      "15\n"
     ]
    }
   ],
   "source": [
    "array = [3,5,1,2,4] # 5개의 데이터 (N = 5)\n",
    "summary = 0 # 합계를 저장할 변수\n",
    "\n",
    "# 모든 데이터를 하나씩 확인하며 합계를 계산\n",
    "for x in array:\n",
    "    summary += x\n",
    "\n",
    "print(summary) # 시간 복잡도는 O(N)"
   ]
  },
  {
   "cell_type": "code",
   "execution_count": 49,
   "metadata": {},
   "outputs": [
    {
     "name": "stdout",
     "output_type": "stream",
     "text": [
      "15\n"
     ]
    }
   ],
   "source": [
    "array = [3,5,1,2,4]\n"
   ]
  },
  {
   "cell_type": "markdown",
   "metadata": {},
   "source": [
    "## 시간 복잡도 계산해 보기 2)"
   ]
  },
  {
   "cell_type": "markdown",
   "metadata": {},
   "source": [
    "제곱"
   ]
  },
  {
   "cell_type": "code",
   "execution_count": 2,
   "metadata": {},
   "outputs": [
    {
     "name": "stdout",
     "output_type": "stream",
     "text": [
      "9\n",
      "3\n",
      "15\n",
      "6\n",
      "12\n",
      "3\n",
      "1\n",
      "5\n",
      "2\n",
      "4\n",
      "15\n",
      "5\n",
      "25\n",
      "10\n",
      "20\n",
      "6\n",
      "2\n",
      "10\n",
      "4\n",
      "8\n",
      "12\n",
      "4\n",
      "20\n",
      "8\n",
      "16\n"
     ]
    }
   ],
   "source": [
    "array = [3,1,5,2,4]\n",
    "\n",
    "for i in array:\n",
    "    for j in array:\n",
    "        temp = i*j\n",
    "        print(temp) # 시간 복잡도는 O(N2)"
   ]
  },
  {
   "cell_type": "code",
   "execution_count": 50,
   "metadata": {},
   "outputs": [
    {
     "name": "stdout",
     "output_type": "stream",
     "text": [
      "9\n",
      "15\n",
      "3\n",
      "6\n",
      "12\n",
      "15\n",
      "25\n",
      "5\n",
      "10\n",
      "20\n",
      "3\n",
      "5\n",
      "1\n",
      "2\n",
      "4\n",
      "6\n",
      "10\n",
      "2\n",
      "4\n",
      "8\n",
      "12\n",
      "20\n",
      "4\n",
      "8\n",
      "16\n"
     ]
    }
   ],
   "source": [
    "array = [3,5,1,2,4] \n",
    "\n"
   ]
  },
  {
   "cell_type": "markdown",
   "metadata": {},
   "source": [
    "알고리즘의 문제 해결 과정\n",
    "\n",
    "1. 지문 읽기 및 컴퓨터적 사고\n",
    "2. 요구사항(복잡도) 분석\n",
    "3. 문제 해결을 위한 아이디어 찾기\n",
    "4. 소스코드 설계및 코딩\n",
    "\n",
    "\n",
    "일반적으로 대부분의 문제 출제자들은 핵심 아이디어를 캐치한다면, 간결하게 소스코드를 작성할 수 있는 헝태로 문제를 출제 [문제를 확실하게 이해하는게 가장 중요하다!!]"
   ]
  },
  {
   "cell_type": "markdown",
   "metadata": {},
   "source": [
    "## 정수형 "
   ]
  },
  {
   "cell_type": "code",
   "execution_count": 4,
   "metadata": {},
   "outputs": [
    {
     "name": "stdout",
     "output_type": "stream",
     "text": [
      "10000\n",
      "-7\n",
      "0\n"
     ]
    }
   ],
   "source": [
    "a = 10000 # 양의 정수형\n",
    "print(a)\n",
    "\n",
    "b = -7 # 음의 정수형\n",
    "print(b)\n",
    "\n",
    "c = 0 # 0\n",
    "print(c)"
   ]
  },
  {
   "cell_type": "markdown",
   "metadata": {},
   "source": [
    "## 실수형"
   ]
  },
  {
   "cell_type": "code",
   "execution_count": 5,
   "metadata": {},
   "outputs": [
    {
     "name": "stdout",
     "output_type": "stream",
     "text": [
      "157.93\n",
      "-837.2\n",
      "5.0\n",
      "-0.7\n"
     ]
    }
   ],
   "source": [
    "a = 157.93 # 양의 실수형\n",
    "print(a)\n",
    "\n",
    "b = -837.2 # 음의 실수형\n",
    "print(b)\n",
    "\n",
    "c = 5. # 소수부가 0 알 떄 0을 생략\n",
    "print(c)\n",
    "\n",
    "d = -.7 # 정수부가 0일 떄 0을 생략\n",
    "print(d)"
   ]
  },
  {
   "cell_type": "markdown",
   "metadata": {},
   "source": [
    "## 실수형 더 알아보기 1)"
   ]
  },
  {
   "cell_type": "code",
   "execution_count": 7,
   "metadata": {},
   "outputs": [
    {
     "name": "stdout",
     "output_type": "stream",
     "text": [
      "0.8999999999999999\n",
      "False\n"
     ]
    }
   ],
   "source": [
    "a = 0.3 + 0.6\n",
    "print(a)\n",
    "\n",
    "if a == 0.9:\n",
    "    print(True)\n",
    "else:\n",
    "    print(False)"
   ]
  },
  {
   "cell_type": "code",
   "execution_count": 52,
   "metadata": {},
   "outputs": [
    {
     "name": "stdout",
     "output_type": "stream",
     "text": [
      "0.8999999999999999\n",
      "False\n"
     ]
    }
   ],
   "source": [
    "a = 0.3 + 0.6\n",
    "print(a)\n",
    "\n"
   ]
  },
  {
   "cell_type": "markdown",
   "metadata": {},
   "source": [
    "## 실수형 더 알아보기 2)"
   ]
  },
  {
   "cell_type": "code",
   "execution_count": 9,
   "metadata": {},
   "outputs": [
    {
     "name": "stdout",
     "output_type": "stream",
     "text": [
      "0.9\n",
      "True\n"
     ]
    }
   ],
   "source": [
    "a = 0.3 + 0.6\n",
    "print(round(a,4))\n",
    "\n",
    "if round(a,4) == 0.9:\n",
    "    print(True)\n",
    "else:\n",
    "    print(False)"
   ]
  },
  {
   "cell_type": "code",
   "execution_count": 53,
   "metadata": {},
   "outputs": [
    {
     "name": "stdout",
     "output_type": "stream",
     "text": [
      "0.9\n",
      "True\n"
     ]
    }
   ],
   "source": [
    "a = 0.3 + 0.6\n"
   ]
  },
  {
   "cell_type": "markdown",
   "metadata": {},
   "source": [
    "## 지수 표현 방식"
   ]
  },
  {
   "cell_type": "code",
   "execution_count": 6,
   "metadata": {},
   "outputs": [
    {
     "name": "stdout",
     "output_type": "stream",
     "text": [
      "1000000000.0\n",
      "750.0\n",
      "3.954\n"
     ]
    }
   ],
   "source": [
    "a= 1e9\n",
    "print(a)\n",
    "\n",
    "a = 75.e1\n",
    "print(a)\n",
    "\n",
    "a = 3954e-3\n",
    "print(a)"
   ]
  },
  {
   "cell_type": "markdown",
   "metadata": {},
   "source": [
    "## 수 자료형의 연산 "
   ]
  },
  {
   "cell_type": "code",
   "execution_count": 2,
   "metadata": {},
   "outputs": [
    {
     "name": "stdout",
     "output_type": "stream",
     "text": [
      "2.3333333333333335\n",
      "1\n",
      "2\n",
      "343\n",
      "2.6457513110645907\n"
     ]
    }
   ],
   "source": [
    "a = 7\n",
    "b = 3\n",
    "\n",
    "print(a / b)\n",
    "\n",
    "print(a % b)\n",
    "\n",
    "print(a // b) # 몫\n",
    "\n",
    "print(a ** b) # 거듭 제곱\n",
    "\n",
    "print(a ** 0.5 ) # 제곱근"
   ]
  },
  {
   "cell_type": "code",
   "execution_count": 55,
   "metadata": {},
   "outputs": [
    {
     "name": "stdout",
     "output_type": "stream",
     "text": [
      "1.1666666666666667\n",
      "1\n",
      "1\n",
      "117649\n",
      "2.6457513110645907\n"
     ]
    }
   ],
   "source": [
    "a = 7 \n",
    "b = 6\n",
    "\n",
    "print() # 나누기\n",
    "print() # 나머지\n",
    "print() # 몫\n",
    "print() # 거듭제곱\n",
    "print() # 제곱근"
   ]
  },
  {
   "cell_type": "markdown",
   "metadata": {},
   "source": [
    "## 리스트 초기화 "
   ]
  },
  {
   "cell_type": "code",
   "execution_count": 1,
   "metadata": {},
   "outputs": [
    {
     "name": "stdout",
     "output_type": "stream",
     "text": [
      "[1, 2, 3, 4, 5, 6, 7, 8, 9]\n",
      "4\n",
      "[0, 0, 0, 0, 0, 0, 0, 0, 0, 0]\n"
     ]
    }
   ],
   "source": [
    "a = [ 1,2,3,4,5,6,7,8,9]\n",
    "print(a)\n",
    "\n",
    "print(a[3])\n",
    "\n",
    "n  = 10 # 크기가 N이고 모든 값이 0인 1차원 리스크 초기화\n",
    "a = [0] * n\n",
    "print(a)"
   ]
  },
  {
   "cell_type": "code",
   "execution_count": 54,
   "metadata": {},
   "outputs": [
    {
     "name": "stdout",
     "output_type": "stream",
     "text": [
      "[1, 2, 3, 4, 5, 6, 7, 8, 9]\n",
      "[0, 0, 0, 0, 0, 0, 0, 0, 0, 0]\n"
     ]
    }
   ],
   "source": [
    "a = [ 1,2,3,4,5,6,7,8,9]\n",
    "print(a)\n"
   ]
  },
  {
   "cell_type": "markdown",
   "metadata": {},
   "source": [
    "## 리스트와 인덱싱 슬라이싱"
   ]
  },
  {
   "cell_type": "markdown",
   "metadata": {},
   "source": [
    "인덱싱인란? - 가르킨다는 뜻으로, 보조기억 장치에 저장되어있는 데이터에 접근하기 위해 색인 하여 사용하는 것이라 하고, 순서가 있는 자료구조나 변수에 숫자 또는 문자열에서 숫자나 문자를 가져오는 것을 말한다.\n",
    "\n",
    "색인이란? - 어떤 것을 뒤져서 찾거나 필요한 정보를 밝힘"
   ]
  },
  {
   "cell_type": "code",
   "execution_count": 2,
   "metadata": {},
   "outputs": [
    {
     "name": "stdout",
     "output_type": "stream",
     "text": [
      "8\n",
      "9\n",
      "7\n",
      "[1, 2, 3, 7, 5, 6, 7, 8, 9]\n"
     ]
    }
   ],
   "source": [
    "a = [1,2,3,4,5,6,7,8,9]\n",
    "\n",
    "print(a[7])\n",
    "\n",
    "print(a[-1])\n",
    "\n",
    "print(a[-3])\n",
    "\n",
    "a[3] = 7\n",
    "\n",
    "print(a)"
   ]
  },
  {
   "cell_type": "markdown",
   "metadata": {},
   "source": [
    "슬라이싱인란? - 리스트나 뮨자열 등의 연속적인 객체들의 범위를 지정해서 객체들을 가져오는 방법을 의미한다. 슬라이싱을 하면 객체의 일부분을 잘라낸 새로운 객체를 생성하게 된다."
   ]
  },
  {
   "cell_type": "code",
   "execution_count": 3,
   "metadata": {},
   "outputs": [
    {
     "name": "stdout",
     "output_type": "stream",
     "text": [
      "[2, 3, 4]\n"
     ]
    }
   ],
   "source": [
    "a = [1,2,3,4,5,6,7,8,9]\n",
    "\n",
    "print(a[1:4]) # 두 번쨰 원소부터 네 번째 원소까지"
   ]
  },
  {
   "cell_type": "markdown",
   "metadata": {},
   "source": [
    "리스트 컴프리헨션 - 리스트를 초기화하는 방법 중 하나\n",
    "\n",
    "대괄호 안에 조건문과 반복문을 적용하여 리스트를 초기화 할 수 있다."
   ]
  },
  {
   "cell_type": "code",
   "execution_count": 6,
   "metadata": {},
   "outputs": [
    {
     "name": "stdout",
     "output_type": "stream",
     "text": [
      "[0, 1, 2, 3, 4, 5, 6, 7, 8, 9]\n"
     ]
    }
   ],
   "source": [
    "array = [i for i in range(10)] # i라는 변수가 0~9까지 증가를 하면서 반복을 할 때마다 i의 값들을 원소로 설정해서 리스트로 만들겠다\n",
    " \n",
    "print(array)"
   ]
  },
  {
   "cell_type": "code",
   "execution_count": 56,
   "metadata": {},
   "outputs": [
    {
     "name": "stdout",
     "output_type": "stream",
     "text": [
      "[0, 1, 2, 3, 4, 5, 6, 7, 8, 9]\n"
     ]
    }
   ],
   "source": []
  },
  {
   "cell_type": "markdown",
   "metadata": {},
   "source": [
    "홀수만 구하기/ 제곱 구하기"
   ]
  },
  {
   "cell_type": "code",
   "execution_count": 10,
   "metadata": {},
   "outputs": [
    {
     "name": "stdout",
     "output_type": "stream",
     "text": [
      "[1, 3, 5, 7, 9, 11, 13, 15, 17, 19]\n",
      "[1, 4, 9, 16, 25, 36, 49, 64, 81]\n"
     ]
    }
   ],
   "source": [
    "array = [i for i in range(20) if i % 2 == 1 ]\n",
    "\n",
    "print(array)\n",
    "\n",
    "array = [i * i for i in range(1,10)] # 1부터 9까지의 수들의 제곱 값을 포함하는 리스트\n",
    "\n",
    "print(array)"
   ]
  },
  {
   "cell_type": "code",
   "execution_count": 63,
   "metadata": {},
   "outputs": [
    {
     "name": "stdout",
     "output_type": "stream",
     "text": [
      "[1, 3, 5, 7, 9, 11, 13, 15, 17, 19]\n",
      "[0, 1, 4, 9, 16, 25, 36, 49, 64, 81]\n"
     ]
    }
   ],
   "source": []
  },
  {
   "cell_type": "markdown",
   "metadata": {},
   "source": [
    "## 리스트 컴프리헨션과 일반적인 코드 비교하기"
   ]
  },
  {
   "cell_type": "markdown",
   "metadata": {},
   "source": [
    "홀수만 구하기 비교하기"
   ]
  },
  {
   "cell_type": "code",
   "execution_count": 2,
   "metadata": {},
   "outputs": [
    {
     "name": "stdout",
     "output_type": "stream",
     "text": [
      "[1, 3, 5, 7, 9, 11, 13, 15, 17, 19]\n",
      "[1, 3, 5, 7, 9, 11, 13, 15, 17, 19]\n"
     ]
    }
   ],
   "source": [
    "array = [i for i in range(20) if i % 2 == 1 ]\n",
    "\n",
    "print(array)\n",
    "\n",
    "array = []\n",
    "\n",
    "for i in range(20):\n",
    "    if i % 2 == 1:\n",
    "        array.append(i)\n",
    "        \n",
    "print(array)"
   ]
  },
  {
   "cell_type": "code",
   "execution_count": 64,
   "metadata": {},
   "outputs": [
    {
     "name": "stdout",
     "output_type": "stream",
     "text": [
      "[1, 3, 5, 7, 9, 11, 13, 15, 17, 19]\n",
      "[1, 3, 5, 7, 9, 11, 13, 15, 17, 19]\n"
     ]
    }
   ],
   "source": [
    "array = [i for i in range(20) if i % 2 == 1 ]\n",
    "\n",
    "print(array)\n",
    "\n"
   ]
  },
  {
   "cell_type": "markdown",
   "metadata": {},
   "source": [
    "리스트 컴프리헨션은 2차원 리스트를 초기화할 때 효과적으로 사용될 수 있다.\n",
    "특히 N X M 크기의 2차원 리스트를 한 번에 초기화 해야 할 때 매우 유용하다. "
   ]
  },
  {
   "cell_type": "code",
   "execution_count": 13,
   "metadata": {},
   "outputs": [
    {
     "name": "stdout",
     "output_type": "stream",
     "text": [
      "[[0, 0, 0], [0, 0, 0], [0, 0, 0], [0, 0, 0]]\n"
     ]
    }
   ],
   "source": [
    "# N X M 크기의 2차원 리스트 초기화\n",
    "n = 4\n",
    "m = 3\n",
    "\n",
    "array = [ [0] * m for _ in range(n)] # n번 반복을 할 때 마다 길이가 m인 리스트를 매번 초기화 해서 전체 2차원 리스트를 특정 변수에 대입해 준다.\n",
    "print(array)"
   ]
  },
  {
   "cell_type": "code",
   "execution_count": 65,
   "metadata": {},
   "outputs": [
    {
     "name": "stdout",
     "output_type": "stream",
     "text": [
      "[[0, 0, 0], [0, 0, 0], [0, 0, 0], [0, 0, 0]]\n"
     ]
    }
   ],
   "source": [
    "# N X M 크기의 2차원 리스트 초기화\n",
    "n = 4\n",
    "m = 3\n",
    "\n"
   ]
  },
  {
   "cell_type": "markdown",
   "metadata": {},
   "source": [
    "### 잘못된 예시"
   ]
  },
  {
   "cell_type": "code",
   "execution_count": 14,
   "metadata": {},
   "outputs": [
    {
     "name": "stdout",
     "output_type": "stream",
     "text": [
      "[[0, 0, 0], [0, 0, 0], [0, 0, 0], [0, 0, 0]]\n",
      "[[0, 5, 0], [0, 5, 0], [0, 5, 0], [0, 5, 0]]\n"
     ]
    }
   ],
   "source": [
    "n = 4\n",
    "m = 3\n",
    "array =[[0] * m ] * n\n",
    "print(array)\n",
    "\n",
    "array[1][1] =5  # 특정한 위치에 값을 바꾸게 되면 1의 모든 인덱스가 바뀌게 된다.\n",
    "print(array)"
   ]
  },
  {
   "cell_type": "markdown",
   "metadata": {},
   "source": [
    "언더바는 언제 사용하게 되나? \n",
    "\n",
    "파이썬에서는 반복을 수행하되 반복을 위한 변수의 값을 무시하고자 할 때 언더바(_)를 자주 사용한다"
   ]
  },
  {
   "cell_type": "code",
   "execution_count": 15,
   "metadata": {},
   "outputs": [
    {
     "name": "stdout",
     "output_type": "stream",
     "text": [
      "45\n"
     ]
    }
   ],
   "source": [
    "# 1:1 부터 9까지의 자연수를 더하기\n",
    "\n",
    "summary = 0\n",
    "\n",
    "for i in range(1,10):\n",
    "    summary += i\n",
    "print(summary)"
   ]
  },
  {
   "cell_type": "code",
   "execution_count": 16,
   "metadata": {},
   "outputs": [
    {
     "name": "stdout",
     "output_type": "stream",
     "text": [
      "Hello World\n",
      "Hello World\n",
      "Hello World\n",
      "Hello World\n",
      "Hello World\n"
     ]
    }
   ],
   "source": [
    "# Hello World 를 5번 출력하기\n",
    "\n",
    "for _ in range(5):\n",
    "    print(\"Hello World\")"
   ]
  },
  {
   "cell_type": "markdown",
   "metadata": {},
   "source": [
    "#### append() ->  변수명.append()  = 리스트에 원소를 하나 삽입할 때 사용돤다.\n",
    "\n",
    "#### sort()   -> 1) 변수명.sort() = 기본 정렬 기능으로 오름차순으로 정렬한다.  2) 변수명.sort(reverse = True) = 내림차순으로 정렬한다.\n",
    "\n",
    "#### reverse() -> 변수명.reverse() = 리스트의 원소의 순서를 모두 뒤집어 놓는다.\n",
    "\n",
    "#### insert() -> insert(십입할 위치의 인덱스, 삽입 할 값)  = 특정한 인덱스 위치에 원소를 삽입할 때 사용된다.\n",
    "\n",
    "#### count() -> 변수명.count(특정값) = 리스트에서 특정한 값을 가지는 데이터의 개수를 셀 때 사용한다.\n",
    "\n",
    "#### remove() -> 변수명.remove(특정값) = 특정한 값을 갖는 원소를 제거하는데, 값을 가진 원소가 여러 개면 하나만 제거한다."
   ]
  },
  {
   "cell_type": "code",
   "execution_count": 19,
   "metadata": {},
   "outputs": [
    {
     "name": "stdout",
     "output_type": "stream",
     "text": [
      "기본 리스트:  [4, 3, 2, 1]\n",
      "삽입 :  [4, 3, 2, 1, 2]\n",
      "오름차순: [1, 2, 2, 3, 4]\n",
      "내림차순: [4, 3, 2, 2, 1]\n",
      "원소 뒤집기: [1, 2, 2, 3, 4]\n",
      "인덱스 2에 3 추가 [1, 2, 3, 2, 3, 4]\n",
      "값이 3인 데이터 개수 2\n",
      "값이 1인 데이터 삭제 [2, 3, 2, 3, 4]\n"
     ]
    }
   ],
   "source": [
    "a = [4,3,2,1]\n",
    "print(\"기본 리스트: \", a)\n",
    "\n",
    "a.append(2)\n",
    "print(\"삽입 : \", a)\n",
    "\n",
    "a.sort()\n",
    "print(\"오름차순:\",a)\n",
    "\n",
    "a.sort(reverse=True)\n",
    "print(\"내림차순:\",a)\n",
    "\n",
    "a.reverse()\n",
    "print(\"원소 뒤집기:\", a)\n",
    "\n",
    "a.insert(2,3)\n",
    "print(\"인덱스 2에 3 추가\",a)\n",
    "\n",
    "print(\"값이 3인 데이터 개수\", a.count(3))\n",
    "\n",
    "a.remove(1)\n",
    "print(\"값이 1인 데이터 삭제\",a)"
   ]
  },
  {
   "cell_type": "code",
   "execution_count": 67,
   "metadata": {},
   "outputs": [
    {
     "name": "stdout",
     "output_type": "stream",
     "text": [
      "기본 리스트:  [4, 3, 2, 1]\n",
      " 2삽입 :  [4, 3, 2, 1, 2]\n",
      "오름차순: [1, 2, 2, 3, 4]\n",
      "내림차순: [4, 3, 2, 2, 1]\n",
      "원소 뒤집기: [1, 2, 2, 3, 4]\n",
      "인덱스 2에 3 추가 [1, 2, 3, 2, 3, 4]\n",
      "값이 3인 데이터 개수 2\n",
      "값이 1인 데이터 삭제 [2, 3, 2, 3, 4]\n"
     ]
    }
   ],
   "source": [
    "a = [4,3,2,1]\n",
    "print(\"기본 리스트: \", a)\n",
    "\n",
    "a.\n",
    "print(\" 2삽입 : \", a)\n",
    "\n",
    "a.\n",
    "print(\"오름차순:\",a)\n",
    "\n",
    "a.\n",
    "print(\"내림차순:\",a)\n",
    "\n",
    "a.\n",
    "print(\"원소 뒤집기:\", a)\n",
    "\n",
    "a.\n",
    "print(\"인덱스 2에 3 추가\",a)\n",
    "\n",
    "print(\"값이 3인 데이터 개수\", )\n",
    "\n",
    "a.\n",
    "print(\"값이 1인 데이터 삭제\",a)"
   ]
  },
  {
   "cell_type": "markdown",
   "metadata": {},
   "source": [
    "리스트에서 특정 값을 가지는 원소르 모두 제거하기"
   ]
  },
  {
   "cell_type": "code",
   "execution_count": 22,
   "metadata": {},
   "outputs": [
    {
     "name": "stdout",
     "output_type": "stream",
     "text": [
      "[1, 2, 4]\n"
     ]
    }
   ],
   "source": [
    "a = [1,2,3,4,5,5,5]\n",
    "remove_set = {3,5}\n",
    "\n",
    "result = [i for i in a if i not in remove_set] # remove_list에 포함되지 않은 값만을 저장\n",
    "print(result)"
   ]
  },
  {
   "cell_type": "markdown",
   "metadata": {},
   "source": [
    "3,5 제거"
   ]
  },
  {
   "cell_type": "code",
   "execution_count": 69,
   "metadata": {},
   "outputs": [
    {
     "name": "stdout",
     "output_type": "stream",
     "text": [
      "[1, 2, 4]\n"
     ]
    }
   ],
   "source": [
    "a = [1,2,3,4,5,5,5]\n"
   ]
  },
  {
   "cell_type": "markdown",
   "metadata": {},
   "source": [
    "문지열 자료형"
   ]
  },
  {
   "cell_type": "code",
   "execution_count": 3,
   "metadata": {},
   "outputs": [
    {
     "name": "stdout",
     "output_type": "stream",
     "text": [
      "Hello World\n",
      "Don't you know \"Pythone\"?\n"
     ]
    }
   ],
   "source": [
    "data = 'Hello World'\n",
    "print(data)\n",
    "\n",
    "data = \"Don't you know \\\"Pythone\\\"?\"\n",
    "print(data)"
   ]
  },
  {
   "cell_type": "code",
   "execution_count": 70,
   "metadata": {},
   "outputs": [
    {
     "name": "stdout",
     "output_type": "stream",
     "text": [
      "Don't you know \"Python\"? \n"
     ]
    }
   ],
   "source": [
    "data = \" \"\n",
    "print(data)"
   ]
  },
  {
   "cell_type": "markdown",
   "metadata": {},
   "source": [
    "문자열 연산 (스트링 객체는 원소 할당을 지원하지 않는다)"
   ]
  },
  {
   "cell_type": "code",
   "execution_count": 5,
   "metadata": {},
   "outputs": [
    {
     "name": "stdout",
     "output_type": "stream",
     "text": [
      "Hello World\n",
      "StringStringString\n",
      "CD\n"
     ]
    }
   ],
   "source": [
    "a = \"Hello\"\n",
    "b = \"World\"\n",
    "\n",
    "print(a + \" \" + b)\n",
    "\n",
    "a = \"String\"\n",
    "print(a*3)\n",
    "\n",
    "a =\"ABCDEFG\"\n",
    "print(a[2:4])"
   ]
  },
  {
   "cell_type": "markdown",
   "metadata": {},
   "source": [
    "튜플 자료형\n",
    "\n",
    "### 튜플을 사용하면 좋은 경우\n",
    "\n",
    "#### - 서로 다른 성질의 데이터를 묶어서 관리해야 할 때 / 최단 경로 알고리즘에서는(비용, 노드 번호)의 형태로 튜플 자료형을 자주 사용한다.\n",
    "#### - 데이터의 나열을 해싱의 키 값으로 사용해야 할 떄 / 튜플을 불가능하므로 리스트와 다르게 키 값으로 사용 될 수 있다.\n",
    "#### - 리스트보다 메모리를 효율적으로 사용해야 할 때"
   ]
  },
  {
   "cell_type": "code",
   "execution_count": 7,
   "metadata": {},
   "outputs": [
    {
     "name": "stdout",
     "output_type": "stream",
     "text": [
      "4\n",
      "(2, 3, 4)\n"
     ]
    }
   ],
   "source": [
    "a = (1,2,3,4,5,6,7,8,9)\n",
    "\n",
    "print(a[3])\n",
    "\n",
    "print(a[1:4])"
   ]
  },
  {
   "cell_type": "markdown",
   "metadata": {},
   "source": [
    "사전 자료형"
   ]
  },
  {
   "cell_type": "code",
   "execution_count": 8,
   "metadata": {},
   "outputs": [
    {
     "name": "stdout",
     "output_type": "stream",
     "text": [
      "{'사과': 'Apple', '바나나': 'Banana', '코코넛': 'coconut'}\n",
      "'사과'를 키로 가지는 데이터가 존재한다.\n"
     ]
    }
   ],
   "source": [
    "data  = dict()\n",
    "\n",
    "\n",
    "   #   키         값\n",
    "data['사과'] = 'Apple'\n",
    "data['바나나'] = 'Banana'\n",
    "data['코코넛'] = 'coconut'\n",
    "\n",
    "print(data)\n",
    "\n",
    "if '사과' in data:\n",
    "    print(\"'사과'를 키로 가지는 데이터가 존재한다.\")"
   ]
  },
  {
   "cell_type": "code",
   "execution_count": 35,
   "metadata": {},
   "outputs": [
    {
     "name": "stdout",
     "output_type": "stream",
     "text": [
      "{'사과': 'Apple', '바나니': 'banana', '코코넛': 'coconut'}\n"
     ]
    }
   ],
   "source": [
    "data = dict()\n",
    "\n",
    "data['사과'] = 'Apple'\n",
    "data['바나나'] = 'banana'\n",
    "data['코코넛'] = 'coconut'\n",
    "\n",
    "if '사과' in data:\n",
    "    print(\"'사과'를 키로 가지고 있다,\")\n",
    "\n"
   ]
  },
  {
   "cell_type": "code",
   "execution_count": 10,
   "metadata": {},
   "outputs": [
    {
     "name": "stdout",
     "output_type": "stream",
     "text": [
      "dict_keys(['사과', '바나나', '코코넛'])\n",
      "dict_values(['Apple', 'Banana', 'coconut'])\n",
      "Apple\n",
      "Banana\n",
      "coconut\n"
     ]
    }
   ],
   "source": [
    "data = dict()\n",
    "data['사과'] = 'Apple'\n",
    "data['바나나'] = 'Banana'\n",
    "data['코코넛'] = 'coconut'\n",
    "\n",
    "# 키 데이터만 담은 리스트\n",
    "key_list = data.keys()\n",
    "# 값 데이터만 담은 리스트\n",
    "value_list = data.values()\n",
    "print(key_list)\n",
    "print(value_list)\n",
    "\n",
    "#각 키에 따른 값을 하나씩 출력\n",
    "for key in key_list:\n",
    "    print(data[key])"
   ]
  },
  {
   "cell_type": "code",
   "execution_count": 72,
   "metadata": {},
   "outputs": [
    {
     "name": "stdout",
     "output_type": "stream",
     "text": [
      "Apple\n",
      "Banana\n",
      "coconut\n"
     ]
    }
   ],
   "source": [
    "data = dict()\n",
    "data['사과'] = 'Apple'\n",
    "data['바나나'] = 'Banana'\n",
    "data['코코넛'] = 'coconut'\n",
    "\n",
    "\n",
    "# 각 키에 따은 값을 출력 \n"
   ]
  },
  {
   "cell_type": "markdown",
   "metadata": {},
   "source": [
    "집합 자료형\n",
    "\n",
    "1) 중복을 허용하지 않는다.\n",
    "\n",
    "2) 순서가 없다"
   ]
  },
  {
   "cell_type": "code",
   "execution_count": 12,
   "metadata": {},
   "outputs": [
    {
     "name": "stdout",
     "output_type": "stream",
     "text": [
      "{1, 2, 3, 4, 5}\n",
      "{1, 2, 3, 4, 5}\n"
     ]
    }
   ],
   "source": [
    "data = set([1,1,2,3,4,4,5])\n",
    "print(data)\n",
    "\n",
    "data = {1,1,2,3,4,4,5}\n",
    "print(data)"
   ]
  },
  {
   "cell_type": "code",
   "execution_count": 73,
   "metadata": {},
   "outputs": [],
   "source": []
  },
  {
   "cell_type": "markdown",
   "metadata": {},
   "source": [
    "집합 자료형의 연산"
   ]
  },
  {
   "cell_type": "code",
   "execution_count": 13,
   "metadata": {},
   "outputs": [
    {
     "name": "stdout",
     "output_type": "stream",
     "text": [
      "{1, 2, 3, 4, 5, 6, 7}\n",
      "{3, 4, 5}\n",
      "{1, 2}\n"
     ]
    }
   ],
   "source": [
    "a = set([1,2,3,4,5])\n",
    "b = set([3,4,5,6,7])\n",
    "\n",
    "print(a | b)\n",
    "\n",
    "print(a & b)\n",
    "\n",
    "print(a - b)"
   ]
  },
  {
   "cell_type": "code",
   "execution_count": 74,
   "metadata": {},
   "outputs": [
    {
     "name": "stdout",
     "output_type": "stream",
     "text": [
      "{1, 2, 3, 4, 5}\n",
      "\n",
      "\n"
     ]
    }
   ],
   "source": [
    "a = set([1,2,3,4,5,])\n",
    "b = set([3,4,5,6,7])\n",
    "\n",
    "print() # 합집합\n",
    "print() # 교집합\n",
    "print() # 차집합"
   ]
  },
  {
   "cell_type": "markdown",
   "metadata": {},
   "source": [
    "집합 자료형 관련 함수"
   ]
  },
  {
   "cell_type": "code",
   "execution_count": 16,
   "metadata": {},
   "outputs": [
    {
     "name": "stdout",
     "output_type": "stream",
     "text": [
      "{1, 2, 3}\n",
      "{1, 2, 3, 4}\n",
      "{1, 2, 3, 4, 5, 6}\n",
      "{1, 2, 4, 5, 6}\n"
     ]
    }
   ],
   "source": [
    "data = set([1,2,3])\n",
    "print(data)\n",
    "\n",
    "#새로운 원소 추가\n",
    "data.add(4)\n",
    "print(data)\n",
    "\n",
    "\n",
    "#새로운 원소 여러개 추가 \n",
    "data.update([5,6])\n",
    "print(data)\n",
    "\n",
    "#특정한 값을 갖는 원소 삭제\n",
    "data.remove(3)\n",
    "print(data)"
   ]
  },
  {
   "cell_type": "code",
   "execution_count": 76,
   "metadata": {},
   "outputs": [
    {
     "name": "stdout",
     "output_type": "stream",
     "text": [
      "{1, 2, 3}\n",
      "{1, 2, 4, 5, 6}\n"
     ]
    }
   ],
   "source": [
    "data = set([1,2,3,])\n",
    "print(data)\n",
    "\n",
    "#새로운 원소 4 추가\n",
    "\n",
    "\n",
    "#새로운 여러 원소 5,6 추가\n",
    "\n",
    "\n",
    "#특정한 값을 갖는 원소 삭제 3\n",
    "\n"
   ]
  },
  {
   "cell_type": "markdown",
   "metadata": {},
   "source": [
    "리스트나 튜플은 순서가 있기 때문에 인덱싱을 통해 자료형의 값을 얻을 수 있다\n",
    "\n",
    "사전 자료형과 집합 자료형은 순서가 없기 때문에 인덱싱으로 값을 얻을 수 없다."
   ]
  },
  {
   "cell_type": "markdown",
   "metadata": {},
   "source": [
    "### 기본 입출력\n",
    "\n",
    "input() 함수는 한 줄의 문자열을 입력받는 함수\n",
    "\n",
    "map() 함수는 리스트의 모든 원소에 각각 특정한 함수를 적용할 떄 사용\n",
    "\n",
    "\n",
    "#### 예시) 공백을 기준으로 구분된 데이터를 입력 받을 때는 다음과 같이 사용한다\n",
    "\n",
    "##### list(map(int, input().split()))  = input()입력을 받은 다음.split()공백 기준으로 구분을 하고 그렇게 구분된 각 원소를 전부 정수형으로 바꿔준 후 리스트로 만들어 준다\n",
    "\n",
    "\n",
    "#### 예시) 공백을 기준으로 구분된 데이터의 개수가 많지 않다면, 단순히 다음과 같이 사용한다.\n",
    "\n",
    "##### a,b,c = map(intm, input().split())"
   ]
  },
  {
   "cell_type": "markdown",
   "metadata": {},
   "source": [
    "입력을 위한 정형적인 소스코드 1)\n",
    "\n",
    "## 많이 사용하기에 손에 익을 정도록 사용해라"
   ]
  },
  {
   "cell_type": "code",
   "execution_count": 18,
   "metadata": {},
   "outputs": [
    {
     "name": "stdout",
     "output_type": "stream",
     "text": [
      "[90, 75, 65, 65, 34]\n"
     ]
    }
   ],
   "source": [
    "n = int(input()) # 데이터의 개수 입력 / 한 개의 데이터를 입력 받을 때\n",
    "\n",
    "data = list(map(int, input().split())) # 여러개의 데이터를 입력 받을 때\n",
    "\n",
    "data.sort(reverse=True)\n",
    "print(data)"
   ]
  },
  {
   "cell_type": "markdown",
   "metadata": {},
   "source": [
    "다수의 데이터를 입력 받을 때\n",
    "\n"
   ]
  },
  {
   "cell_type": "code",
   "execution_count": 78,
   "metadata": {},
   "outputs": [
    {
     "name": "stdout",
     "output_type": "stream",
     "text": [
      "[55, 44, 33, 22, 11]\n"
     ]
    }
   ],
   "source": []
  },
  {
   "cell_type": "markdown",
   "metadata": {},
   "source": [
    "입력을 위한 전형적인 소스코드 2)"
   ]
  },
  {
   "cell_type": "markdown",
   "metadata": {},
   "source": [
    "소수의 데이터를 입력 받을 떄"
   ]
  },
  {
   "cell_type": "code",
   "execution_count": 20,
   "metadata": {},
   "outputs": [
    {
     "name": "stdout",
     "output_type": "stream",
     "text": [
      "8 9 10\n"
     ]
    }
   ],
   "source": [
    "n, m, k = map(int,input().split())\n",
    "\n",
    "print(n, m, k)"
   ]
  },
  {
   "cell_type": "code",
   "execution_count": 79,
   "metadata": {},
   "outputs": [
    {
     "name": "stdout",
     "output_type": "stream",
     "text": [
      "11 22 33\n"
     ]
    }
   ],
   "source": []
  },
  {
   "cell_type": "markdown",
   "metadata": {},
   "source": [
    "빠르게 입력받기"
   ]
  },
  {
   "cell_type": "code",
   "execution_count": 6,
   "metadata": {},
   "outputs": [],
   "source": [
    "import sys\n",
    "\n",
    "data =  sys.stdin.readline().rstrip()\n",
    "print(data)"
   ]
  },
  {
   "cell_type": "markdown",
   "metadata": {},
   "source": [
    "자주 사용되는 표준 출력 방법"
   ]
  },
  {
   "cell_type": "code",
   "execution_count": 2,
   "metadata": {},
   "outputs": [
    {
     "name": "stdout",
     "output_type": "stream",
     "text": [
      "1 2\n",
      "7 8 정답은 7입니다.\n"
     ]
    }
   ],
   "source": [
    "a = 1\n",
    "b = 2\n",
    "\n",
    "print(a, b)\n",
    "print(7, end= \" \")\n",
    "print(8, end= \" \") # 줄바꿈을 원치 않기 위해 end 속성을 이용한다,\n",
    "\n",
    "\n",
    "answer = 7\n",
    "\n",
    "print(\"정답은 \" + str(answer) + \"입니다.\")"
   ]
  },
  {
   "cell_type": "markdown",
   "metadata": {},
   "source": [
    "f-string 예제 \n",
    "\n",
    "중괄호 안에 변수명을 기입하여 간단한 문자열과 정수를 함께 넣을 수 있다."
   ]
  },
  {
   "cell_type": "code",
   "execution_count": 3,
   "metadata": {},
   "outputs": [
    {
     "name": "stdout",
     "output_type": "stream",
     "text": [
      "정답은 7 입니다\n"
     ]
    }
   ],
   "source": [
    "answer = 7 \n",
    "\n",
    "print(f\"정답은 {answer} 입니다\")"
   ]
  },
  {
   "cell_type": "code",
   "execution_count": 80,
   "metadata": {},
   "outputs": [
    {
     "name": "stdout",
     "output_type": "stream",
     "text": [
      "정답은 9 입니다\n"
     ]
    }
   ],
   "source": []
  },
  {
   "cell_type": "markdown",
   "metadata": {},
   "source": [
    "## 조건문과 반복문"
   ]
  },
  {
   "cell_type": "code",
   "execution_count": 5,
   "metadata": {},
   "outputs": [
    {
     "name": "stdout",
     "output_type": "stream",
     "text": [
      "x >= 10\n",
      "x >= 0\n"
     ]
    }
   ],
   "source": [
    "x = 15 \n",
    "\n",
    "if x >= 10:\n",
    "    print(\"x >= 10\")\n",
    "    \n",
    "if x >= 0:\n",
    "    print(\"x >= 0\")\n",
    "    \n",
    "if x >= 30:\n",
    "    print(\"x >= 30\")"
   ]
  },
  {
   "cell_type": "code",
   "execution_count": 6,
   "metadata": {},
   "outputs": [
    {
     "name": "stdout",
     "output_type": "stream",
     "text": [
      "학점 : B\n"
     ]
    }
   ],
   "source": [
    "score = 85\n",
    "\n",
    "if score >= 90:\n",
    "    print(\"학점 : A\")\n",
    "elif score >= 80:\n",
    "    print(\"학점 : B\")\n",
    "elif score >= 70:\n",
    "    print(\"학점 : C\")\n",
    "else:\n",
    "    print(\"학점 : F\")"
   ]
  },
  {
   "cell_type": "markdown",
   "metadata": {},
   "source": [
    "조건문 간소화"
   ]
  },
  {
   "cell_type": "code",
   "execution_count": 8,
   "metadata": {},
   "outputs": [
    {
     "name": "stdout",
     "output_type": "stream",
     "text": [
      "Success\n",
      "Success\n"
     ]
    }
   ],
   "source": [
    "score = 85\n",
    "\n",
    "if score >= 80 : result = \"Success\"\n",
    "else: result = \"Fail\"\n",
    "\n",
    "print(result)\n",
    "\n",
    "result = \"Success\" if score >= 80 else \"Fail\"\n",
    "\n",
    "print(result)"
   ]
  },
  {
   "cell_type": "markdown",
   "metadata": {},
   "source": [
    "1~9까지의 모든 정수의 합 구하기 예제 (while문)"
   ]
  },
  {
   "cell_type": "code",
   "execution_count": 2,
   "metadata": {},
   "outputs": [
    {
     "name": "stdout",
     "output_type": "stream",
     "text": [
      "45\n"
     ]
    }
   ],
   "source": [
    "i = 1\n",
    "result = 0\n",
    "\n",
    "while i <= 9:\n",
    "    result += i\n",
    "    i += 1\n",
    "    \n",
    "print(result)"
   ]
  },
  {
   "cell_type": "markdown",
   "metadata": {},
   "source": [
    "1~9까지 홀수의 모든 합 구하기 예제"
   ]
  },
  {
   "cell_type": "code",
   "execution_count": 3,
   "metadata": {},
   "outputs": [
    {
     "name": "stdout",
     "output_type": "stream",
     "text": [
      "25\n"
     ]
    }
   ],
   "source": [
    "i  = 1\n",
    "result = 0\n",
    "\n",
    "while i <= 9:\n",
    "    if i % 2 ==1:\n",
    "        result +=i\n",
    "    i +=1\n",
    "\n",
    "print(result)"
   ]
  },
  {
   "cell_type": "markdown",
   "metadata": {},
   "source": [
    "for 문\n",
    "\n",
    "\n",
    "for 변수 in 리스트 :\n",
    "\n",
    "    실행할 소스코드"
   ]
  },
  {
   "cell_type": "code",
   "execution_count": 5,
   "metadata": {},
   "outputs": [
    {
     "name": "stdout",
     "output_type": "stream",
     "text": [
      "9\n",
      "8\n",
      "7\n",
      "6\n",
      "5\n"
     ]
    }
   ],
   "source": [
    "array = [9,8,7,6,5]\n",
    "\n",
    "for x in array:\n",
    "    print(x)"
   ]
  },
  {
   "cell_type": "markdown",
   "metadata": {},
   "source": [
    "반목문 for 문"
   ]
  },
  {
   "cell_type": "code",
   "execution_count": 6,
   "metadata": {},
   "outputs": [
    {
     "name": "stdout",
     "output_type": "stream",
     "text": [
      "45\n"
     ]
    }
   ],
   "source": [
    "result = 0\n",
    "\n",
    "for i in range(1,10):\n",
    "    result += i\n",
    "\n",
    "print(result)"
   ]
  },
  {
   "cell_type": "markdown",
   "metadata": {},
   "source": [
    "1 부터 30까지 모든 정수의 합 구하기 예제"
   ]
  },
  {
   "cell_type": "code",
   "execution_count": 7,
   "metadata": {},
   "outputs": [
    {
     "name": "stdout",
     "output_type": "stream",
     "text": [
      "465\n"
     ]
    }
   ],
   "source": [
    "result = 0\n",
    "\n",
    "for i in range(1,31):\n",
    "    result += i\n",
    "    \n",
    "print(result)"
   ]
  },
  {
   "cell_type": "markdown",
   "metadata": {},
   "source": [
    "파이썬의 continue 키워드\n",
    "\n",
    "반복문에서 남은 코드의 실행을 건너뛰고 다음 반복을 진행하고자 할 때 continue를 사용한다.\n",
    "\n",
    "1 부터 9까지의 홀수의 합을 구할 때 다음과 같이 작성할 수 있다."
   ]
  },
  {
   "cell_type": "code",
   "execution_count": 8,
   "metadata": {},
   "outputs": [
    {
     "name": "stdout",
     "output_type": "stream",
     "text": [
      "25\n"
     ]
    }
   ],
   "source": [
    "result = 0\n",
    "\n",
    "for i in range(1,10):\n",
    "    if i % 2 == 0:\n",
    "        continue\n",
    "    result += i\n",
    "print(result)"
   ]
  },
  {
   "cell_type": "markdown",
   "metadata": {},
   "source": [
    "파이썬의 break 키워드\n",
    "\n",
    "반목문을 즉시 탈출 할 떄 break룰 사용\n",
    "\n",
    "1부터 5까지의 정수를 차례대로 출력하고자 할 때 다음과 같이 작성 할 수 있다"
   ]
  },
  {
   "cell_type": "code",
   "execution_count": 9,
   "metadata": {},
   "outputs": [
    {
     "name": "stdout",
     "output_type": "stream",
     "text": [
      "현재 i 값:  1\n",
      "현재 i 값:  2\n",
      "현재 i 값:  3\n",
      "현재 i 값:  4\n",
      "현재 i 값:  5\n"
     ]
    }
   ],
   "source": [
    "i = 1\n",
    "\n",
    "while True:\n",
    "    print(\"현재 i 값: \", i)\n",
    "    if i == 5:\n",
    "        break\n",
    "    i += 1"
   ]
  },
  {
   "cell_type": "markdown",
   "metadata": {},
   "source": [
    "학생들의 합격 여부 판단 예제 1) 점수가 870 점만 넘으면 합격"
   ]
  },
  {
   "cell_type": "code",
   "execution_count": 10,
   "metadata": {},
   "outputs": [
    {
     "name": "stdout",
     "output_type": "stream",
     "text": [
      "1 번 학생은 합격입니다\n",
      "2 번 학생은 합격입니다\n",
      "5 번 학생은 합격입니다\n"
     ]
    }
   ],
   "source": [
    "score = [90,85,77,65,97]\n",
    "\n",
    "for i in range(5):\n",
    "    if score[i] >= 80:\n",
    "        print(i+1, \"번 학생은 합격입니다\")"
   ]
  },
  {
   "cell_type": "markdown",
   "metadata": {},
   "source": [
    "학생들의 합격 여부 판단 예제 2) 특정 번호의 학생은 제외하기"
   ]
  },
  {
   "cell_type": "code",
   "execution_count": 11,
   "metadata": {},
   "outputs": [
    {
     "name": "stdout",
     "output_type": "stream",
     "text": [
      "1 번 학생은 합격입니다\n",
      "5 번 학생은 합격입니다\n"
     ]
    }
   ],
   "source": [
    "score = [90,85,77,65,97]\n",
    "cheating_student = {2,4}\n",
    "\n",
    "for i in range(5):\n",
    "    if i + 1 in cheating_student:\n",
    "        continue\n",
    "    if score[i] >= 80:\n",
    "        print(i+1, \"번 학생은 합격입니다\")"
   ]
  },
  {
   "cell_type": "code",
   "execution_count": 81,
   "metadata": {},
   "outputs": [
    {
     "name": "stdout",
     "output_type": "stream",
     "text": [
      "1 번은 합격한 학생입니다\n",
      "5 번은 합격한 학생입니다\n"
     ]
    }
   ],
   "source": [
    "score = [90,85,77,65,97]\n",
    "cheating_stuent = {2,4}\n",
    "\n"
   ]
  },
  {
   "cell_type": "markdown",
   "metadata": {},
   "source": [
    "중첩된 반복문: 구구단 예제"
   ]
  },
  {
   "cell_type": "code",
   "execution_count": 13,
   "metadata": {},
   "outputs": [
    {
     "name": "stdout",
     "output_type": "stream",
     "text": [
      "2 X 1 = 2\n",
      "2 X 2 = 4\n",
      "2 X 3 = 6\n",
      "2 X 4 = 8\n",
      "2 X 5 = 10\n",
      "2 X 6 = 12\n",
      "2 X 7 = 14\n",
      "2 X 8 = 16\n",
      "2 X 9 = 18\n",
      "\n",
      "3 X 1 = 3\n",
      "3 X 2 = 6\n",
      "3 X 3 = 9\n",
      "3 X 4 = 12\n",
      "3 X 5 = 15\n",
      "3 X 6 = 18\n",
      "3 X 7 = 21\n",
      "3 X 8 = 24\n",
      "3 X 9 = 27\n",
      "\n",
      "4 X 1 = 4\n",
      "4 X 2 = 8\n",
      "4 X 3 = 12\n",
      "4 X 4 = 16\n",
      "4 X 5 = 20\n",
      "4 X 6 = 24\n",
      "4 X 7 = 28\n",
      "4 X 8 = 32\n",
      "4 X 9 = 36\n",
      "\n",
      "5 X 1 = 5\n",
      "5 X 2 = 10\n",
      "5 X 3 = 15\n",
      "5 X 4 = 20\n",
      "5 X 5 = 25\n",
      "5 X 6 = 30\n",
      "5 X 7 = 35\n",
      "5 X 8 = 40\n",
      "5 X 9 = 45\n",
      "\n",
      "6 X 1 = 6\n",
      "6 X 2 = 12\n",
      "6 X 3 = 18\n",
      "6 X 4 = 24\n",
      "6 X 5 = 30\n",
      "6 X 6 = 36\n",
      "6 X 7 = 42\n",
      "6 X 8 = 48\n",
      "6 X 9 = 54\n",
      "\n",
      "7 X 1 = 7\n",
      "7 X 2 = 14\n",
      "7 X 3 = 21\n",
      "7 X 4 = 28\n",
      "7 X 5 = 35\n",
      "7 X 6 = 42\n",
      "7 X 7 = 49\n",
      "7 X 8 = 56\n",
      "7 X 9 = 63\n",
      "\n",
      "8 X 1 = 8\n",
      "8 X 2 = 16\n",
      "8 X 3 = 24\n",
      "8 X 4 = 32\n",
      "8 X 5 = 40\n",
      "8 X 6 = 48\n",
      "8 X 7 = 56\n",
      "8 X 8 = 64\n",
      "8 X 9 = 72\n",
      "\n",
      "9 X 1 = 9\n",
      "9 X 2 = 18\n",
      "9 X 3 = 27\n",
      "9 X 4 = 36\n",
      "9 X 5 = 45\n",
      "9 X 6 = 54\n",
      "9 X 7 = 63\n",
      "9 X 8 = 72\n",
      "9 X 9 = 81\n",
      "\n"
     ]
    }
   ],
   "source": [
    "for i in range(2,10):\n",
    "    for j in range(1,10):\n",
    "        print(i, \"X\", j, \"=\", i*j)\n",
    "        \n",
    "    print()"
   ]
  },
  {
   "cell_type": "markdown",
   "metadata": {},
   "source": [
    "함수\n",
    "\n",
    "함수란 특정한 작업을 하나의 단위로 묶어 놓은 것을 의미한다\n",
    "\n",
    "함수를 사용하면 불필요한 소스코드의 반복을 줄일 수 있다."
   ]
  },
  {
   "cell_type": "markdown",
   "metadata": {},
   "source": [
    "내장함수 : 파이썬이 기본적으로 제공하는 함수\n",
    "\n",
    "사용자 정의 함수 : 개발자가 직접 정의하며 사용할 수 있는 함수"
   ]
  },
  {
   "cell_type": "markdown",
   "metadata": {},
   "source": [
    "매개변수 : 함수 내부에서 사용할 변수\n",
    "\n",
    "반환 값 : 함수에서 처리 된 결과를 반환 "
   ]
  },
  {
   "cell_type": "markdown",
   "metadata": {},
   "source": [
    "def 함수명 (매개변수):\n",
    "    실행할 소스코드\n",
    "    return 반환값"
   ]
  },
  {
   "cell_type": "markdown",
   "metadata": {},
   "source": [
    "더하기 함수 예시 1)"
   ]
  },
  {
   "cell_type": "code",
   "execution_count": 14,
   "metadata": {},
   "outputs": [
    {
     "name": "stdout",
     "output_type": "stream",
     "text": [
      "10\n"
     ]
    }
   ],
   "source": [
    "def add(a,b):\n",
    "    return a + b\n",
    "print(add(3,7))"
   ]
  },
  {
   "cell_type": "code",
   "execution_count": 82,
   "metadata": {},
   "outputs": [
    {
     "name": "stdout",
     "output_type": "stream",
     "text": [
      "10\n"
     ]
    }
   ],
   "source": []
  },
  {
   "cell_type": "markdown",
   "metadata": {},
   "source": [
    "더하기 함수 예시 2)"
   ]
  },
  {
   "cell_type": "code",
   "execution_count": 15,
   "metadata": {},
   "outputs": [
    {
     "name": "stdout",
     "output_type": "stream",
     "text": [
      "함수의 결과 : 10\n"
     ]
    }
   ],
   "source": [
    "def add(a,b):\n",
    "    print('함수의 결과 :' ,a+b)\n",
    "    \n",
    "add(3,7)"
   ]
  },
  {
   "cell_type": "markdown",
   "metadata": {},
   "source": [
    "global 키워드\n",
    "\n",
    "global 키워드로 변수를 지정하면 해당 함수에서는 지역 변수를 만들지 않고, 함수 바깥에 선언된 변구를 바로 참조하게 된다."
   ]
  },
  {
   "cell_type": "code",
   "execution_count": 18,
   "metadata": {},
   "outputs": [
    {
     "name": "stdout",
     "output_type": "stream",
     "text": [
      "10\n"
     ]
    }
   ],
   "source": [
    "a = 0 # 전역변수\n",
    "\n",
    "def func():\n",
    "    global a # 바깥쪽에 있는 a를 참조 하겠다\n",
    "    a+=1\n",
    "    \n",
    "for i in range(10):\n",
    "    func()\n",
    "    \n",
    "print(a)"
   ]
  },
  {
   "cell_type": "code",
   "execution_count": 83,
   "metadata": {},
   "outputs": [
    {
     "name": "stdout",
     "output_type": "stream",
     "text": [
      "20\n"
     ]
    }
   ],
   "source": [
    "a = 0 # 전역함수\n",
    "\n"
   ]
  },
  {
   "cell_type": "markdown",
   "metadata": {},
   "source": [
    "여러 개의 반환 값"
   ]
  },
  {
   "cell_type": "code",
   "execution_count": 19,
   "metadata": {},
   "outputs": [
    {
     "name": "stdout",
     "output_type": "stream",
     "text": [
      "10 4 21 2.3333333333333335\n"
     ]
    }
   ],
   "source": [
    "def operator(a,b):\n",
    "    add_var = a + b\n",
    "    subtracu_var = a - b\n",
    "    multiply_var = a * b\n",
    "    divide_var = a / b\n",
    "    return add_var, subtracu_var, multiply_var, divide_var\n",
    "\n",
    "a,b,c,d = operator(7,3)\n",
    "\n",
    "print(a,b,c,d)"
   ]
  },
  {
   "cell_type": "code",
   "execution_count": 84,
   "metadata": {},
   "outputs": [
    {
     "name": "stdout",
     "output_type": "stream",
     "text": [
      "8 -2 15 0.6\n"
     ]
    }
   ],
   "source": []
  },
  {
   "attachments": {
    "image.png": {
     "image/png": "[encoded data removed]"
    }
   },
   "cell_type": "markdown",
   "metadata": {},
   "source": [
    "![image.png](attachment:image.png)"
   ]
  },
  {
   "cell_type": "markdown",
   "metadata": {},
   "source": [
    "람다 표현식\n",
    "\n",
    "럼다 표련식을 이요하면 함수를 간단하게 작성 할 수 있다,\n",
    "\n",
    "특정한 기능을 수행하는 함수를 한 줄에 작성 할 수 있다는 점이 특징\n"
   ]
  },
  {
   "cell_type": "code",
   "execution_count": 20,
   "metadata": {},
   "outputs": [
    {
     "name": "stdout",
     "output_type": "stream",
     "text": [
      "10\n",
      "10\n"
     ]
    }
   ],
   "source": [
    "def add (a,b):\n",
    "    return a + b\n",
    "\n",
    "# 일반적인 add()메서드 사용\n",
    "\n",
    "print(add(3,7))\n",
    "\n",
    "\n",
    "#람다 표현식으로 구현한 add() 메서드\n",
    "\n",
    "print((lambda a, b: a+b)(3,7))"
   ]
  },
  {
   "cell_type": "code",
   "execution_count": 85,
   "metadata": {},
   "outputs": [
    {
     "name": "stdout",
     "output_type": "stream",
     "text": [
      "10\n",
      "10\n"
     ]
    }
   ],
   "source": [
    "def add (a,b):\n",
    "    return a + b\n",
    "\n",
    "# 일반적인 add()메서드 사용\n",
    "\n",
    "print(add(3,7))\n",
    "\n",
    "\n",
    "#람다 표현식으로 구현한 add() 메서드\n"
   ]
  },
  {
   "cell_type": "markdown",
   "metadata": {},
   "source": [
    "람다 표현식 예시: 내장 함수에서 자주 사용되는 람다 함수"
   ]
  },
  {
   "cell_type": "markdown",
   "metadata": {},
   "source": [
    "sorted는 정렬을 할 때 사용\n",
    "\n",
    " - 오름차순 sorted(a,key = lambda x:x[0])\n",
    " - 내림차순 sorted(a,key = lambda x:-x[0])\n",
    "\n",
    "정렬하는 key를 튜플의 첫번째 값으로 지정할 경우 \n",
    "\n",
    " - sorted(a,key = lambda x:x[0])\n",
    "\n",
    "정렬하는 key를 튜플의 두번째 값으로 지정할 경우 \n",
    "\n",
    " - sorted(a,key = lambda x:x[1])\n",
    "\n",
    " sorted와 sort의 차이는 sort는 list에서만 사용 가능하고, sorted는 iterable 객체(list, string, tuple, dictionary 등등...)을 파라미터로 받을 수 있는 메서드이다"
   ]
  },
  {
   "cell_type": "code",
   "execution_count": 26,
   "metadata": {},
   "outputs": [
    {
     "name": "stdout",
     "output_type": "stream",
     "text": [
      "[('이순신', 32), ('홍길동', 50), ('아무개', 74)]\n",
      "[('이순신', 32), ('홍길동', 50), ('아무개', 74)]\n"
     ]
    }
   ],
   "source": [
    "array = [('홍길동', 50), ('이순신', 32), ('아무개', 74)]\n",
    "\n",
    "def my_key(x):\n",
    "    return x[1] # 두번 째 원소를 기준으로 정렬을 할 수 있게 해주는 함수\n",
    "\n",
    "print(sorted(array, key=my_key))\n",
    "print(sorted(array, key= lambda x:x[1]))"
   ]
  },
  {
   "cell_type": "code",
   "execution_count": 88,
   "metadata": {},
   "outputs": [
    {
     "name": "stdout",
     "output_type": "stream",
     "text": [
      "[('이순신', 32), ('홍길동', 50), ('아무개', 74)]\n",
      "[('이순신', 32), ('홍길동', 50), ('아무개', 74)]\n"
     ]
    }
   ],
   "source": [
    "array = [('홍길동', 50), ('이순신', 32), ('아무개', 74)]\n",
    "\n"
   ]
  },
  {
   "cell_type": "markdown",
   "metadata": {},
   "source": [
    "람다 표현식 예시 : 여라개의 리스트에 적용"
   ]
  },
  {
   "cell_type": "code",
   "execution_count": 27,
   "metadata": {},
   "outputs": [
    {
     "name": "stdout",
     "output_type": "stream",
     "text": [
      "[7, 9, 11, 13, 15]\n"
     ]
    }
   ],
   "source": [
    "list1 = [1,2,3,4,5]\n",
    "list2 = [6,7,8,9,10]\n",
    "\n",
    "result = map(lambda a, b : a+b, list1, list2)\n",
    "\n",
    "print(list(result))"
   ]
  },
  {
   "cell_type": "code",
   "execution_count": 89,
   "metadata": {},
   "outputs": [
    {
     "name": "stdout",
     "output_type": "stream",
     "text": [
      "[7, 9, 11, 13, 15]\n"
     ]
    }
   ],
   "source": [
    "list1 = [1,2,3,4,5]\n",
    "list2 = [6,7,8,9,10]\n",
    "\n"
   ]
  },
  {
   "cell_type": "markdown",
   "metadata": {},
   "source": [
    "실전에서 유용한 표준 라이브러리\n",
    "\n",
    "itertools: 파이썬에서 반복되는 형태의 데이터를 처리하기 위한 유용한 기능들을 제공\n",
    " - 특히 순열과 조합 라이브러리는 코딩 테스트에서 자주 사용된다.\n",
    "\n",
    "heapq : 힙 자료구조를 제공한다\n",
    " - 일잔벅으로 우선순위 큐 기능을 구현하기 위해 사용된다.\n",
    "\n",
    "bisect : 이진탐색 기능을 제공한다.\n",
    "\n",
    "collections : 덱, 카운터 등의 유용한 자료구조를 포함한다.\n",
    "\n",
    "math : 필수적인 수학적 기능을 제공한다\n",
    "\n",
    " - 펙토리얼, 제곱근, 최대공약수, 삼각함수 관련 함수부터 파이와 같은 상수를 포함한다."
   ]
  },
  {
   "cell_type": "markdown",
   "metadata": {},
   "source": [
    "자주 사용되는 내장 함수"
   ]
  },
  {
   "cell_type": "code",
   "execution_count": 28,
   "metadata": {},
   "outputs": [
    {
     "name": "stdout",
     "output_type": "stream",
     "text": [
      "15\n",
      "2 7\n",
      "56\n"
     ]
    }
   ],
   "source": [
    "# sum\n",
    "\n",
    "result = sum([1,2,3,4,5])\n",
    "print(result)\n",
    "\n",
    "# min(), max()\n",
    "\n",
    "min_result = min(7,3,5,2)\n",
    "max_result = max(7,3,5,2)\n",
    "print(min_result, max_result)\n",
    "\n",
    "#eval\n",
    "\n",
    "result =eval(\"(3+5)*7\")\n",
    "print(result)"
   ]
  },
  {
   "cell_type": "code",
   "execution_count": 107,
   "metadata": {},
   "outputs": [
    {
     "name": "stdout",
     "output_type": "stream",
     "text": [
      "15\n"
     ]
    }
   ],
   "source": [
    "# sum / [1,2,3,4,5]\n",
    "\n",
    "\n",
    "# min(), max() / (7,3,5,2)\n",
    "\n",
    "\n",
    "\n",
    "#eval\n",
    "\n"
   ]
  },
  {
   "cell_type": "code",
   "execution_count": 29,
   "metadata": {},
   "outputs": [
    {
     "name": "stdout",
     "output_type": "stream",
     "text": [
      "[1, 4, 5, 8, 9]\n",
      "[8, 5, 4, 1, 0]\n",
      "[('이순신', 75), ('아무개', 59), ('홍길동', 35)]\n"
     ]
    }
   ],
   "source": [
    "#sorted()\n",
    "\n",
    "result =sorted([9,1,8,5,4])\n",
    "reverse_result = sorted([0,1,8,5,4], reverse= True)\n",
    "print(result)\n",
    "print(reverse_result)\n",
    "\n",
    "\n",
    "#sorted() with key\n",
    "\n",
    "array = [('홍길동',35), ('이순신', 75), ('아무개', 59)]\n",
    "result =sorted(array, key= lambda x:x[1], reverse= True)\n",
    "print(result)"
   ]
  },
  {
   "cell_type": "markdown",
   "metadata": {},
   "source": [
    "순열과 조합\n",
    "\n",
    "순열 : 서로다른 n개에서 서로다른r개를 선택하여 일렬로 나열하는 것 / 즉 순서를 고려해 나열"
   ]
  },
  {
   "cell_type": "code",
   "execution_count": 30,
   "metadata": {},
   "outputs": [
    {
     "name": "stdout",
     "output_type": "stream",
     "text": [
      "[('A', 'B', 'C'), ('A', 'C', 'B'), ('B', 'A', 'C'), ('B', 'C', 'A'), ('C', 'A', 'B'), ('C', 'B', 'A')]\n"
     ]
    }
   ],
   "source": [
    "from itertools import permutations\n",
    "\n",
    "data = ['A', 'B', 'C']\n",
    "\n",
    "result = list(permutations(data, 3)) # 모든 순열 구하기\n",
    "print(result)"
   ]
  },
  {
   "cell_type": "code",
   "execution_count": 108,
   "metadata": {},
   "outputs": [
    {
     "name": "stdout",
     "output_type": "stream",
     "text": [
      "[('A', 'B', 'C'), ('A', 'C', 'B'), ('B', 'A', 'C'), ('B', 'C', 'A'), ('C', 'A', 'B'), ('C', 'B', 'A')]\n"
     ]
    }
   ],
   "source": [
    "from itertools import permutations\n",
    "\n",
    "data = ['A', 'B', 'C']\n",
    "\n"
   ]
  },
  {
   "cell_type": "markdown",
   "metadata": {},
   "source": [
    "조합 : 서로다른 n개에서 순서에 상관없이 서로 다른 r개를 선택하는 것 / 순서를 고려하지 않음"
   ]
  },
  {
   "cell_type": "code",
   "execution_count": 31,
   "metadata": {},
   "outputs": [
    {
     "name": "stdout",
     "output_type": "stream",
     "text": [
      "[('A', 'B'), ('A', 'C'), ('B', 'C')]\n"
     ]
    }
   ],
   "source": [
    "from itertools import combinations\n",
    "\n",
    "data = ['A', 'B', 'C']\n",
    "\n",
    "result = list(combinations(data, 2)) # 2개를 뽑는 모든 조합 구하기\n",
    "print(result)"
   ]
  },
  {
   "cell_type": "code",
   "execution_count": 109,
   "metadata": {},
   "outputs": [
    {
     "name": "stdout",
     "output_type": "stream",
     "text": [
      "[('A', 'B'), ('A', 'C'), ('B', 'C')]\n"
     ]
    }
   ],
   "source": [
    "from itertools import combinations\n",
    "\n",
    "data = ['A', 'B', 'C']\n"
   ]
  },
  {
   "cell_type": "markdown",
   "metadata": {},
   "source": [
    "파이썬 collections 라이브러리의 Counter는 등장 횟수를 세는 기능을 제공한다\n",
    "\n",
    "리스트와 같은 반복 가능한 객체가 주어졌을 때 내부의 원소가 몇번씩 등장했는지 알려준다"
   ]
  },
  {
   "cell_type": "code",
   "execution_count": 33,
   "metadata": {},
   "outputs": [
    {
     "name": "stdout",
     "output_type": "stream",
     "text": [
      "3\n",
      "2\n",
      "{'red': 2, 'blue': 3, 'green': 1}\n"
     ]
    }
   ],
   "source": [
    "from collections import Counter\n",
    "\n",
    "counter = Counter(['red', 'blue', 'red', 'green', 'blue', 'blue'])\n",
    "\n",
    "print(counter['blue'])\n",
    "print(counter['red'])\n",
    "\n",
    "print(dict(counter)) # 사전 자료형으로 반환"
   ]
  },
  {
   "cell_type": "code",
   "execution_count": null,
   "metadata": {},
   "outputs": [],
   "source": []
  },
  {
   "cell_type": "markdown",
   "metadata": {},
   "source": [
    "최대 공약수와 최소 공배수\n",
    "\n",
    "최대 공약수 :  두 수 이상의 여러 수의 공약수 중 최대인 수를 가리킵니다.\n",
    "\n",
    "최소 공배수 :  두 수 이상의 여러 수의 공배수 중 최소인 수를 가리킵니다.\n",
    "\n",
    "최대 공약수를 구해야 할 때는 math 라이브러리 gcd 함수를 이용할 수 있다,"
   ]
  },
  {
   "cell_type": "code",
   "execution_count": 34,
   "metadata": {},
   "outputs": [
    {
     "name": "stdout",
     "output_type": "stream",
     "text": [
      "7\n",
      "42\n"
     ]
    }
   ],
   "source": [
    "import math\n",
    "\n",
    "# 최소 공배수를(lcm) 구하는 함수\n",
    "\n",
    "def lcm(a,b):\n",
    "    return a*b // math.gcd(a,b)\n",
    "\n",
    "a = 21\n",
    "\n",
    "b = 14\n",
    "\n",
    "print(math.gcd(21,14)) # 최대 공약수 gcd\n",
    "\n",
    "print(lcm(21,14))"
   ]
  },
  {
   "cell_type": "code",
   "execution_count": 5,
   "metadata": {},
   "outputs": [
    {
     "name": "stdout",
     "output_type": "stream",
     "text": [
      "7\n",
      "42\n"
     ]
    }
   ],
   "source": [
    "import math\n",
    "\n",
    "a = 21\n",
    "\n",
    "b = 14 \n",
    "\n",
    "print(math.gcd(a,b)) # 최대 공약수\n",
    "print(math.lcm(a,b)) # 최소 공배수"
   ]
  },
  {
   "cell_type": "code",
   "execution_count": null,
   "metadata": {},
   "outputs": [],
   "source": []
  }
 ],
 "metadata": {
  "kernelspec": {
   "display_name": "base",
   "language": "python",
   "name": "python3"
  },
  "language_info": {
   "codemirror_mode": {
    "name": "ipython",
    "version": 3
   },
   "file_extension": ".py",
   "mimetype": "text/x-python",
   "name": "python",
   "nbconvert_exporter": "python",
   "pygments_lexer": "ipython3",
   "version": "3.9.12"
  },
  "orig_nbformat": 4
 },
 "nbformat": 4,
 "nbformat_minor": 2
}
