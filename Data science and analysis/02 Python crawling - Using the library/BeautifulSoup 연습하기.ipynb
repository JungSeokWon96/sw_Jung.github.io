{
 "cells": [
  {
   "cell_type": "code",
   "execution_count": null,
   "metadata": {},
   "outputs": [],
   "source": []
  },
  {
   "cell_type": "code",
   "execution_count": 1,
   "metadata": {},
   "outputs": [
    {
     "name": "stdout",
     "output_type": "stream",
     "text": [
      "<h1 id=\"title\">\n",
      " 한빛출판네트워크\n",
      "</h1>\n",
      "<div class=\"top\">\n",
      " <ulclass=\"menu\">\n",
      "  <li>\n",
      "   <a href='http://www.hanbit.co.kr/member/login.htmlclass=\"login\"'>\n",
      "    로그인\n",
      "   </a>\n",
      "  </li>\n",
      " </ulclass=\"menu\">\n",
      "</div>\n",
      "<ul class=\"brand\">\n",
      " <li>\n",
      "  <a \"=\"\" academy=\"\" href=\"http://www. hanbit.co.kr/media/&gt;한빛미디어&lt;li&gt;&lt;a href=\" http:=\"\" www.hanbit.co.kr=\"\">\n",
      "   한빛아카데미\n",
      "  </a>\n",
      " </li>\n",
      "</ul>\n"
     ]
    }
   ],
   "source": [
    "from bs4 import BeautifulSoup\n",
    "\n",
    "html = '<h1 id=\"title\">한빛출판네트워크</h1><div class=\"top\"><ulclass=\"menu\"><li><a href=http://www.hanbit.co.kr/member/login.htmlclass=\"login\">로그인 </a></li></ul><ul class=\"brand\"><li><a href=\"http://www. hanbit.co.kr/media/>한빛미디어<li><a href=\"http://www.hanbit.co.kr/academy/\">한빛아카데미</a></li></ul></div>'\n",
    "\n",
    "soup = BeautifulSoup(html, 'html.parser')\n",
    "\n",
    "print(soup.prettify())"
   ]
  },
  {
   "cell_type": "code",
   "execution_count": 2,
   "metadata": {},
   "outputs": [
    {
     "data": {
      "text/plain": [
       "<h1 id=\"title\">한빛출판네트워크</h1>"
      ]
     },
     "execution_count": 2,
     "metadata": {},
     "output_type": "execute_result"
    }
   ],
   "source": [
    "soup.h1"
   ]
  },
  {
   "cell_type": "code",
   "execution_count": 3,
   "metadata": {},
   "outputs": [
    {
     "data": {
      "text/plain": [
       "<h1 id=\"title\">한빛출판네트워크</h1>"
      ]
     },
     "execution_count": 3,
     "metadata": {},
     "output_type": "execute_result"
    }
   ],
   "source": [
    "tag_h1 = soup.h1\n",
    "tag_h1"
   ]
  },
  {
   "cell_type": "code",
   "execution_count": 4,
   "metadata": {},
   "outputs": [
    {
     "data": {
      "text/plain": [
       "<div class=\"top\"><ulclass=\"menu\"><li><a href='http://www.hanbit.co.kr/member/login.htmlclass=\"login\"'>로그인 </a></li></ulclass=\"menu\"></div>"
      ]
     },
     "execution_count": 4,
     "metadata": {},
     "output_type": "execute_result"
    }
   ],
   "source": [
    "tag_div = soup.div\n",
    "tag_div"
   ]
  },
  {
   "cell_type": "code",
   "execution_count": 5,
   "metadata": {},
   "outputs": [
    {
     "data": {
      "text/plain": [
       "<ul class=\"brand\"><li><a \"=\"\" academy=\"\" href=\"http://www. hanbit.co.kr/media/&gt;한빛미디어&lt;li&gt;&lt;a href=\" http:=\"\" www.hanbit.co.kr=\"\">한빛아카데미</a></li></ul>"
      ]
     },
     "execution_count": 5,
     "metadata": {},
     "output_type": "execute_result"
    }
   ],
   "source": [
    "tag_ul = soup.ul\n",
    "tag_ul"
   ]
  },
  {
   "cell_type": "code",
   "execution_count": 6,
   "metadata": {},
   "outputs": [
    {
     "data": {
      "text/plain": [
       "<li><a href='http://www.hanbit.co.kr/member/login.htmlclass=\"login\"'>로그인 </a></li>"
      ]
     },
     "execution_count": 6,
     "metadata": {},
     "output_type": "execute_result"
    }
   ],
   "source": [
    "tag_li = soup.li\n",
    "tag_li"
   ]
  },
  {
   "cell_type": "code",
   "execution_count": 7,
   "metadata": {},
   "outputs": [
    {
     "data": {
      "text/plain": [
       "<a href='http://www.hanbit.co.kr/member/login.htmlclass=\"login\"'>로그인 </a>"
      ]
     },
     "execution_count": 7,
     "metadata": {},
     "output_type": "execute_result"
    }
   ],
   "source": [
    "tag_a = soup.a\n",
    "tag_a"
   ]
  },
  {
   "cell_type": "code",
   "execution_count": 8,
   "metadata": {},
   "outputs": [
    {
     "data": {
      "text/plain": [
       "[<ul class=\"brand\"><li><a \"=\"\" academy=\"\" href=\"http://www. hanbit.co.kr/media/&gt;한빛미디어&lt;li&gt;&lt;a href=\" http:=\"\" www.hanbit.co.kr=\"\">한빛아카데미</a></li></ul>]"
      ]
     },
     "execution_count": 8,
     "metadata": {},
     "output_type": "execute_result"
    }
   ],
   "source": [
    "tag_ul_all = soup.find_all(\"ul\")\n",
    "tag_ul_all"
   ]
  },
  {
   "cell_type": "code",
   "execution_count": 9,
   "metadata": {},
   "outputs": [
    {
     "data": {
      "text/plain": [
       "[<li><a href='http://www.hanbit.co.kr/member/login.htmlclass=\"login\"'>로그인 </a></li>,\n",
       " <li><a \"=\"\" academy=\"\" href=\"http://www. hanbit.co.kr/media/&gt;한빛미디어&lt;li&gt;&lt;a href=\" http:=\"\" www.hanbit.co.kr=\"\">한빛아카데미</a></li>]"
      ]
     },
     "execution_count": 9,
     "metadata": {},
     "output_type": "execute_result"
    }
   ],
   "source": [
    "tag_li_all = soup.find_all(\"li\")\n",
    "tag_li_all"
   ]
  },
  {
   "cell_type": "code",
   "execution_count": 10,
   "metadata": {},
   "outputs": [
    {
     "data": {
      "text/plain": [
       "[<a href='http://www.hanbit.co.kr/member/login.htmlclass=\"login\"'>로그인 </a>,\n",
       " <a \"=\"\" academy=\"\" href=\"http://www. hanbit.co.kr/media/&gt;한빛미디어&lt;li&gt;&lt;a href=\" http:=\"\" www.hanbit.co.kr=\"\">한빛아카데미</a>]"
      ]
     },
     "execution_count": 10,
     "metadata": {},
     "output_type": "execute_result"
    }
   ],
   "source": [
    "tag_a_all = soup.find_all(\"a\")\n",
    "tag_a_all"
   ]
  },
  {
   "cell_type": "code",
   "execution_count": 11,
   "metadata": {},
   "outputs": [
    {
     "data": {
      "text/plain": [
       "{'href': 'http://www.hanbit.co.kr/member/login.htmlclass=\"login\"'}"
      ]
     },
     "execution_count": 11,
     "metadata": {},
     "output_type": "execute_result"
    }
   ],
   "source": [
    "tag_a.attrs"
   ]
  },
  {
   "cell_type": "code",
   "execution_count": 12,
   "metadata": {},
   "outputs": [
    {
     "data": {
      "text/plain": [
       "'http://www.hanbit.co.kr/member/login.htmlclass=\"login\"'"
      ]
     },
     "execution_count": 12,
     "metadata": {},
     "output_type": "execute_result"
    }
   ],
   "source": [
    "tag_a['href']"
   ]
  },
  {
   "cell_type": "code",
   "execution_count": 13,
   "metadata": {},
   "outputs": [
    {
     "data": {
      "text/plain": [
       "<ul class=\"brand\"><li><a \"=\"\" academy=\"\" href=\"http://www. hanbit.co.kr/media/&gt;한빛미디어&lt;li&gt;&lt;a href=\" http:=\"\" www.hanbit.co.kr=\"\">한빛아카데미</a></li></ul>"
      ]
     },
     "execution_count": 13,
     "metadata": {},
     "output_type": "execute_result"
    }
   ],
   "source": [
    "tag_ul_2 = soup.find('ul', attrs={'class':'brand'})\n",
    "tag_ul_2"
   ]
  },
  {
   "cell_type": "code",
   "execution_count": 14,
   "metadata": {},
   "outputs": [
    {
     "data": {
      "text/plain": [
       "<h1 id=\"title\">한빛출판네트워크</h1>"
      ]
     },
     "execution_count": 14,
     "metadata": {},
     "output_type": "execute_result"
    }
   ],
   "source": [
    "title = soup.find(id=\"title\")\n",
    "title"
   ]
  },
  {
   "cell_type": "code",
   "execution_count": 15,
   "metadata": {},
   "outputs": [
    {
     "data": {
      "text/plain": [
       "'한빛출판네트워크'"
      ]
     },
     "execution_count": 15,
     "metadata": {},
     "output_type": "execute_result"
    }
   ],
   "source": [
    "title.string"
   ]
  }
 ],
 "metadata": {
  "kernelspec": {
   "display_name": "Python 3",
   "language": "python",
   "name": "python3"
  },
  "language_info": {
   "codemirror_mode": {
    "name": "ipython",
    "version": 3
   },
   "file_extension": ".py",
   "mimetype": "text/x-python",
   "name": "python",
   "nbconvert_exporter": "python",
   "pygments_lexer": "ipython3",
   "version": "3.8.3"
  }
 },
 "nbformat": 4,
 "nbformat_minor": 4
}
