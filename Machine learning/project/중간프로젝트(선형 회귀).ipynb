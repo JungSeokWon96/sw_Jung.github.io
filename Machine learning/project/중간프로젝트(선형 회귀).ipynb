{
 "cells": [
  {
   "cell_type": "markdown",
   "metadata": {},
   "source": [
    "# 중간 프로젝트(선형 회귀)\n",
    "\n",
    "### 다음은 지난 10일동안 도시에서 순찰 중인 경찰관(officers)와 보고된 범죄(crime)의 수를 나타낸다.\n",
    "\n",
    "|Day|officers|crime||Day|officers|crime|\n",
    "|---|--------|-----||---|--------|-----|\n",
    "|1|10|5||6|6|8|\n",
    "|2|15|2||7|18|1|\n",
    "|3|16|1||8|12|5|\n",
    "|4|1|9||9|14|3|\n",
    "|5|4|7||10|7|6|\n",
    "\n",
    "#### 선형 회귀 모델을 구하여라 (프로그램으로 구현하라는뜻) \n",
    "- 학습은 4000-5000번 수행하며, 손실함수는 평균제곱오차\n",
    "- 최적화는 경사하강기법 이용하며 학습률은 0.001로 정함\n",
    "- 경찰관의 수는 비종속변수(X), 범죄의 수는 종족 변수(Y)\n",
    "- 구현된 모델을 이용하여 30명의 경찰관이 순찰을 할 때 예측되는 범죄의 수를 출력하시오\n",
    "- 데이터와 완성된 모델은 matplot을 이용하여 그림으로 보여줄 것\n",
    "\n",
    " Y 값이 음수로 나와도 상관없음"
   ]
  },
  {
   "cell_type": "code",
   "execution_count": 66,
   "metadata": {},
   "outputs": [
    {
     "name": "stdout",
     "output_type": "stream",
     "text": [
      "\n",
      "=== Test ===\n",
      "officers: 30, crime: [-2.452516]\n"
     ]
    },
    {
     "data": {
      "image/png": "[encoded data removed]",
      "text/plain": [
       "<Figure size 432x288 with 1 Axes>"
      ]
     },
     "metadata": {
      "needs_background": "light"
     },
     "output_type": "display_data"
    }
   ],
   "source": [
    "import tensorflow as tf\n",
    "import matplotlib.pyplot as plt\n",
    "\n",
    "x_data = [10, 15, 16,1,4,6,18,12,14,7] #경찰\n",
    "y_data = [5, 2, 1,9,7,8,1,5,3,6]#범인\n",
    "W = tf.Variable(tf.random_uniform([1], -1.0, 1.0)) \n",
    "b = tf.Variable(tf.random_uniform([1], -1.0, 1.0))\n",
    "\n",
    "X = tf.placeholder(tf.float32, name=\"officers\")\n",
    "Y = tf.placeholder(tf.float32, name=\"crime\")\n",
    "\n",
    "\n",
    "hypothesis = W * X + b#hypothesis실제값 Y = W * X + b\n",
    "\n",
    "cost = tf.reduce_mean(tf.square(hypothesis - Y))#tf.reduce_mean평균  tf.square제곱  손실함수\n",
    "\n",
    "optimizer = tf.train.GradientDescentOptimizer(learning_rate=0.001)#GradientDescentOptimizer경사하강기법 #learning_rate학습률\n",
    "\n",
    "train_op = optimizer.minimize(cost)\n",
    "\n",
    "with tf.Session() as sess: #with자동으로 세션 클로즈\n",
    "    sess.run(tf.global_variables_initializer())\n",
    "    for step in range(4000): \n",
    "        _, cost_val = sess.run([train_op, cost], feed_dict={X: x_data, Y: y_data}) \n",
    "        \n",
    "        \n",
    "    print(\"\\n=== Test ===\") \n",
    "    print(\"officers: 30, crime:\", sess.run(hypothesis, feed_dict={X: 30})) \n",
    "    fig = plt.figure()\n",
    "    ax = fig.add_subplot(1,1,1)\n",
    "ax.set_xlim([0, 18])\n",
    "ax.set_ylim([0, 10])\n",
    "x = [1,4,6,7,10,12,14,15,16,18] \n",
    "y = [9,7,8,6,5,5,3,2,1,1]\n",
    "plt.xlabel('officers')\n",
    "plt.ylabel('crime')\n",
    "plt.plot(x,y)\n",
    "plt.show()"
   ]
  }
 ],
 "metadata": {
  "kernelspec": {
   "display_name": "Python 3",
   "language": "python",
   "name": "python3"
  },
  "language_info": {
   "codemirror_mode": {
    "name": "ipython",
    "version": 3
   },
   "file_extension": ".py",
   "mimetype": "text/x-python",
   "name": "python",
   "nbconvert_exporter": "python",
   "pygments_lexer": "ipython3",
   "version": "3.7.9"
  }
 },
 "nbformat": 4,
 "nbformat_minor": 4
}
