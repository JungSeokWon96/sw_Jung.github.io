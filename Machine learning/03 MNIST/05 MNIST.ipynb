{
 "cells": [
  {
   "cell_type": "markdown",
   "metadata": {},
   "source": [
    "# MNIST 학습"
   ]
  },
  {
   "cell_type": "code",
   "execution_count": 9,
   "metadata": {
    "scrolled": true
   },
   "outputs": [
    {
     "name": "stdout",
     "output_type": "stream",
     "text": [
      "Extracting ./mnist/data/train-images-idx3-ubyte.gz\n",
      "Extracting ./mnist/data/train-labels-idx1-ubyte.gz\n",
      "Extracting ./mnist/data/t10k-images-idx3-ubyte.gz\n",
      "Extracting ./mnist/data/t10k-labels-idx1-ubyte.gz\n",
      "Epoch: 0001 Avg. cost = 0.404\n",
      "Epoch: 0002 Avg. cost = 0.147\n",
      "Epoch: 0003 Avg. cost = 0.094\n",
      "Epoch: 0004 Avg. cost = 0.068\n",
      "Epoch: 0005 Avg. cost = 0.051\n",
      "Epoch: 0006 Avg. cost = 0.039\n",
      "Epoch: 0007 Avg. cost = 0.028\n",
      "Epoch: 0008 Avg. cost = 0.025\n",
      "Epoch: 0009 Avg. cost = 0.021\n",
      "Epoch: 0010 Avg. cost = 0.015\n",
      "Epoch: 0011 Avg. cost = 0.019\n",
      "Epoch: 0012 Avg. cost = 0.012\n",
      "Epoch: 0013 Avg. cost = 0.013\n",
      "Epoch: 0014 Avg. cost = 0.011\n",
      "Epoch: 0015 Avg. cost = 0.013\n",
      "최적화 완료!\n",
      "정확도: 0.9799\n"
     ]
    }
   ],
   "source": [
    "# 머신러닝 학습의 Hello World 와 같은 MNIST(손글씨 숫자 인식) 문제를 신경망으로 풀기\n",
    "import tensorflow as tf\n",
    "tf.keras.datasets.mnist.load_data()\n",
    "tf.data.Dataset\n",
    "\n",
    "from tensorflow.examples.tutorials.mnist import input_data\n",
    "# 텐서플로우에 기본 내장된 mnist 모듈을 이용하여 데이터 로드\n",
    "# 지정한 폴더에 MNIST 데이터가 없는 경우 자동으로 데이터를 다운로드함\n",
    "# one_hot 옵션은 레이블을 동물 분류 예제에서 보았던 one_hot 방식의 데이터로 만들어 줌\n",
    "mnist = input_data.read_data_sets(\"./mnist/data/\", one_hot=True)\n",
    "\n",
    "\n",
    "################\n",
    "# 신경망 모델 구성\n",
    "################\n",
    "# 입력 값의 차원은 [배치크기, 특성값] 으로 되어 있음\n",
    "# 손글씨 이미지는 28x28 픽셀로 이루어져 있고, 이를 784개의 특성 값으로 정함\n",
    "X = tf.placeholder(tf.float32, [None, 784])\n",
    "\n",
    "# 결과는 0~9 의 10 가지 분류를 가짐\n",
    "Y = tf.placeholder(tf.float32, [None, 10])\n",
    "# 신경망의 레이어는 다음처럼 구성\n",
    "# 784(입력 특성 값) -> 256 (히든레이어 뉴런 개수) -> 256 (히든레이어 뉴런 개수) -> 10 (결과값 0~9 분류)\n",
    "\n",
    "W1 = tf.Variable(tf.random_normal([784, 256], stddev=0.01))\n",
    "# 입력 값에 가중치를 곱하고 ReLU 함수를 이용하여 레이어를 만듦\n",
    "# 표준 편차가 0.01인 정규분포를 가지는 임의의 값으로 뉴런(변수)를 초기화\n",
    "L1 = tf.nn.relu(tf.matmul(X, W1))\n",
    "\n",
    "W2 = tf.Variable(tf.random_normal([256, 256], stddev=0.01))\n",
    "# L1 레이어의 출력 값에 가중치를 곱하고 ReLU 함수를 이용하여 레이어를 만듦\n",
    "L2 = tf.nn.relu(tf.matmul(L1, W2))\n",
    "\n",
    "W3 = tf.Variable(tf.random_normal([256, 10], stddev=0.01))\n",
    "# 최종 모델의 출력 값은 W3 변수를 곱해 10개의 분류를 가지게 됨\n",
    "model = tf.matmul(L2, W3)\n",
    "\n",
    "\n",
    "##################\n",
    "# 신경망 모델 학습\n",
    "##################\n",
    "cost = tf.reduce_mean(tf.nn.softmax_cross_entropy_with_logits(logits=model, labels=Y))\n",
    "optimizer = tf.train.AdamOptimizer(0.001).minimize(cost)\n",
    "\n",
    "init = tf.global_variables_initializer()\n",
    "sess = tf.Session()\n",
    "sess.run(init)\n",
    "batch_size = 100\n",
    "total_batch = int(mnist.train.num_examples / batch_size)\n",
    "for epoch in range(15):\n",
    "# 학습데이터 전체를 한바퀴 도는 것을 에포크라함\n",
    "    total_cost = 0\n",
    "    for i in range(total_batch):\n",
    "        # 텐서플로우의 mnist 모델의 next_batch 함수를 이용해 지정한 크기만큼 학습할 데이터를 가져옴\n",
    "        batch_xs, batch_ys = mnist.train.next_batch(batch_size)\n",
    "        _, cost_val = sess.run([optimizer, cost], feed_dict={X: batch_xs, Y: batch_ys})\n",
    "        total_cost += cost_val\n",
    "        \n",
    "    print('Epoch:', '%04d' % (epoch + 1),\n",
    "          'Avg. cost =', '{:.3f}'.format(total_cost / total_batch))\n",
    "print('최적화 완료!')\n",
    "\n",
    "\n",
    "#########\n",
    "# 결과 확인\n",
    "#########\n",
    "# model 로 예측한 값과 실제 레이블인 Y의 값 비교\n",
    "# tf.argmax 함수를 이용해 예측한 값에서 가장 큰 값을 예측한 레이블이라고 평가함\n",
    "# 예) [0.1 0 0 0.7 0 0.2 0 0 0 0] -> 3\n",
    "is_correct = tf.equal(tf.argmax(model, 1), tf.argmax(Y, 1))\n",
    "accuracy = tf.reduce_mean(tf.cast(is_correct, tf.float32))\n",
    "print('정확도:', sess.run(accuracy, feed_dict={X: mnist.test.images, Y: mnist.test.labels}))\n",
    "sess.close()"
   ]
  },
  {
   "cell_type": "markdown",
   "metadata": {},
   "source": [
    "# 드롭아웃 + matplotlib"
   ]
  },
  {
   "cell_type": "code",
   "execution_count": 2,
   "metadata": {},
   "outputs": [
    {
     "name": "stdout",
     "output_type": "stream",
     "text": [
      "Extracting ./mnist/data/train-images-idx3-ubyte.gz\n",
      "Extracting ./mnist/data/train-labels-idx1-ubyte.gz\n",
      "Extracting ./mnist/data/t10k-images-idx3-ubyte.gz\n",
      "Extracting ./mnist/data/t10k-labels-idx1-ubyte.gz\n",
      "WARNING:tensorflow:From <ipython-input-2-5105b449179a>:16: calling dropout (from tensorflow.python.ops.nn_ops) with keep_prob is deprecated and will be removed in a future version.\n",
      "Instructions for updating:\n",
      "Please use `rate` instead of `keep_prob`. Rate should be set to `rate = 1 - keep_prob`.\n",
      "Epoch: 0001 Avg. cost = 0.426\n",
      "Epoch: 0002 Avg. cost = 0.161\n",
      "Epoch: 0003 Avg. cost = 0.112\n",
      "Epoch: 0004 Avg. cost = 0.088\n",
      "Epoch: 0005 Avg. cost = 0.070\n",
      "Epoch: 0006 Avg. cost = 0.060\n",
      "Epoch: 0007 Avg. cost = 0.051\n",
      "Epoch: 0008 Avg. cost = 0.046\n",
      "Epoch: 0009 Avg. cost = 0.042\n",
      "Epoch: 0010 Avg. cost = 0.039\n",
      "Epoch: 0011 Avg. cost = 0.032\n",
      "Epoch: 0012 Avg. cost = 0.030\n",
      "Epoch: 0013 Avg. cost = 0.030\n",
      "Epoch: 0014 Avg. cost = 0.026\n",
      "Epoch: 0015 Avg. cost = 0.025\n",
      "Epoch: 0016 Avg. cost = 0.025\n",
      "Epoch: 0017 Avg. cost = 0.025\n",
      "Epoch: 0018 Avg. cost = 0.022\n",
      "Epoch: 0019 Avg. cost = 0.021\n",
      "Epoch: 0020 Avg. cost = 0.020\n",
      "Epoch: 0021 Avg. cost = 0.021\n",
      "Epoch: 0022 Avg. cost = 0.019\n",
      "Epoch: 0023 Avg. cost = 0.019\n",
      "Epoch: 0024 Avg. cost = 0.017\n",
      "Epoch: 0025 Avg. cost = 0.018\n",
      "Epoch: 0026 Avg. cost = 0.019\n",
      "Epoch: 0027 Avg. cost = 0.018\n",
      "Epoch: 0028 Avg. cost = 0.016\n",
      "Epoch: 0029 Avg. cost = 0.015\n",
      "Epoch: 0030 Avg. cost = 0.018\n",
      "최적화 완료!\n",
      "정확도: 0.982\n"
     ]
    },
    {
     "data": {
      "image/png": "[encoded data removed]",
      "text/plain": [
       "<Figure size 432x288 with 10 Axes>"
      ]
     },
     "metadata": {},
     "output_type": "display_data"
    }
   ],
   "source": [
    "import tensorflow as tf\n",
    "import numpy as np\n",
    "import matplotlib.pyplot as plt\n",
    "tf.keras.datasets.mnist.load_data()\n",
    "tf.data.Dataset\n",
    "\n",
    "from tensorflow.examples.tutorials.mnist import input_data\n",
    "mnist = input_data.read_data_sets(\"./mnist/data/\", one_hot=True)\n",
    "\n",
    "X = tf.placeholder(tf.float32, [None, 784])\n",
    "Y = tf.placeholder(tf.float32, [None, 10])\n",
    "keep_prob = tf.placeholder(tf.float32)\n",
    "\n",
    "W1 = tf.Variable(tf.random_normal([784, 256], stddev=0.01))\n",
    "L1 = tf.nn.relu(tf.matmul(X, W1))\n",
    "L1 = tf.nn.dropout(L1, keep_prob)\n",
    "\n",
    "W2 = tf.Variable(tf.random_normal([256, 256], stddev=0.01))\n",
    "L2 = tf.nn.relu(tf.matmul(L1, W2))\n",
    "L2 = tf.nn.dropout(L2, keep_prob)\n",
    "\n",
    "W3 = tf.Variable(tf.random_normal([256, 10], stddev=0.01))\n",
    "model = tf.matmul(L2, W3)\n",
    "\n",
    "cost = tf.reduce_mean(tf.nn.softmax_cross_entropy_with_logits(logits=model, labels=Y))\n",
    "optimizer = tf.train.AdamOptimizer(0.001).minimize(cost)\n",
    "\n",
    "\n",
    "#################\n",
    "# 신경망 모델 학습\n",
    "##################\n",
    "init = tf.global_variables_initializer()\n",
    "sess = tf.Session()\n",
    "sess.run(init)\n",
    "\n",
    "batch_size = 100\n",
    "total_batch = int(mnist.train.num_examples / batch_size)\n",
    "\n",
    "for epoch in range(30):\n",
    "    total_cost = 0\n",
    "    for i in range(total_batch):\n",
    "        batch_xs, batch_ys = mnist.train.next_batch(batch_size)\n",
    "        _, cost_val = sess.run([optimizer, cost], feed_dict={X: batch_xs, Y: batch_ys, keep_prob: 0.8})\n",
    "        total_cost += cost_val\n",
    "    \n",
    "    print('Epoch:', '%04d' % (epoch + 1),\n",
    "          'Avg. cost =', '{:.3f}'.format(total_cost / total_batch))\n",
    "print('최적화 완료!')\n",
    "\n",
    "############\n",
    "# 결과 확인\n",
    "############\n",
    "is_correct = tf.equal(tf.argmax(model, 1), tf.argmax(Y, 1))\n",
    "accuracy = tf.reduce_mean(tf.cast(is_correct, tf.float32))\n",
    "# 예측 시에는 keep_prob에 1을 넣어 신경망 전체를 사용\n",
    "print('정확도:', sess.run(accuracy, feed_dict={X: mnist.test.images, Y: mnist.test.labels, keep_prob: 1}))\n",
    "\n",
    "#드롭아웃(1-3/4) 코드와 앞부분은 동일\n",
    "#######################\n",
    "# 결과 확인 (matplot)\n",
    "#######################\n",
    "#테스트 데이터를 이용해 예측 모델을 실행, 결과값을 labels에 저장\n",
    "labels = sess.run(model, feed_dict={X: mnist.test.images, Y: mnist.test.labels, keep_prob: 1})\n",
    "#손글씨 출력할 그래프 준비\n",
    "fig = plt.figure()\n",
    "for i in range(10):\n",
    "    #2행 5열의 그래프 만들고, i+1 번째에 숫자 이미지 출력\n",
    "    subplot = fig.add_subplot(2, 5, i + 1)\n",
    "    #이미지를 깨끗하게 출력하기 위해 x와 y의 눈금을 출력 안함\n",
    "    subplot.set_xticks([])\n",
    "    subplot.set_yticks([])\n",
    "    #출력한 이미지 위에 예측한 숫자 출력\n",
    "    #np.argmax는 tf.argmax와 같은 기능의 함수\n",
    "    # 결과값인 labels의 i번째 요소가 원-핫 인코딩 형식으로 되어 있으므로 해당 배열에서 가장 높은 값을 가진인덱스를 예측한 숫자를 가짐\n",
    "    \n",
    "    subplot.set_title('%d' % np.argmax(labels[i])) \n",
    "    #1차원 배열로 되어 있는 i번째 이미지 데이터를 28*28 형식의 2차원 비열로 변형하여 이미지 형태를 출력\n",
    "    #cmap 파라미터를 통해 이미지를 그레이스케일로 출력\n",
    "    subplot.imshow(mnist.test.images[i].reshape((28, 28)), cmap=plt.cm.gray_r)\n",
    "    \n",
    "#그래프 출력    \n",
    "plt.show()\n",
    "#또는 %matplotlib notebook 을 입력해야 jupyter notebook 에서 이미지 보임\n",
    "%matplotlib inline"
   ]
  },
  {
   "cell_type": "code",
   "execution_count": 12,
   "metadata": {},
   "outputs": [
    {
     "data": {
      "text/plain": [
       "55000"
      ]
     },
     "execution_count": 12,
     "metadata": {},
     "output_type": "execute_result"
    }
   ],
   "source": [
    "mnist.train.num_examples"
   ]
  },
  {
   "cell_type": "code",
   "execution_count": 13,
   "metadata": {},
   "outputs": [
    {
     "data": {
      "text/plain": [
       "<tensorflow.examples.tutorials.mnist.input_data._DataSet at 0x187038ada58>"
      ]
     },
     "execution_count": 13,
     "metadata": {},
     "output_type": "execute_result"
    }
   ],
   "source": [
    "mnist.train"
   ]
  },
  {
   "cell_type": "code",
   "execution_count": 14,
   "metadata": {},
   "outputs": [
    {
     "data": {
      "text/plain": [
       "_Datasets(train=<tensorflow.examples.tutorials.mnist.input_data._DataSet object at 0x00000187038ADA58>, validation=<tensorflow.examples.tutorials.mnist.input_data._DataSet object at 0x00000187038AD5F8>, test=<tensorflow.examples.tutorials.mnist.input_data._DataSet object at 0x00000187038AD828>)"
      ]
     },
     "execution_count": 14,
     "metadata": {},
     "output_type": "execute_result"
    }
   ],
   "source": [
    "mnist"
   ]
  },
  {
   "cell_type": "code",
   "execution_count": 15,
   "metadata": {},
   "outputs": [
    {
     "data": {
      "text/plain": [
       "<module 'tensorflow.examples.tutorials.mnist.input_data' from 'c:\\\\users\\\\jung suk won\\\\appdata\\\\local\\\\programs\\\\python\\\\python36\\\\lib\\\\site-packages\\\\tensorflow_core\\\\examples\\\\tutorials\\\\mnist\\\\input_data.py'>"
      ]
     },
     "execution_count": 15,
     "metadata": {},
     "output_type": "execute_result"
    }
   ],
   "source": [
    "input_data"
   ]
  },
  {
   "cell_type": "code",
   "execution_count": 16,
   "metadata": {},
   "outputs": [
    {
     "data": {
      "text/plain": [
       "<bound method _DataSet.next_batch of <tensorflow.examples.tutorials.mnist.input_data._DataSet object at 0x00000187038ADA58>>"
      ]
     },
     "execution_count": 16,
     "metadata": {},
     "output_type": "execute_result"
    }
   ],
   "source": [
    "mnist.train.next_batch"
   ]
  },
  {
   "cell_type": "code",
   "execution_count": null,
   "metadata": {},
   "outputs": [],
   "source": []
  }
 ],
 "metadata": {
  "kernelspec": {
   "display_name": "Python 3",
   "language": "python",
   "name": "python3"
  },
  "language_info": {
   "codemirror_mode": {
    "name": "ipython",
    "version": 3
   },
   "file_extension": ".py",
   "mimetype": "text/x-python",
   "name": "python",
   "nbconvert_exporter": "python",
   "pygments_lexer": "ipython3",
   "version": "3.7.9"
  }
 },
 "nbformat": 4,
 "nbformat_minor": 4
}
