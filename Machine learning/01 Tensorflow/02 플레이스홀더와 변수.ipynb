{
 "cells": [
  {
   "cell_type": "markdown",
   "metadata": {},
   "source": [
    "# 플레이스홀더와 변수"
   ]
  },
  {
   "cell_type": "code",
   "execution_count": 1,
   "metadata": {},
   "outputs": [
    {
     "name": "stdout",
     "output_type": "stream",
     "text": [
      "Tensor(\"Placeholder:0\", shape=(?, 3), dtype=float32)\n"
     ]
    }
   ],
   "source": [
    "import tensorflow as tf\n",
    "\n",
    "X = tf.placeholder(tf.float32, [None, 3])\n",
    "print(X)"
   ]
  },
  {
   "cell_type": "markdown",
   "metadata": {},
   "source": [
    "- tf.placeholder: 계산을 실행할 때 입력 값을 받는 변수로 사용\n",
    "- None 은 크기가 정해지지 않았음을 의미"
   ]
  },
  {
   "cell_type": "code",
   "execution_count": 4,
   "metadata": {},
   "outputs": [
    {
     "name": "stdout",
     "output_type": "stream",
     "text": [
      "=== x_data ===\n",
      "[[1, 2, 3], [4, 5, 6]]\n",
      "=== W ===\n",
      "[[-0.13256821  0.5585371 ]\n",
      " [ 0.4690307  -1.2074809 ]\n",
      " [-0.75842935  0.8753841 ]]\n",
      "=== b ===\n",
      "[[-0.08744089]\n",
      " [ 0.8134209 ]]\n",
      "=== expr ===\n",
      "[[-1.5572357  0.6822867]\n",
      " [-1.9222745  2.2624693]]\n"
     ]
    }
   ],
   "source": [
    "# X 플레이스홀더에 넣을 값\n",
    "# 플레이스홀더에서 설정한 것 처럼, 두번째 차원의 요소의 개수는 3개\n",
    "x_data = [[1, 2, 3], [4, 5, 6]]\n",
    "\n",
    "# tf.Variable: 그래프를 계산하면서 최적화 할 변수들, 이 값이 바로 신경망을 좌우하는 값들\n",
    "# tf.random_normal: 각 변수들의 초기값을 정규분포 랜덤 값으로 초기화\n",
    "#W= tf.Variable([[0.1,0.1],[0.2,0.2],[0.3,0.3]]처럼 직접 원하는 텐서의 형태의 데이터를 만들어도 됨\n",
    "W = tf.Variable(tf.random_normal([3, 2]))\n",
    "b = tf.Variable(tf.random_normal([2, 1]))\n",
    "\n",
    "# 입력 값과 변수들을 계산할 수식 작성\n",
    "# tf.matmul 함수 : 행렬 계산 수행\n",
    "# 곱셈연산자(*), tf.mul 함수 : 행렬이 아닌 경우 일반적인 경우\n",
    "expr = tf.matmul(X, W) + b\n",
    "\n",
    "sess = tf.Session()\n",
    "# 위에서 설정한 Variable 들의 값들을 초기화 하기 위해\n",
    "# 처음에 tf.global_variables_initializer 를 한 번 실행해야 함\n",
    "sess.run(tf.global_variables_initializer())\n",
    "print(\"=== x_data ===\")\n",
    "print(x_data)\n",
    "print(\"=== W ===\")\n",
    "print(sess.run(W))\n",
    "print(\"=== b ===\")\n",
    "print(sess.run(b))\n",
    "print(\"=== expr ===\")\n",
    "# expr 수식에는 X 라는 입력 값 필요\n",
    "# feed_dict 매개변수 : 사용할 실제 입력 값을 지정\n",
    "print(sess.run(expr, feed_dict={X: x_data}))\n",
    "sess.close()"
   ]
  },
  {
   "cell_type": "code",
   "execution_count": null,
   "metadata": {},
   "outputs": [],
   "source": []
  }
 ],
 "metadata": {
  "kernelspec": {
   "display_name": "Python 3",
   "language": "python",
   "name": "python3"
  },
  "language_info": {
   "codemirror_mode": {
    "name": "ipython",
    "version": 3
   },
   "file_extension": ".py",
   "mimetype": "text/x-python",
   "name": "python",
   "nbconvert_exporter": "python",
   "pygments_lexer": "ipython3",
   "version": "3.7.9"
  }
 },
 "nbformat": 4,
 "nbformat_minor": 4
}
