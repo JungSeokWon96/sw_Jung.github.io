{
 "cells": [
  {
   "cell_type": "markdown",
   "metadata": {},
   "source": [
    "# **04 코딩 테스트 필수 문법**"
   ]
  },
  {
   "cell_type": "markdown",
   "metadata": {},
   "source": [
    "## **04-1 빌트인 데이터 타입**  \n",
    "\n",
    "언어 자체에서 제공하는 데이터 타입과 컬렉션 데이터 타입이 있다. <span style=\"color:red\"> **정수형(int),부동소수형(float),문자열**</span> 타입이 있고 컬렉션 데이터 타입으로는 <span style=\"color:red\">**리스트, 튜플, 셋, 딕셔너리 등이 있다.**</span>"
   ]
  },
  {
   "cell_type": "markdown",
   "metadata": {},
   "source": [
    "### **엡실론을 포함한 연산에 주의하라**\n",
    "\n",
    "파이썬은 부동소수형 데이터를 이진법으로 표현하기 때문에 표현과정에서 오차가 발생한다. 예를 들어 10 % 3.2의 연산결과를 보면 결과 값이 0.4가 아니라 0.399999999947이다. 이를 엡실론 이라고 한다. 부동소수형을 사용하여 코드를 작성하면 엡실론이라는 요소 때문에 일부 테스트 케이스가 통과하지 못하니 **<span style=\"color:red\">코딩 테스트에서 부동소수형 데이터를 다룰 일이 생겼을 때 이 엡실론을 항상 생각해 보는 것이 좋다. </span>**"
   ]
  },
  {
   "cell_type": "markdown",
   "metadata": {},
   "source": [
    "## **04-2 컬렉션 데이터 타입** \n",
    "\n",
    "컬렉션은 여러 값을 담는 데이터 타입을 말하는데 대표적으로 **리스트, 튜플, 딕셔너리, 셋, 문자열** 등이 있다. 이 컬렉션은 데이터의 수정 가능 여부에 따라 변경할 수 있는 객체(mutable), 변경할 수 없는 객체(immutable) 이렇게 2가지로 나뉜다. \n",
    "\n",
    "- mutable 객체 : mutable 객체는 **<span style=\"color:yellow\">객체 생성 후 객체를 수정 할 수 있다. </span>** 대표적으로 리스트, 딕셔너리, 셋이 있다. \n",
    "\n",
    "- immutable 객체 : immutable객체는 **<span style=\"color:yellow\">객체 생성 후 객체를 수정할 수 없다. </span>** 대표적으로는 정수, 부동소수점, 문자열, 튜플이 있다."
   ]
  },
  {
   "cell_type": "markdown",
   "metadata": {},
   "source": [
    "## **04-3 <span style=\"color:red\">함수</span>** \n",
    "파이썬의 함수는 def라는 예약어를 사용하여 정의한다.\n",
    "```py\n",
    "def add(num1, num2):\n",
    "result = num1 + num2\n",
    "return result\n",
    "\n",
    "ret = add(5,10)\n",
    "print(ret)\n",
    "```"
   ]
  },
  {
   "cell_type": "markdown",
   "metadata": {},
   "source": [
    "## **<span style=\"color:red\">람다식</span>** \n",
    "\n",
    "lambda는 함수를 더 간단하게 표현하는 방법이다. \n",
    "```py\n",
    "num = [1,2,3,4,5]\n",
    "add = lambda x,y : x+y, num\n",
    "print(add)\n",
    "```"
   ]
  },
  {
   "cell_type": "markdown",
   "metadata": {},
   "source": [
    "## **04-4 코딩 테스트 코드 구현 노하우** "
   ]
  },
  {
   "cell_type": "markdown",
   "metadata": {},
   "source": [
    "### **조기 반한( early return )**\n",
    "\n",
    "코드 실행 과정이 함수 끝까지 도달하기 전에 반환하는 기법이다. 이 방식은 코드의 가독성을 높여줄 뿐만 아니라 예외를 조금 더 깔끔하고 빠르게 처리 할 수 있다.\n",
    "\n",
    "```py\n",
    "def total_price(quantity, price):\n",
    "  total = quantity * price  \n",
    "  if total > 100:   \n",
    "    return total * 0.9      \n",
    "  return total\n",
    "\n",
    "print(total_price(4, 50))\n",
    "```"
   ]
  },
  {
   "cell_type": "markdown",
   "metadata": {},
   "source": [
    "### **보호 구문 ( guard clauses )**\n",
    "\n",
    "본격적인 로직을 진행하기 전 예외 처리 코드를 추가하는 기법이다. 처음부터 예외를 고려하기 때문에, 특별한 케이스에 대한 필요없는 연산을 소비할 필요가 없어 시간 상 이득을 볼 수 있으며, 코드를 더 안전하게 작성할 수 있다.\n",
    "\n",
    "```py\n",
    "def calculate_average(numbers):\n",
    "  if numbers is None:  \n",
    "    return None\n",
    "\n",
    "  if not isinstance(numbers, list):  \n",
    "    return None\n",
    "\n",
    "  if len(numbers) == 0:  \n",
    "    return None\n",
    "\n",
    "  total = sum(numbers)  \n",
    "  average = total / len(numbers)\n",
    "  return average"
   ]
  },
  {
   "cell_type": "markdown",
   "metadata": {},
   "source": [
    "### **합성 함수 ( composite method )**\n",
    "2개 이상의 함수를 활용하여 함수를 추가로 만드는 기법이다. 보통 함성 함수는 람다식을 활용한다. 이렇게 코드를 구현하면 코드를 쉽게 관리할 수 있고, 코드를 쉽게 사용할 수 있다.\n",
    "\n",
    "```py\n",
    "def add_three(x): \n",
    "  return x + 3\n",
    "\n",
    "def square(x):  \n",
    "  return x * x\n",
    "\n",
    "composed_function = lambda x: square(add_three(x)) \n",
    "print(composed_function(3))  \n",
    "```"
   ]
  },
  {
   "cell_type": "markdown",
   "metadata": {},
   "source": [
    "## **추가문제**"
   ]
  },
  {
   "cell_type": "markdown",
   "metadata": {},
   "source": [
    "1. 리스트"
   ]
  },
  {
   "cell_type": "code",
   "execution_count": 2,
   "metadata": {},
   "outputs": [
    {
     "name": "stdout",
     "output_type": "stream",
     "text": [
      "[1, 2, 3, 4, 5]\n",
      "[1, 2, 6, 3, 4, 5]\n",
      "5\n",
      "[1, 2, 6, 3, 4]\n",
      "1\n",
      "[2, 6, 3, 4]\n",
      "[2, 3, 4]\n",
      "[2, 3, 4, 7, 8]\n",
      "4\n",
      "[1, 2, 3, 4, 5, 6]\n",
      "[1, 2, 3, 4]\n",
      "True\n"
     ]
    }
   ],
   "source": [
    "#############################################################\n",
    "# | cafe       | http://cafe.naver.com/dremdelover          |\n",
    "# | Q&A        | https://open.kakao.com/o/gX0WnTCf          |\n",
    "# | business   | ultrasuperrok@gmail.com                    |\n",
    "#############################################################\n",
    "\n",
    "l = [1,2,3,4]\n",
    "\n",
    "# append(item): 리스트의 끝에 item을 추가합니다. 반환값은 없습니다.\n",
    "# 시간 복잡도: O(1) (상수 시간)\n",
    "l.append(5)\n",
    "print(l)\n",
    "\n",
    "# insert(idx, item): idx 위치에 item을 추가합니다. 반환값은 없습니다.\n",
    "# 시간 복잡도: O(n) (n: 리스트의 길이)\n",
    "l.insert(2, 6)\n",
    "print(l)  # 출력: [1, 2, 6, 3, 4, 5]\n",
    "\n",
    "# pop(): 리스트의 마지막 요소를 제거하고 반환합니다.\n",
    "# 시간 복잡도: O(1) (상수 시간)\n",
    "print(l.pop())  # 출력: 5\n",
    "print(l)  # 출력: [1, 2, 6, 3, 4]\n",
    "\n",
    "# pop(0): 리스트의 첫 번째 요소를 제거하고 반환합니다.\n",
    "# 시간 복잡도: O(n) (n: 리스트의 길이)\n",
    "print(l.pop(0))  # 출력: 1\n",
    "print(l)  # 출력: [2, 6, 3, 4]\n",
    "\n",
    "# remove(item): 리스트에서 item을 찾아 제거합니다. 반환값은 없습니다.\n",
    "# 시간 복잡도: O(n) (n: 리스트의 길이)\n",
    "l.remove(6)\n",
    "print(l)  # 출력: [2, 3, 4]\n",
    "\n",
    "# extend(s): 리스트에 s의 모든 요소를 추가합니다. 반환값은 없습니다.\n",
    "# 시간 복잡도: O(k) (k: 추가하는 리스트 s의 길이)\n",
    "l.extend([7, 8])\n",
    "print(l)  # 출력: [2, 3, 4, 7, 8]\n",
    "\n",
    "# l[K]: 리스트의 K 위치의 요소에 접근합니다.\n",
    "# 시간 복잡도: O(1) (상수 시간)\n",
    "print(l[2])  # 출력: 4\n",
    "\n",
    "# l1 + l2: 두 리스트를 결합하여 새 리스트를 생성하고 반환합니다.\n",
    "# 시간 복잡도: O(n+m) (n: l1의 길이, m: l2의 길이)\n",
    "print([1, 2, 3] + [4, 5, 6])  # 출력: [1, 2, 3, 4, 5, 6]\n",
    "\n",
    "# list(set): 집합을 리스트로 변환하여 중복을 제거합니다. 순서는 보장되지 않습니다.\n",
    "# 시간 복잡도: O(n) (n: 리스트/집합의 길이)\n",
    "print(list(set([1, 2, 2, 3, 3, 4])))  # 출력 : [1,2,3,4]\n",
    "\n",
    "# item in l: 리스트에 item이 있는지 확인합니다.\n",
    "# 시간 복잡도: O(n) (n: 리스트의 길이)\n",
    "print(3 in l)  # 출력: True"
   ]
  },
  {
   "cell_type": "markdown",
   "metadata": {},
   "source": [
    "2. 딕셔너리"
   ]
  },
  {
   "cell_type": "code",
   "execution_count": 3,
   "metadata": {},
   "outputs": [
    {
     "name": "stdout",
     "output_type": "stream",
     "text": [
      "1\n",
      "None\n",
      "2\n",
      "'d'\n",
      "3\n",
      "'d'\n",
      "True\n",
      "False\n"
     ]
    }
   ],
   "source": [
    "#############################################################\n",
    "# | cafe       | http://cafe.naver.com/dremdelover          |\n",
    "# | Q&A        | https://open.kakao.com/o/gX0WnTCf          |\n",
    "# | business   | ultrasuperrok@gmail.com                    |\n",
    "#############################################################\n",
    "\n",
    "# dic.get(key)\n",
    "# 딕셔너리 dic에서 주어진 key에 해당하는 값을 반환합니다. \n",
    "# key가 딕셔너리에 없으면 None을 반환합니다.\n",
    "# 시간 복잡도: O(1)\n",
    "dic = {'a': 1, 'b': 2, 'c': 3}\n",
    "value = dic.get('a')\n",
    "print(value)  # 출력값: 1\n",
    "value = dic.get('d')\n",
    "print(value)  # 출력값: None\n",
    "\n",
    "# dic[key]\n",
    "# 딕셔너리 dic에서 주어진 key에 해당하는 값을 반환합니다. \n",
    "# key가 딕셔너리에 없으면 KeyError를 발생시킵니다.\n",
    "# 시간 복잡도: O(1)\n",
    "try:\n",
    "    value = dic['b']\n",
    "    print(value)  # 출력값: 2\n",
    "    value = dic['d']\n",
    "    print(value)  # 출력값: (이 줄은 실행되지 않습니다; KeyError 발생)\n",
    "except KeyError as e:\n",
    "    print(e)  # 출력값: 'd'\n",
    "\n",
    "# dic.pop(key)\n",
    "# 딕셔너리 dic에서 주어진 key에 해당하는 항목을 제거하고 그 값을 반환합니다. \n",
    "# key가 딕셔너리에 없으면 KeyError를 발생시킵니다.\n",
    "# 시간 복잡도: O(1)\n",
    "try:\n",
    "    value = dic.pop('c')\n",
    "    print(value)  # 출력값: 3\n",
    "    value = dic.pop('d')\n",
    "    print(value)  # 출력값: (이 줄은 실행되지 않습니다; KeyError 발생)\n",
    "except KeyError as e:\n",
    "    print(e)  # 출력값: 'd'\n",
    "\n",
    "# key in dic\n",
    "# 주어진 key가 딕셔너리 dic에 있는지를 검사합니다. \n",
    "# 시간 복잡도: O(1)\n",
    "key_presence = 'a' in dic\n",
    "print(key_presence)  # 출력값: True\n",
    "key_presence = 'd' in dic\n",
    "print(key_presence)  # 출력값: False"
   ]
  },
  {
   "cell_type": "markdown",
   "metadata": {},
   "source": [
    "3. 집합"
   ]
  },
  {
   "cell_type": "code",
   "execution_count": 4,
   "metadata": {},
   "outputs": [
    {
     "name": "stdout",
     "output_type": "stream",
     "text": [
      "{1}\n",
      "set()\n",
      "set()\n",
      "{1, 2, 3, 4, 5}\n",
      "{3}\n",
      "{1, 2}\n",
      "{8, 6, 7}\n",
      "True\n"
     ]
    }
   ],
   "source": [
    "#############################################################\n",
    "# | cafe       | http://cafe.naver.com/dremdelover          |\n",
    "# | Q&A        | https://open.kakao.com/o/gX0WnTCf          |\n",
    "# | business   | ultrasuperrok@gmail.com                    |\n",
    "#############################################################\n",
    "\n",
    "# 집합 s 생성\n",
    "s = set()\n",
    "\n",
    "# s.add(item): 집합 s에 요소 item을 추가합니다.\n",
    "# 반환값: 없음\n",
    "# 시간 복잡도: O(1)\n",
    "s.add(1)  # 현재 집합: {1}\n",
    "print(s)  # 출력: {1}\n",
    "\n",
    "# s.remove(item): 집합 s에서 요소 item을 제거합니다. item이 s에 없을 경우 KeyError를 발생시킵니다.\n",
    "# 반환값: 없음\n",
    "# 시간 복잡도: O(1)\n",
    "s.remove(1)  # 현재 집합: {}\n",
    "print(s)  # 출력: set()\n",
    "\n",
    "# s.discard(item): 집합 s에서 요소 item을 제거합니다. item이 s에 없어도 에러가 발생하지 않습니다.\n",
    "# 반환값: 없음\n",
    "# 시간 복잡도: O(1)\n",
    "s.discard(1)  # 현재 집합: {} (아무 변화 없음)\n",
    "print(s)  # 출력: set()\n",
    "\n",
    "# 집합 s와 s2 생성 및 초기화\n",
    "s = {1, 2, 3}\n",
    "s2 = {3, 4, 5}\n",
    "\n",
    "# s.union(s2): 집합 s와 s2의 합집합을 반환합니다.\n",
    "# 반환값: 합집합\n",
    "# 시간 복잡도: O(len(s) + len(s2))\n",
    "print(s.union(s2))  # 출력: {1, 2, 3, 4, 5}\n",
    "\n",
    "# s.intersection(s2): 집합 s와 s2의 교집합을 반환합니다.\n",
    "# 반환값: 교집합\n",
    "# 시간 복잡도: O(min(len(s), len(s2)))\n",
    "print(s.intersection(s2))  # 출력: {3}\n",
    "\n",
    "# s.difference(s2): 집합 s에서 s2의 요소를 제거한 차집합을 반환합니다.\n",
    "# 반환값: 차집합\n",
    "# 시간 복잡도: O(len(s))\n",
    "print(s.difference(s2))  # 출력: {1, 2}\n",
    "\n",
    "# set(list): 리스트를 집합으로 변환합니다.\n",
    "# 반환값: 집합\n",
    "# 시간 복잡도: O(len(list))\n",
    "print(set([6, 7, 8]))  # 출력: {8,6,7}, {6,7,8} 등 으로 나타남, 집합은 순서를 보장하지 않으므로 순서 달라질수 있음\n",
    "\n",
    "# item in s: 집합 s에 item이 포함되어 있는지 확인합니다.\n",
    "# 반환값: bool (True 또는 False)\n",
    "# 시간 복잡도: O(1)\n",
    "print(1 in s)  # 출력: True"
   ]
  },
  {
   "cell_type": "markdown",
   "metadata": {},
   "source": [
    "4. 문자열"
   ]
  },
  {
   "cell_type": "code",
   "execution_count": 5,
   "metadata": {},
   "outputs": [
    {
     "name": "stdout",
     "output_type": "stream",
     "text": [
      "Hello World\n",
      "apple | banana | cherry\n",
      "Hello, Python!\n",
      "['apple', 'banana', 'cherry']\n",
      "True\n",
      "True\n"
     ]
    }
   ],
   "source": [
    "#############################################################\n",
    "# | cafe       | http://cafe.naver.com/dremdelover          |\n",
    "# | Q&A        | https://open.kakao.com/o/gX0WnTCf          |\n",
    "# | business   | ultrasuperrok@gmail.com                    |\n",
    "#############################################################\n",
    "\n",
    "# str1 + str2: 두 문자열 str1과 str2를 연결합니다.\n",
    "# 반환값: 새로운 문자열\n",
    "# 시간 복잡도: O(n + m), n과 m은 각각 str1과 str2의 길이입니다.\n",
    "str1 = \"Hello\"\n",
    "str2 = \" World\"\n",
    "result = str1 + str2\n",
    "print(result)  # 출력: \"Hello World\"\n",
    "\n",
    "# delimiter.join(list_of_strings): delimiter 문자열을 사용하여 list_of_strings의 모든 문자열을 연결합니다.\n",
    "# 반환값: 새로운 문자열\n",
    "# 시간 복잡도: O(n), n은 list_of_strings의 모든 문자열 길이의 합입니다.\n",
    "delimiter = \" | \"\n",
    "list_of_strings = [\"apple\", \"banana\", \"cherry\"]\n",
    "result = delimiter.join(list_of_strings)\n",
    "print(result)  # 출력: \"apple | banana | cherry\"\n",
    "\n",
    "# str.replace(old, new): 문자열 str에서 old 부분 문자열을 new 부분 문자열로 교체합니다.\n",
    "# 반환값: 새로운 문자열\n",
    "# 시간 복잡도: O(n), n은 str의 길이입니다.\n",
    "str3 = \"Hello, World!\"\n",
    "result = str3.replace(\"World\", \"Python\")\n",
    "print(result)  # 출력: \"Hello, Python!\"\n",
    "\n",
    "# str.split(sep): 문자열 str을 sep 문자열을 기준으로 나눕니다.\n",
    "# 반환값: 문자열 리스트\n",
    "# 시간 복잡도: O(n), n은 str의 길이입니다.\n",
    "str4 = \"apple,banana,cherry\"\n",
    "result = str4.split(\",\")\n",
    "print(result)  # 출력: ['apple', 'banana', 'cherry']\n",
    "\n",
    "# str.startswith(prefix): 문자열 str이 prefix로 시작하는지 확인합니다.\n",
    "# 반환값: bool (True 또는 False)\n",
    "# 시간 복잡도: O(k), k는 prefix의 길이입니다.\n",
    "str5 = \"Hello, World!\"\n",
    "result = str5.startswith(\"Hello\")\n",
    "print(result)  # 출력: True\n",
    "\n",
    "# str.endswith(suffix): 문자열 str이 suffix로 끝나는지 확인합니다.\n",
    "# 반환값: bool (True 또는 False)\n",
    "# 시간 복잡도: O(k), k는 suffix의 길이입니다.\n",
    "result = str5.endswith(\"World!\")\n",
    "print(result)  # 출력: True"
   ]
  },
  {
   "cell_type": "markdown",
   "metadata": {},
   "source": [
    "list comprehension 활용하기 1~100까지 수 중, 3과 9의 공배수인 수만 리스트에 담기도록"
   ]
  },
  {
   "cell_type": "code",
   "execution_count": 1,
   "metadata": {},
   "outputs": [
    {
     "name": "stdout",
     "output_type": "stream",
     "text": [
      "[15, 30, 45, 60, 75, 90]\n"
     ]
    }
   ],
   "source": [
    "l = [i for i in range(1,101) if i % 3== 0 and i % 5 == 0]\n",
    "\n",
    "print(l)"
   ]
  }
 ],
 "metadata": {
  "kernelspec": {
   "display_name": "base",
   "language": "python",
   "name": "python3"
  },
  "language_info": {
   "codemirror_mode": {
    "name": "ipython",
    "version": 3
   },
   "file_extension": ".py",
   "mimetype": "text/x-python",
   "name": "python",
   "nbconvert_exporter": "python",
   "pygments_lexer": "ipython3",
   "version": "3.9.12"
  }
 },
 "nbformat": 4,
 "nbformat_minor": 2
}
